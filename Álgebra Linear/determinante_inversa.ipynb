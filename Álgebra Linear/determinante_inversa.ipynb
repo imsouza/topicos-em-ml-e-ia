{
  "nbformat": 4,
  "nbformat_minor": 0,
  "metadata": {
    "colab": {
      "name": "determinante_inversa.ipynb",
      "provenance": [],
      "collapsed_sections": []
    },
    "kernelspec": {
      "name": "python3",
      "display_name": "Python 3"
    },
    "language_info": {
      "name": "python"
    }
  },
  "cells": [
    {
      "cell_type": "code",
      "metadata": {
        "id": "L3C192qbB4sR"
      },
      "source": [
        "import numpy as np"
      ],
      "execution_count": null,
      "outputs": []
    },
    {
      "cell_type": "markdown",
      "metadata": {
        "id": "ZDklz0ouCXr9"
      },
      "source": [
        "## **Criação da matriz**"
      ]
    },
    {
      "cell_type": "code",
      "metadata": {
        "id": "nPPcWhIjG4YP"
      },
      "source": [
        "matrizA = np.array([[2,5],\n",
        "                    [1,3]])\n",
        "matrizA"
      ],
      "execution_count": null,
      "outputs": []
    },
    {
      "cell_type": "code",
      "metadata": {
        "id": "JATAskce4Ueo"
      },
      "source": [
        "matrizB = np.array([[3,-5],\n",
        "                    [-1,2]])\n",
        "matrizB"
      ],
      "execution_count": null,
      "outputs": []
    },
    {
      "cell_type": "code",
      "metadata": {
        "id": "V74oqSmq4oQ3"
      },
      "source": [
        "mult = np.dot(matrizA,matrizB)\n",
        "mult"
      ],
      "execution_count": null,
      "outputs": []
    },
    {
      "cell_type": "markdown",
      "metadata": {
        "id": "tX3d9h29_59j"
      },
      "source": [
        "## **Matriz Inversa**"
      ]
    },
    {
      "cell_type": "code",
      "metadata": {
        "id": "5qEMMU6p-zLJ"
      },
      "source": [
        "matriz_inv = np.linalg.inv(matrizA)\n",
        "matriz_inv"
      ],
      "execution_count": null,
      "outputs": []
    },
    {
      "cell_type": "code",
      "metadata": {
        "id": "oZGbLHWK5Bcu"
      },
      "source": [
        "matriz_invB = np.linalg.inv(matrizB)\n",
        "matriz_invB"
      ],
      "execution_count": null,
      "outputs": []
    },
    {
      "cell_type": "code",
      "metadata": {
        "id": "psxLTgrC5p-_"
      },
      "source": [
        "matrizC = np.array([[-11,2,2],\n",
        "                    [-4,0,1],\n",
        "                    [6,-1,-1]])\n",
        "matrizC"
      ],
      "execution_count": null,
      "outputs": []
    },
    {
      "cell_type": "code",
      "metadata": {
        "id": "-mzhSl5q6Arp"
      },
      "source": [
        "matriz_invC = np.linalg.inv(matrizC)\n",
        "matriz_invC"
      ],
      "execution_count": null,
      "outputs": []
    },
    {
      "cell_type": "code",
      "metadata": {
        "id": "kb5odq1_6xvO"
      },
      "source": [
        "matrizD = np.array([[1,2,3],\n",
        "                    [4,5,6],\n",
        "                    [7,8,9]])\n",
        "matrizD"
      ],
      "execution_count": null,
      "outputs": []
    },
    {
      "cell_type": "code",
      "metadata": {
        "id": "WlYHtcXq69zy"
      },
      "source": [
        "matriz_invD = np.linalg.inv(matrizD)\n",
        "matriz_invD"
      ],
      "execution_count": null,
      "outputs": []
    },
    {
      "cell_type": "markdown",
      "metadata": {
        "id": "WjVBVfGZ7Keb"
      },
      "source": [
        "## **DETERMINANTE**"
      ]
    },
    {
      "cell_type": "code",
      "metadata": {
        "id": "IrkC4s4v7szA"
      },
      "source": [
        "matrizE = np.array([[1,3,2],\n",
        "                    [4,2,4],\n",
        "                    [3,1,5]])\n",
        "matrizE"
      ],
      "execution_count": null,
      "outputs": []
    },
    {
      "cell_type": "code",
      "metadata": {
        "id": "CBeDGeyk7KAy"
      },
      "source": [
        "detE = np.linalg.det(matrizE)\n",
        "detE"
      ],
      "execution_count": null,
      "outputs": []
    },
    {
      "cell_type": "code",
      "metadata": {
        "id": "jUBXAtJ_9db6"
      },
      "source": [
        "import scipy as sp\n",
        "from scipy import linalg"
      ],
      "execution_count": null,
      "outputs": []
    },
    {
      "cell_type": "code",
      "metadata": {
        "id": "2m_SEe4O93_c"
      },
      "source": [
        "detE = sp.linalg.det(matrizE)\n",
        "detE"
      ],
      "execution_count": null,
      "outputs": []
    },
    {
      "cell_type": "code",
      "metadata": {
        "id": "jLi3dy-O-sHj"
      },
      "source": [
        "matrizF = np.array([[2,4],\n",
        "                    [3,8]])\n",
        "matrizF"
      ],
      "execution_count": null,
      "outputs": []
    },
    {
      "cell_type": "code",
      "metadata": {
        "id": "iJU819LM_Apc"
      },
      "source": [
        "detF = np.linalg.det(matrizF)\n",
        "detF"
      ],
      "execution_count": null,
      "outputs": []
    },
    {
      "cell_type": "code",
      "metadata": {
        "id": "_57sxGyk_AzF"
      },
      "source": [
        "detF = sp.linalg.det(matrizF)\n",
        "detF"
      ],
      "execution_count": null,
      "outputs": []
    },
    {
      "cell_type": "code",
      "metadata": {
        "id": "Stf0ax6wtil5"
      },
      "source": [
        "matrizG = np.array([[1,2,3],\n",
        "                    [4,5,6],\n",
        "                    [7,8,9]])\n",
        "matrizG"
      ],
      "execution_count": null,
      "outputs": []
    },
    {
      "cell_type": "code",
      "metadata": {
        "id": "yEe66fDztk0m"
      },
      "source": [
        "detG = sp.linalg.det(matrizD)\n",
        "detG"
      ],
      "execution_count": null,
      "outputs": []
    },
    {
      "cell_type": "code",
      "metadata": {
        "id": "9xNdwgLksDKt"
      },
      "source": [
        "matrizH = np.array([[1,3,0,-2,1],\n",
        "                    [4,2,4,5,4],\n",
        "                    [0,1,5,-3,2],\n",
        "                    [-2,3,1,0,7],\n",
        "                    [0,1,9,3,2]])\n",
        "matrizH"
      ],
      "execution_count": null,
      "outputs": []
    },
    {
      "cell_type": "code",
      "metadata": {
        "id": "W6DaTYOfsZ97"
      },
      "source": [
        "detH = sp.linalg.det(matrizH)\n",
        "detH"
      ],
      "execution_count": null,
      "outputs": []
    }
  ]
}