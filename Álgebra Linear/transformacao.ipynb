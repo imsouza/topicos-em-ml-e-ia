{
 "cells": [
  {
   "cell_type": "markdown",
   "metadata": {
    "id": "y0gO3YAT_ClI"
   },
   "source": [
    "# **TRANSFORMAÇÃO LINEAR**"
   ]
  },
  {
   "cell_type": "markdown",
   "metadata": {
    "id": "F68kiXTP_KsF"
   },
   "source": [
    "## **Homotetia**"
   ]
  },
  {
   "cell_type": "code",
   "execution_count": 1,
   "metadata": {
    "id": "g4PzgSnU3LSd"
   },
   "outputs": [],
   "source": [
    "import numpy as np\n",
    "import matplotlib.pyplot as plt"
   ]
  },
  {
   "cell_type": "code",
   "execution_count": 2,
   "metadata": {
    "id": "L_7d2JOg4Obj"
   },
   "outputs": [
    {
     "data": {
      "text/plain": [
       "array([[2],\n",
       "       [1]])"
      ]
     },
     "execution_count": 2,
     "metadata": {},
     "output_type": "execute_result"
    }
   ],
   "source": [
    "# Vetor que receberá a transformação\n",
    "vetorH = np.array([[2],[1]])\n",
    "vetorH"
   ]
  },
  {
   "cell_type": "code",
   "execution_count": 3,
   "metadata": {
    "id": "K_oChGoV31N7"
   },
   "outputs": [],
   "source": [
    "# Parâmetro de proporção\n",
    "k = 3"
   ]
  },
  {
   "cell_type": "code",
   "execution_count": 4,
   "metadata": {
    "id": "M73uDg1d3fVV"
   },
   "outputs": [],
   "source": [
    "# Matriz de transformação\n",
    "T = np.array([[k,0],\n",
    "              [0,k]])"
   ]
  },
  {
   "cell_type": "code",
   "execution_count": 5,
   "metadata": {
    "id": "UsL--iJI5Rho"
   },
   "outputs": [],
   "source": [
    "# Coordenadas do vetor\n",
    "x = [vetorH[0],0]\n",
    "y = [0,vetorH[1]]"
   ]
  },
  {
   "cell_type": "code",
   "execution_count": 6,
   "metadata": {
    "id": "300Ao5ES5Efg"
   },
   "outputs": [
    {
     "data": {
      "image/png": "[encoded data removed]",
      "text/plain": [
       "<Figure size 432x288 with 1 Axes>"
      ]
     },
     "metadata": {
      "needs_background": "light"
     },
     "output_type": "display_data"
    }
   ],
   "source": [
    "plt.plot(x, y, color = \"blue\");"
   ]
  },
  {
   "cell_type": "code",
   "execution_count": 65,
   "metadata": {
    "id": "J3RP9AtH9kEp"
   },
   "outputs": [
    {
     "data": {
      "text/plain": [
       "array([[2],\n",
       "       [2]])"
      ]
     },
     "execution_count": 65,
     "metadata": {},
     "output_type": "execute_result"
    }
   ],
   "source": [
    "# Cálculo para transformação\n",
    "matrizT = np.dot(T, vetorH)\n",
    "matrizT"
   ]
  },
  {
   "cell_type": "code",
   "execution_count": 8,
   "metadata": {
    "id": "rFBZucQD9zoh"
   },
   "outputs": [],
   "source": [
    "xT = [matrizT[0],0]\n",
    "yT = [0,matrizT[1]]"
   ]
  },
  {
   "cell_type": "code",
   "execution_count": 9,
   "metadata": {
    "id": "qGAMCPqn-Dfu"
   },
   "outputs": [
    {
     "data": {
      "image/png": "[encoded data removed]",
      "text/plain": [
       "<Figure size 432x288 with 1 Axes>"
      ]
     },
     "metadata": {
      "needs_background": "light"
     },
     "output_type": "display_data"
    }
   ],
   "source": [
    "plt.plot(x, y, color = \"blue\")\n",
    "plt.plot(xT, yT, color = \"red\")\n",
    "plt.show();"
   ]
  },
  {
   "cell_type": "markdown",
   "metadata": {
    "id": "cRj4HSksBGsn"
   },
   "source": [
    "## **Translação**"
   ]
  },
  {
   "cell_type": "code",
   "execution_count": 10,
   "metadata": {
    "id": "Kl3JLxiBDpVo"
   },
   "outputs": [],
   "source": [
    "import numpy as np\n",
    "import matplotlib.pyplot as plt"
   ]
  },
  {
   "cell_type": "code",
   "execution_count": 11,
   "metadata": {
    "id": "oW69iM2aDpWD"
   },
   "outputs": [
    {
     "data": {
      "text/plain": [
       "array([[3, 2],\n",
       "       [2, 5]])"
      ]
     },
     "execution_count": 11,
     "metadata": {},
     "output_type": "execute_result"
    }
   ],
   "source": [
    "# Vetor que receberá a transformação\n",
    "vetorT = np.array([[3,2],[2,5]])\n",
    "vetorT"
   ]
  },
  {
   "cell_type": "code",
   "execution_count": 12,
   "metadata": {
    "id": "2BqYy2NiDpWG"
   },
   "outputs": [
    {
     "data": {
      "text/plain": [
       "array([[4, 1],\n",
       "       [4, 1]])"
      ]
     },
     "execution_count": 12,
     "metadata": {},
     "output_type": "execute_result"
    }
   ],
   "source": [
    "# Matriz de transformação\n",
    "T = np.array([[4,1],\n",
    "              [4,1]])\n",
    "T"
   ]
  },
  {
   "cell_type": "code",
   "execution_count": 13,
   "metadata": {
    "id": "SnkXdAf8DpWG"
   },
   "outputs": [],
   "source": [
    "# Coordenadas do vetor\n",
    "x = [vetorT[0][0],vetorT[1][0]]\n",
    "y = [vetorT[0][1],vetorT[1][1]]"
   ]
  },
  {
   "cell_type": "code",
   "execution_count": 14,
   "metadata": {
    "id": "LdmWMRZADpWH"
   },
   "outputs": [
    {
     "data": {
      "image/png": "[encoded data removed]",
      "text/plain": [
       "<Figure size 432x288 with 1 Axes>"
      ]
     },
     "metadata": {
      "needs_background": "light"
     },
     "output_type": "display_data"
    }
   ],
   "source": [
    "plt.plot(x, y, color = \"blue\");"
   ]
  },
  {
   "cell_type": "code",
   "execution_count": 15,
   "metadata": {
    "id": "Mww85Nl8DpWI"
   },
   "outputs": [
    {
     "data": {
      "text/plain": [
       "array([[7, 3],\n",
       "       [6, 6]])"
      ]
     },
     "execution_count": 15,
     "metadata": {},
     "output_type": "execute_result"
    }
   ],
   "source": [
    "# Cálculo para transformação\n",
    "matrizT = vetorT + T\n",
    "matrizT"
   ]
  },
  {
   "cell_type": "code",
   "execution_count": 16,
   "metadata": {
    "id": "Y5oEdrR3DpWJ"
   },
   "outputs": [],
   "source": [
    "xT = [matrizT[0][0],matrizT[1][0]]\n",
    "yT = [matrizT[0][1],matrizT[1][1]]"
   ]
  },
  {
   "cell_type": "code",
   "execution_count": 17,
   "metadata": {
    "id": "mM1XmQvfDpWJ"
   },
   "outputs": [
    {
     "data": {
      "image/png": "[encoded data removed]",
      "text/plain": [
       "<Figure size 432x288 with 1 Axes>"
      ]
     },
     "metadata": {
      "needs_background": "light"
     },
     "output_type": "display_data"
    }
   ],
   "source": [
    "plt.plot(x, y, color = \"blue\")\n",
    "plt.plot(xT, yT, color = \"red\")\n",
    "plt.show();"
   ]
  },
  {
   "cell_type": "markdown",
   "metadata": {
    "id": "a6dkoE3CDpWM"
   },
   "source": [
    "## **Rotação**"
   ]
  },
  {
   "cell_type": "code",
   "execution_count": 18,
   "metadata": {
    "id": "Cab_nRlTMR7x"
   },
   "outputs": [],
   "source": [
    "import numpy as np\n",
    "import matplotlib.pyplot as plt"
   ]
  },
  {
   "cell_type": "code",
   "execution_count": 19,
   "metadata": {
    "id": "AftX-u4HMR7y"
   },
   "outputs": [
    {
     "data": {
      "text/plain": [
       "array([[4],\n",
       "       [1]])"
      ]
     },
     "execution_count": 19,
     "metadata": {},
     "output_type": "execute_result"
    }
   ],
   "source": [
    "# Vetor que receberá a transformação\n",
    "vetorR = np.array([[4],[1]])\n",
    "vetorR"
   ]
  },
  {
   "cell_type": "code",
   "execution_count": 20,
   "metadata": {
    "id": "1AUTZ3CxM0s_"
   },
   "outputs": [],
   "source": [
    "# pi radiano = 180 graus\n",
    "# Ângulo de rotação (60 graus = pi/3 radianos)\n",
    "alfa = (np.pi/3)"
   ]
  },
  {
   "cell_type": "code",
   "execution_count": 21,
   "metadata": {
    "id": "mOwq64yKMR70"
   },
   "outputs": [
    {
     "data": {
      "text/plain": [
       "array([[ 0.5      , -0.8660254],\n",
       "       [ 0.8660254,  0.5      ]])"
      ]
     },
     "execution_count": 21,
     "metadata": {},
     "output_type": "execute_result"
    }
   ],
   "source": [
    "# Matriz de transformação\n",
    "T = np.array([[np.cos(alfa), (-np.sin(alfa))],\n",
    "              [np.sin(alfa), np.cos(alfa)]])\n",
    "T"
   ]
  },
  {
   "cell_type": "code",
   "execution_count": 22,
   "metadata": {
    "id": "WzPGSFYrMR71"
   },
   "outputs": [],
   "source": [
    "# Coordenadas do vetor\n",
    "x = [0,vetorR[0]]\n",
    "y = [0,vetorR[1]]"
   ]
  },
  {
   "cell_type": "code",
   "execution_count": 23,
   "metadata": {
    "id": "6MKrNzUtMR71"
   },
   "outputs": [
    {
     "data": {
      "image/png": "[encoded data removed]",
      "text/plain": [
       "<Figure size 432x288 with 1 Axes>"
      ]
     },
     "metadata": {
      "needs_background": "light"
     },
     "output_type": "display_data"
    }
   ],
   "source": [
    "plt.plot(x, y, color = \"blue\");"
   ]
  },
  {
   "cell_type": "code",
   "execution_count": 24,
   "metadata": {
    "id": "_G5rr0F2MR72"
   },
   "outputs": [
    {
     "data": {
      "text/plain": [
       "array([[1.1339746 ],\n",
       "       [3.96410162]])"
      ]
     },
     "execution_count": 24,
     "metadata": {},
     "output_type": "execute_result"
    }
   ],
   "source": [
    "# Cálculo para transformação\n",
    "matrizT = np.dot(T, vetorR)\n",
    "matrizT"
   ]
  },
  {
   "cell_type": "code",
   "execution_count": 25,
   "metadata": {
    "id": "5pK6UhKFMR73"
   },
   "outputs": [],
   "source": [
    "xT = [0,matrizT[0]]\n",
    "yT = [0,matrizT[1]]"
   ]
  },
  {
   "cell_type": "code",
   "execution_count": 26,
   "metadata": {
    "id": "wRKSWlwfMR73"
   },
   "outputs": [
    {
     "data": {
      "image/png": "[encoded data removed]",
      "text/plain": [
       "<Figure size 432x288 with 1 Axes>"
      ]
     },
     "metadata": {
      "needs_background": "light"
     },
     "output_type": "display_data"
    }
   ],
   "source": [
    "plt.plot(x, y, color = \"blue\")\n",
    "plt.plot(xT, yT, color = \"red\");"
   ]
  },
  {
   "cell_type": "markdown",
   "metadata": {
    "id": "T50hFJGMPadz"
   },
   "source": [
    "## **Reflexão**"
   ]
  },
  {
   "cell_type": "code",
   "execution_count": 27,
   "metadata": {
    "id": "WsD5x8E-xCMW"
   },
   "outputs": [],
   "source": [
    "import numpy as np\n",
    "import matplotlib.pyplot as plt"
   ]
  },
  {
   "cell_type": "code",
   "execution_count": 28,
   "metadata": {
    "id": "HgMg7JgsxCMw"
   },
   "outputs": [
    {
     "data": {
      "text/plain": [
       "array([[1],\n",
       "       [3]])"
      ]
     },
     "execution_count": 28,
     "metadata": {},
     "output_type": "execute_result"
    }
   ],
   "source": [
    "# Vetor que receberá a transformação\n",
    "vetorRe = np.array([[1],[3]])\n",
    "vetorRe"
   ]
  },
  {
   "cell_type": "code",
   "execution_count": 29,
   "metadata": {
    "id": "nnufUHBgxCMz"
   },
   "outputs": [
    {
     "data": {
      "text/plain": [
       "array([[ 1,  0],\n",
       "       [ 0, -1]])"
      ]
     },
     "execution_count": 29,
     "metadata": {},
     "output_type": "execute_result"
    }
   ],
   "source": [
    "# Matriz de transformação\n",
    "T = np.array([[1, 0],\n",
    "              [0, -1]])\n",
    "T"
   ]
  },
  {
   "cell_type": "code",
   "execution_count": 30,
   "metadata": {
    "id": "Hh4d4fBJxCM0"
   },
   "outputs": [],
   "source": [
    "# Coordenadas do vetor\n",
    "x = [0,vetorRe[0]]\n",
    "y = [0,vetorRe[1]]"
   ]
  },
  {
   "cell_type": "code",
   "execution_count": 31,
   "metadata": {
    "id": "tTkpW11WxCM0"
   },
   "outputs": [
    {
     "data": {
      "image/png": "[encoded data removed]",
      "text/plain": [
       "<Figure size 432x288 with 1 Axes>"
      ]
     },
     "metadata": {
      "needs_background": "light"
     },
     "output_type": "display_data"
    }
   ],
   "source": [
    "plt.plot(x, y, color = \"blue\");"
   ]
  },
  {
   "cell_type": "code",
   "execution_count": 32,
   "metadata": {
    "id": "N7eFnvP2xCM3"
   },
   "outputs": [
    {
     "data": {
      "text/plain": [
       "array([[ 1],\n",
       "       [-3]])"
      ]
     },
     "execution_count": 32,
     "metadata": {},
     "output_type": "execute_result"
    }
   ],
   "source": [
    "# Cálculo para transformação\n",
    "matrizT = np.dot(T, vetorRe)\n",
    "matrizT"
   ]
  },
  {
   "cell_type": "code",
   "execution_count": 33,
   "metadata": {
    "id": "J66AQdulxCM3"
   },
   "outputs": [],
   "source": [
    "xT = [0,matrizT[0]]\n",
    "yT = [0,matrizT[1]]"
   ]
  },
  {
   "cell_type": "code",
   "execution_count": 34,
   "metadata": {
    "id": "Hpkj3e2QxCM3"
   },
   "outputs": [
    {
     "data": {
      "image/png": "[encoded data removed]",
      "text/plain": [
       "<Figure size 432x288 with 1 Axes>"
      ]
     },
     "metadata": {
      "needs_background": "light"
     },
     "output_type": "display_data"
    }
   ],
   "source": [
    "plt.plot(x, y, color = \"blue\")\n",
    "plt.plot(xT, yT, color = \"red\");"
   ]
  },
  {
   "cell_type": "markdown",
   "metadata": {
    "id": "wdsQ7f6Dy0yt"
   },
   "source": [
    "## **Cisalhamento**"
   ]
  },
  {
   "cell_type": "code",
   "execution_count": 35,
   "metadata": {
    "id": "gsIMRL3Ty0yu"
   },
   "outputs": [],
   "source": [
    "import numpy as np\n",
    "import matplotlib.pyplot as plt"
   ]
  },
  {
   "cell_type": "code",
   "execution_count": 36,
   "metadata": {
    "id": "A79RgLlFy0yu"
   },
   "outputs": [
    {
     "data": {
      "text/plain": [
       "array([[2],\n",
       "       [2]])"
      ]
     },
     "execution_count": 36,
     "metadata": {},
     "output_type": "execute_result"
    }
   ],
   "source": [
    "# Vetor que receberá a transformação\n",
    "vetorC = np.array([[2],[2]])\n",
    "vetorC"
   ]
  },
  {
   "cell_type": "code",
   "execution_count": 37,
   "metadata": {
    "id": "RSil5H_40SEH"
   },
   "outputs": [],
   "source": [
    "# constante cisalhante\n",
    "k = 3"
   ]
  },
  {
   "cell_type": "markdown",
   "metadata": {
    "id": "cV2On1yS8QFH"
   },
   "source": [
    "### **Eixo x**"
   ]
  },
  {
   "cell_type": "code",
   "execution_count": 38,
   "metadata": {
    "id": "ytyNt49Jy0yw"
   },
   "outputs": [
    {
     "data": {
      "text/plain": [
       "array([[1, 3],\n",
       "       [0, 1]])"
      ]
     },
     "execution_count": 38,
     "metadata": {},
     "output_type": "execute_result"
    }
   ],
   "source": [
    "# Matriz de transformação\n",
    "T = np.array([[1, k],\n",
    "              [0, 1]])\n",
    "T"
   ]
  },
  {
   "cell_type": "code",
   "execution_count": 39,
   "metadata": {
    "id": "twWaUhSIy0yw"
   },
   "outputs": [],
   "source": [
    "# Coordenadas do vetor\n",
    "x = [vetorC[0],vetorC[0]]\n",
    "y = [0,vetorC[1]]"
   ]
  },
  {
   "cell_type": "code",
   "execution_count": 40,
   "metadata": {
    "id": "ULKF5eXdy0yx"
   },
   "outputs": [
    {
     "data": {
      "image/png": "[encoded data removed]",
      "text/plain": [
       "<Figure size 432x288 with 1 Axes>"
      ]
     },
     "metadata": {
      "needs_background": "light"
     },
     "output_type": "display_data"
    }
   ],
   "source": [
    "plt.plot(x, y, color = \"blue\");"
   ]
  },
  {
   "cell_type": "code",
   "execution_count": 41,
   "metadata": {
    "id": "B63K6fSdy0yx"
   },
   "outputs": [
    {
     "data": {
      "text/plain": [
       "array([[8],\n",
       "       [2]])"
      ]
     },
     "execution_count": 41,
     "metadata": {},
     "output_type": "execute_result"
    }
   ],
   "source": [
    "# Cálculo para transformação\n",
    "matrizT = np.dot(T, vetorC)\n",
    "matrizT"
   ]
  },
  {
   "cell_type": "code",
   "execution_count": 42,
   "metadata": {
    "id": "SF2vgjMqy0yz"
   },
   "outputs": [],
   "source": [
    "xT = [matrizT[1]+2, matrizT[0]]\n",
    "yT = [0,matrizT[1]]"
   ]
  },
  {
   "cell_type": "code",
   "execution_count": 43,
   "metadata": {
    "id": "1uZrIwK9y0yz"
   },
   "outputs": [
    {
     "data": {
      "image/png": "[encoded data removed]",
      "text/plain": [
       "<Figure size 432x288 with 1 Axes>"
      ]
     },
     "metadata": {
      "needs_background": "light"
     },
     "output_type": "display_data"
    }
   ],
   "source": [
    "plt.plot(x, y, color = \"blue\")\n",
    "plt.plot(xT, yT, color = \"red\");"
   ]
  },
  {
   "cell_type": "markdown",
   "metadata": {
    "id": "ZWr202ml8XpO"
   },
   "source": [
    "### **Eixo y**"
   ]
  },
  {
   "cell_type": "code",
   "execution_count": 44,
   "metadata": {
    "id": "q80nS2Ri8YOP"
   },
   "outputs": [
    {
     "data": {
      "text/plain": [
       "array([[1, 0],\n",
       "       [3, 1]])"
      ]
     },
     "execution_count": 44,
     "metadata": {},
     "output_type": "execute_result"
    }
   ],
   "source": [
    "# Matriz de transformação\n",
    "T = np.array([[1, 0],\n",
    "              [k, 1]])\n",
    "T"
   ]
  },
  {
   "cell_type": "code",
   "execution_count": 45,
   "metadata": {
    "id": "FbNoDiO88YOR"
   },
   "outputs": [],
   "source": [
    "# Coordenadas do vetor\n",
    "x = [0,vetorC[0]]\n",
    "y = [vetorC[1],vetorC[1]]"
   ]
  },
  {
   "cell_type": "code",
   "execution_count": 46,
   "metadata": {
    "id": "ZKU2pQun8YOR"
   },
   "outputs": [
    {
     "data": {
      "image/png": "[encoded data removed]",
      "text/plain": [
       "<Figure size 432x288 with 1 Axes>"
      ]
     },
     "metadata": {
      "needs_background": "light"
     },
     "output_type": "display_data"
    }
   ],
   "source": [
    "plt.plot(x, y, color = \"blue\");"
   ]
  },
  {
   "cell_type": "code",
   "execution_count": 47,
   "metadata": {
    "id": "tM6huZXO8YOS"
   },
   "outputs": [
    {
     "data": {
      "text/plain": [
       "array([[2],\n",
       "       [8]])"
      ]
     },
     "execution_count": 47,
     "metadata": {},
     "output_type": "execute_result"
    }
   ],
   "source": [
    "# Cálculo para transformação\n",
    "matrizT = np.dot(T, vetorC)\n",
    "matrizT"
   ]
  },
  {
   "cell_type": "code",
   "execution_count": 48,
   "metadata": {
    "id": "brAJ1yZd8YOS"
   },
   "outputs": [],
   "source": [
    "xT = [0,matrizT[0]]\n",
    "yT = [matrizT[0],matrizT[1]]"
   ]
  },
  {
   "cell_type": "code",
   "execution_count": 49,
   "metadata": {
    "id": "Cxs6RdN58YOT"
   },
   "outputs": [
    {
     "data": {
      "image/png": "[encoded data removed]",
      "text/plain": [
       "<Figure size 432x288 with 1 Axes>"
      ]
     },
     "metadata": {
      "needs_background": "light"
     },
     "output_type": "display_data"
    }
   ],
   "source": [
    "plt.plot(x, y, color = \"blue\")\n",
    "plt.plot(xT, yT, color = \"red\");"
   ]
  },
  {
   "cell_type": "markdown",
   "metadata": {
    "id": "9YNEbgWu-L2s"
   },
   "source": [
    "## **Alongamento e Contração**"
   ]
  },
  {
   "cell_type": "code",
   "execution_count": 50,
   "metadata": {
    "id": "pFdPYAAS-L2t"
   },
   "outputs": [],
   "source": [
    "import numpy as np\n",
    "import matplotlib.pyplot as plt"
   ]
  },
  {
   "cell_type": "code",
   "execution_count": 51,
   "metadata": {
    "id": "RMgFzCRH-L2u"
   },
   "outputs": [
    {
     "data": {
      "text/plain": [
       "array([[4],\n",
       "       [2]])"
      ]
     },
     "execution_count": 51,
     "metadata": {},
     "output_type": "execute_result"
    }
   ],
   "source": [
    "# Vetor que receberá a transformação\n",
    "vetorA = np.array([[4],[2]])\n",
    "vetorA"
   ]
  },
  {
   "cell_type": "code",
   "execution_count": 52,
   "metadata": {
    "id": "7cJiL3Hs-L2v"
   },
   "outputs": [],
   "source": [
    "# constante:\n",
    "# alongamento: k > 1\n",
    "# contração: 0 < k < 1\n",
    "k = 2 "
   ]
  },
  {
   "cell_type": "markdown",
   "metadata": {
    "id": "ot3dTOgQ-L2v"
   },
   "source": [
    "### **Eixo x**"
   ]
  },
  {
   "cell_type": "code",
   "execution_count": 53,
   "metadata": {
    "id": "OJRa9oae-L2w"
   },
   "outputs": [
    {
     "data": {
      "text/plain": [
       "array([[2, 0],\n",
       "       [0, 1]])"
      ]
     },
     "execution_count": 53,
     "metadata": {},
     "output_type": "execute_result"
    }
   ],
   "source": [
    "# Matriz de transformação\n",
    "T = np.array([[k, 0],\n",
    "              [0, 1]])\n",
    "T"
   ]
  },
  {
   "cell_type": "code",
   "execution_count": 54,
   "metadata": {
    "id": "jcDXpkZQ-L2w"
   },
   "outputs": [],
   "source": [
    "# Coordenadas do vetor\n",
    "x = [0,vetorA[0]]\n",
    "y = [vetorA[1],vetorA[1]]"
   ]
  },
  {
   "cell_type": "code",
   "execution_count": 55,
   "metadata": {
    "id": "dm5HYaBc-L2x"
   },
   "outputs": [
    {
     "data": {
      "image/png": "[encoded data removed]",
      "text/plain": [
       "<Figure size 432x288 with 1 Axes>"
      ]
     },
     "metadata": {
      "needs_background": "light"
     },
     "output_type": "display_data"
    }
   ],
   "source": [
    "plt.plot(x, y, color = \"blue\");"
   ]
  },
  {
   "cell_type": "code",
   "execution_count": 56,
   "metadata": {
    "id": "xZB0YTcL-L2y"
   },
   "outputs": [
    {
     "data": {
      "text/plain": [
       "array([[8],\n",
       "       [2]])"
      ]
     },
     "execution_count": 56,
     "metadata": {},
     "output_type": "execute_result"
    }
   ],
   "source": [
    "# Cálculo para transformação\n",
    "matrizT = np.dot(T, vetorA)\n",
    "matrizT"
   ]
  },
  {
   "cell_type": "code",
   "execution_count": 57,
   "metadata": {
    "id": "W1oVXJoe-L2z"
   },
   "outputs": [],
   "source": [
    "xT = [0+6,matrizT[0]+6]\n",
    "yT = [matrizT[1],matrizT[1]]"
   ]
  },
  {
   "cell_type": "code",
   "execution_count": 58,
   "metadata": {
    "id": "q_q0ZlNe-L2z"
   },
   "outputs": [
    {
     "data": {
      "image/png": "[encoded data removed]",
      "text/plain": [
       "<Figure size 432x288 with 1 Axes>"
      ]
     },
     "metadata": {
      "needs_background": "light"
     },
     "output_type": "display_data"
    }
   ],
   "source": [
    "plt.plot(x, y, color = \"blue\")\n",
    "plt.plot(xT, yT, color = \"red\");"
   ]
  },
  {
   "cell_type": "markdown",
   "metadata": {
    "id": "mErHTR2m-L22"
   },
   "source": [
    "### **Eixo y**"
   ]
  },
  {
   "cell_type": "code",
   "execution_count": 59,
   "metadata": {
    "id": "KfHw4rxIIk39"
   },
   "outputs": [
    {
     "data": {
      "text/plain": [
       "array([[1, 0],\n",
       "       [0, 2]])"
      ]
     },
     "execution_count": 59,
     "metadata": {},
     "output_type": "execute_result"
    }
   ],
   "source": [
    "# Matriz de transformação\n",
    "T = np.array([[1, 0],\n",
    "              [0, k]])\n",
    "T"
   ]
  },
  {
   "cell_type": "code",
   "execution_count": 60,
   "metadata": {
    "id": "iDRS2AcZIk4W"
   },
   "outputs": [],
   "source": [
    "# Coordenadas do vetor\n",
    "x = [vetorA[0],vetorA[0]]\n",
    "y = [0,vetorA[1]]"
   ]
  },
  {
   "cell_type": "code",
   "execution_count": 61,
   "metadata": {
    "id": "OM5uP0s9Ik4X"
   },
   "outputs": [
    {
     "data": {
      "image/png": "[encoded data removed]",
      "text/plain": [
       "<Figure size 432x288 with 1 Axes>"
      ]
     },
     "metadata": {
      "needs_background": "light"
     },
     "output_type": "display_data"
    }
   ],
   "source": [
    "plt.plot(x, y, color = \"blue\");"
   ]
  },
  {
   "cell_type": "code",
   "execution_count": 62,
   "metadata": {
    "id": "qql-0B_uIk4Y"
   },
   "outputs": [
    {
     "data": {
      "text/plain": [
       "array([[4],\n",
       "       [4]])"
      ]
     },
     "execution_count": 62,
     "metadata": {},
     "output_type": "execute_result"
    }
   ],
   "source": [
    "# Cálculo para transformação\n",
    "matrizT = np.dot(T, vetorA)\n",
    "matrizT"
   ]
  },
  {
   "cell_type": "code",
   "execution_count": 63,
   "metadata": {
    "id": "DiQUufzCIk4Y"
   },
   "outputs": [],
   "source": [
    "xT = [matrizT[0],matrizT[0]]\n",
    "yT = [0+4,matrizT[1]+4]"
   ]
  },
  {
   "cell_type": "code",
   "execution_count": 64,
   "metadata": {
    "id": "Wr_VP7V7Ik4Z"
   },
   "outputs": [
    {
     "data": {
      "image/png": "[encoded data removed]",
      "text/plain": [
       "<Figure size 432x288 with 1 Axes>"
      ]
     },
     "metadata": {
      "needs_background": "light"
     },
     "output_type": "display_data"
    }
   ],
   "source": [
    "plt.plot(x, y, color = \"blue\")\n",
    "plt.plot(xT, yT, color = \"red\");"
   ]
  }
 ],
 "metadata": {
  "colab": {
   "name": "transformacao.ipynb",
   "provenance": []
  },
  "kernelspec": {
   "display_name": "Python 3",
   "language": "python",
   "name": "python3"
  },
  "language_info": {
   "codemirror_mode": {
    "name": "ipython",
    "version": 3
   },
   "file_extension": ".py",
   "mimetype": "text/x-python",
   "name": "python",
   "nbconvert_exporter": "python",
   "pygments_lexer": "ipython3",
   "version": "3.8.10"
  }
 },
 "nbformat": 4,
 "nbformat_minor": 1
}
