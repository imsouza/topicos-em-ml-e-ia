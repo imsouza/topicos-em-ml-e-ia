{
  "nbformat": 4,
  "nbformat_minor": 0,
  "metadata": {
    "colab": {
      "name": "Untitled2.ipynb",
      "provenance": []
    },
    "kernelspec": {
      "name": "python3",
      "display_name": "Python 3"
    },
    "language_info": {
      "name": "python"
    }
  },
  "cells": [
    {
      "cell_type": "markdown",
      "metadata": {
        "id": "KY89BdebDES6"
      },
      "source": [
        "# Importando Bibliotecas"
      ]
    },
    {
      "cell_type": "code",
      "metadata": {
        "id": "-5OIYgBbDIH2"
      },
      "source": [
        "import torch\n",
        "import torch.nn as nn\n",
        "import numpy as np\n",
        "import matplotlib.pyplot as plt\n",
        "from sklearn import datasets\n",
        "from PIL import Image, ImageDraw\n",
        "from torch.autograd import Variable"
      ],
      "execution_count": 21,
      "outputs": []
    },
    {
      "cell_type": "markdown",
      "metadata": {
        "id": "lZungurGDVP2"
      },
      "source": [
        "# Preparação dos Dados"
      ]
    },
    {
      "cell_type": "code",
      "metadata": {
        "colab": {
          "base_uri": "https://localhost:8080/",
          "height": 317
        },
        "id": "8AQrUyF0DTdK",
        "outputId": "a5640b9c-d686-472c-e8f0-e080a58da063"
      },
      "source": [
        "x_numpy = np.array([5,7,2,9,4,10,9,4,6,1])\n",
        "y_numpy = np.array([1,1,0,1,0,1,1,0,1,0])\n",
        "\n",
        "x = torch.from_numpy(x_numpy.astype(np.float32))\n",
        "y = torch.from_numpy(y_numpy.astype(np.float32))\n",
        "y = y.view(y.shape[0], 1)\n",
        "x = x.view(x.shape[0], 1)\n",
        "\n",
        "print(x.shape)\n",
        "print(y.shape)\n",
        "\n",
        "plt.plot(x_numpy, y_numpy, 'ro')"
      ],
      "execution_count": 22,
      "outputs": [
        {
          "output_type": "stream",
          "name": "stdout",
          "text": [
            "torch.Size([10, 1])\n",
            "torch.Size([10, 1])\n"
          ]
        },
        {
          "output_type": "execute_result",
          "data": {
            "text/plain": [
              "[<matplotlib.lines.Line2D at 0x7fd32a39a850>]"
            ]
          },
          "metadata": {},
          "execution_count": 22
        },
        {
          "output_type": "display_data",
          "data": {
            "image/png": "[encoded data removed]",
            "text/plain": [
              "<Figure size 432x288 with 1 Axes>"
            ]
          },
          "metadata": {
            "needs_background": "light"
          }
        }
      ]
    },
    {
      "cell_type": "markdown",
      "metadata": {
        "id": "Kve0a7pAGAyN"
      },
      "source": [
        "# Classe de Regressão Logística"
      ]
    },
    {
      "cell_type": "code",
      "metadata": {
        "id": "SUpuCIGtGBfc"
      },
      "source": [
        "class RegressaoLogistica(nn.Module):\n",
        "  def __init__(self, n_input, n_output):\n",
        "    super(RegressaoLogistica, self).__init__()\n",
        "    self.Linear = nn.Linear(n_input, 1)\n",
        "\n",
        "  def forward(self, x):\n",
        "    y_hat = torch.sigmoid(self.Linear(x))\n",
        "    return y_hat"
      ],
      "execution_count": 23,
      "outputs": []
    },
    {
      "cell_type": "markdown",
      "metadata": {
        "id": "0NGX86tTGqkj"
      },
      "source": [
        "# Definição do Modelo"
      ]
    },
    {
      "cell_type": "code",
      "metadata": {
        "id": "sM1E4sdWGsnu"
      },
      "source": [
        "input_size = 1\n",
        "output_size = 1\n",
        "model = RegressaoLogistica(1,1)"
      ],
      "execution_count": 24,
      "outputs": []
    },
    {
      "cell_type": "markdown",
      "metadata": {
        "id": "A21VfqWRGyxb"
      },
      "source": [
        "# Definição da Função de Custo e Otimizador"
      ]
    },
    {
      "cell_type": "code",
      "metadata": {
        "colab": {
          "base_uri": "https://localhost:8080/"
        },
        "id": "V1IyMDQNG7vY",
        "outputId": "8ba6756a-917f-4122-bdff-a06b291030d6"
      },
      "source": [
        "learning_rate = 0.01\n",
        "criterion = nn.BCELoss()\n",
        "optimizer = torch.optim.SGD(model.parameters(), lr=learning_rate)\n",
        "print (model.parameters())"
      ],
      "execution_count": 25,
      "outputs": [
        {
          "output_type": "stream",
          "name": "stdout",
          "text": [
            "<generator object Module.parameters at 0x7fd32a40e8d0>\n"
          ]
        }
      ]
    },
    {
      "cell_type": "markdown",
      "metadata": {
        "id": "w32m1MKDHYt3"
      },
      "source": [
        "# Loop de Treinamento"
      ]
    },
    {
      "cell_type": "code",
      "metadata": {
        "colab": {
          "base_uri": "https://localhost:8080/"
        },
        "id": "q78wi83rHcDL",
        "outputId": "6e1d1e4d-0772-46fb-f414-3d1455cbdb97"
      },
      "source": [
        "num_epochs = 200\n",
        "contador_custo = []\n",
        "for epoch in range(num_epochs):\n",
        "  # forward pass and loos\n",
        "  y_hat = model(x)\n",
        "  loss = criterion(y_hat, y)\n",
        "  contador_custo.append(loss)\n",
        "  #print(y_hat)\n",
        "\n",
        "  \n",
        "  # backward pass (calcular gradientes)\n",
        "  loss.backward()\n",
        "\n",
        "  # update (atualizar os pesos)\n",
        "  optimizer.step()\n",
        "\n",
        "  if (epoch+1)%10 == 0:\n",
        "      print(\"===============================\")\n",
        "      print('Epoch: ', epoch)\n",
        "      print('Custo: {:.20f}'.format(loss.item())) \n",
        "      print('m: {:.5f}'.format(model.Linear.weight.data.detach().item()))\n",
        "      print('m (gradiente): {:.5f}'.format(model.Linear.weight.grad.detach().item()))\n",
        "      print('b: {:.5f}'.format(model.Linear.bias.data.detach().item()))\n",
        "      print('b (gradiente): {:.5f}'.format(model.Linear.bias.grad.detach().item()))\n",
        "     \n",
        "  # limpar o otimizador\n",
        "  optimizer.zero_grad()"
      ],
      "execution_count": 26,
      "outputs": [
        {
          "output_type": "stream",
          "name": "stdout",
          "text": [
            "===============================\n",
            "Epoch:  9\n",
            "Custo: 0.63114619255065917969\n",
            "m: 0.07456\n",
            "m (gradiente): -0.34656\n",
            "b: 0.57461\n",
            "b (gradiente): 0.12542\n",
            "===============================\n",
            "Epoch:  19\n",
            "Custo: 0.62252062559127807617\n",
            "m: 0.09871\n",
            "m (gradiente): -0.17719\n",
            "b: 0.56058\n",
            "b (gradiente): 0.14933\n",
            "===============================\n",
            "Epoch:  29\n",
            "Custo: 0.61820518970489501953\n",
            "m: 0.11180\n",
            "m (gradiente): -0.10144\n",
            "b: 0.54501\n",
            "b (gradiente): 0.15977\n",
            "===============================\n",
            "Epoch:  39\n",
            "Custo: 0.61488783359527587891\n",
            "m: 0.11970\n",
            "m (gradiente): -0.06460\n",
            "b: 0.52874\n",
            "b (gradiente): 0.16454\n",
            "===============================\n",
            "Epoch:  49\n",
            "Custo: 0.61184042692184448242\n",
            "m: 0.12503\n",
            "m (gradiente): -0.04589\n",
            "b: 0.51215\n",
            "b (gradiente): 0.16664\n",
            "===============================\n",
            "Epoch:  59\n",
            "Custo: 0.60888212919235229492\n",
            "m: 0.12904\n",
            "m (gradiente): -0.03615\n",
            "b: 0.49544\n",
            "b (gradiente): 0.16740\n",
            "===============================\n",
            "Epoch:  69\n",
            "Custo: 0.60596531629562377930\n",
            "m: 0.13234\n",
            "m (gradiente): -0.03100\n",
            "b: 0.47869\n",
            "b (gradiente): 0.16748\n",
            "===============================\n",
            "Epoch:  79\n",
            "Custo: 0.60307663679122924805\n",
            "m: 0.13528\n",
            "m (gradiente): -0.02825\n",
            "b: 0.46196\n",
            "b (gradiente): 0.16720\n",
            "===============================\n",
            "Epoch:  89\n",
            "Custo: 0.60021269321441650391\n",
            "m: 0.13801\n",
            "m (gradiente): -0.02675\n",
            "b: 0.44526\n",
            "b (gradiente): 0.16674\n",
            "===============================\n",
            "Epoch:  99\n",
            "Custo: 0.59737193584442138672\n",
            "m: 0.14064\n",
            "m (gradiente): -0.02593\n",
            "b: 0.42862\n",
            "b (gradiente): 0.16617\n",
            "===============================\n",
            "Epoch:  109\n",
            "Custo: 0.59455424547195434570\n",
            "m: 0.14320\n",
            "m (gradiente): -0.02545\n",
            "b: 0.41203\n",
            "b (gradiente): 0.16556\n",
            "===============================\n",
            "Epoch:  119\n",
            "Custo: 0.59175932407379150391\n",
            "m: 0.14573\n",
            "m (gradiente): -0.02516\n",
            "b: 0.39551\n",
            "b (gradiente): 0.16491\n",
            "===============================\n",
            "Epoch:  129\n",
            "Custo: 0.58898699283599853516\n",
            "m: 0.14824\n",
            "m (gradiente): -0.02498\n",
            "b: 0.37906\n",
            "b (gradiente): 0.16426\n",
            "===============================\n",
            "Epoch:  139\n",
            "Custo: 0.58623719215393066406\n",
            "m: 0.15073\n",
            "m (gradiente): -0.02485\n",
            "b: 0.36267\n",
            "b (gradiente): 0.16359\n",
            "===============================\n",
            "Epoch:  149\n",
            "Custo: 0.58350968360900878906\n",
            "m: 0.15320\n",
            "m (gradiente): -0.02475\n",
            "b: 0.34635\n",
            "b (gradiente): 0.16293\n",
            "===============================\n",
            "Epoch:  159\n",
            "Custo: 0.58080446720123291016\n",
            "m: 0.15567\n",
            "m (gradiente): -0.02466\n",
            "b: 0.33009\n",
            "b (gradiente): 0.16226\n",
            "===============================\n",
            "Epoch:  169\n",
            "Custo: 0.57812124490737915039\n",
            "m: 0.15814\n",
            "m (gradiente): -0.02458\n",
            "b: 0.31390\n",
            "b (gradiente): 0.16159\n",
            "===============================\n",
            "Epoch:  179\n",
            "Custo: 0.57545989751815795898\n",
            "m: 0.16059\n",
            "m (gradiente): -0.02450\n",
            "b: 0.29778\n",
            "b (gradiente): 0.16093\n",
            "===============================\n",
            "Epoch:  189\n",
            "Custo: 0.57282048463821411133\n",
            "m: 0.16304\n",
            "m (gradiente): -0.02443\n",
            "b: 0.28172\n",
            "b (gradiente): 0.16026\n",
            "===============================\n",
            "Epoch:  199\n",
            "Custo: 0.57020270824432373047\n",
            "m: 0.16548\n",
            "m (gradiente): -0.02436\n",
            "b: 0.26573\n",
            "b (gradiente): 0.15960\n"
          ]
        }
      ]
    },
    {
      "cell_type": "markdown",
      "metadata": {
        "id": "SuTKGCaQHjv5"
      },
      "source": [
        "# Plot do Gráfico da Função de Custo"
      ]
    },
    {
      "cell_type": "code",
      "metadata": {
        "colab": {
          "base_uri": "https://localhost:8080/",
          "height": 283
        },
        "id": "XwC3OWQQHoa-",
        "outputId": "d8013e34-53c1-4e68-f77d-ad635978aa00"
      },
      "source": [
        "print(\"Gráfico da Função de Custo\")\n",
        "plt.plot(contador_custo, 'b')\n",
        "plt.show()"
      ],
      "execution_count": 28,
      "outputs": [
        {
          "output_type": "stream",
          "name": "stdout",
          "text": [
            "Gráfico da Função de Custo\n"
          ]
        },
        {
          "output_type": "display_data",
          "data": {
            "image/png": "[encoded data removed]",
            "text/plain": [
              "<Figure size 432x288 with 1 Axes>"
            ]
          },
          "metadata": {
            "needs_background": "light"
          }
        }
      ]
    },
    {
      "cell_type": "markdown",
      "metadata": {
        "id": "eCoaD3rRLeC5"
      },
      "source": [
        "# Cálculo da predição"
      ]
    },
    {
      "cell_type": "code",
      "metadata": {
        "colab": {
          "base_uri": "https://localhost:8080/"
        },
        "id": "r4Cn101gLheD",
        "outputId": "5df633e6-3f13-4513-bc6c-d555bfe9cbc9"
      },
      "source": [
        "teste = np.array([2, 3, 6, 7, 8])\n",
        "t_teste = torch.from_numpy(teste.astype(np.float32))\n",
        "t_teste = t_teste.view(t_teste.shape[0], 1)\n",
        "\n",
        "with torch.no_grad():\n",
        "  predicoes = model(t_teste)\n",
        "  for x, y in zip(t_teste, predicoes):\n",
        "    # definindo o cutoff / threshold\n",
        "    status = \"\"\n",
        "    if (y >= 0.7):\n",
        "      status = \"aprovado\"\n",
        "    else:\n",
        "      status = \"reprovado\"\n",
        "    print ('x: {:.2f} | ŷ: {:.2f} | '.format(x.detach().item(),y.detach().item()), status)"
      ],
      "execution_count": 29,
      "outputs": [
        {
          "output_type": "stream",
          "name": "stdout",
          "text": [
            "x: 2.00 | ŷ: 0.64 |  reprovado\n",
            "x: 3.00 | ŷ: 0.68 |  reprovado\n",
            "x: 6.00 | ŷ: 0.78 |  aprovado\n",
            "x: 7.00 | ŷ: 0.81 |  aprovado\n",
            "x: 8.00 | ŷ: 0.83 |  aprovado\n"
          ]
        }
      ]
    }
  ]
}