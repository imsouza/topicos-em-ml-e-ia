{
 "cells": [
  {
   "cell_type": "markdown",
   "metadata": {
    "id": "fQJ5CYV9Te0X"
   },
   "source": [
    "# **PROJETO ANÁLISE ESTATÍSTICA DO ENEM 2019**"
   ]
  },
  {
   "cell_type": "markdown",
   "metadata": {
    "id": "kXFCCsVHTtTP"
   },
   "source": [
    "Este projeto analisa os resultados do ENEM no estado de São Paulo do ano de 2019."
   ]
  },
  {
   "cell_type": "markdown",
   "metadata": {
    "id": "5ZQ2nYhQUc3G"
   },
   "source": [
    "Os dados foram extraídos do site do INEP:\n",
    "\n",
    "http://inep.gov.br/microdados"
   ]
  },
  {
   "cell_type": "code",
   "execution_count": 5,
   "metadata": {
    "id": "nWvIcticlCs2"
   },
   "outputs": [],
   "source": [
    "import numpy as np\n",
    "import pandas as pd"
   ]
  },
  {
   "cell_type": "code",
   "execution_count": 6,
   "metadata": {
    "id": "LRIrwcC8kUhT"
   },
   "outputs": [],
   "source": [
    "dados = pd.read_csv('./datasets/microdados_enem_2019_sp.csv',\n",
    "                    sep=';', encoding='iso-8859-1')\n",
    "# encoding: codificação de caracteres, normalmente utiliza-se o iso-8859-1, utf-8, latin-1)"
   ]
  },
  {
   "cell_type": "markdown",
   "metadata": {
    "id": "oKrNiwgYQmvK"
   },
   "source": [
    "## Extração e Limpeza dos dados"
   ]
  },
  {
   "cell_type": "code",
   "execution_count": 7,
   "metadata": {
    "colab": {
     "base_uri": "https://localhost:8080/",
     "height": 0
    },
    "id": "Gol7BjFSuNs0",
    "outputId": "915201c7-158e-4dee-899e-8c9c5883dbdd"
   },
   "outputs": [
    {
     "data": {
      "text/html": [
       "<div>\n",
       "<style scoped>\n",
       "    .dataframe tbody tr th:only-of-type {\n",
       "        vertical-align: middle;\n",
       "    }\n",
       "\n",
       "    .dataframe tbody tr th {\n",
       "        vertical-align: top;\n",
       "    }\n",
       "\n",
       "    .dataframe thead th {\n",
       "        text-align: right;\n",
       "    }\n",
       "</style>\n",
       "<table border=\"1\" class=\"dataframe\">\n",
       "  <thead>\n",
       "    <tr style=\"text-align: right;\">\n",
       "      <th></th>\n",
       "      <th>NU_INSCRICAO</th>\n",
       "      <th>CO_MUNICIPIO_RESIDENCIA</th>\n",
       "      <th>NO_MUNICIPIO_RESIDENCIA</th>\n",
       "      <th>CO_UF_RESIDENCIA</th>\n",
       "      <th>SG_UF_RESIDENCIA</th>\n",
       "      <th>NU_IDADE</th>\n",
       "      <th>TP_SEXO</th>\n",
       "      <th>TP_ESTADO_CIVIL</th>\n",
       "      <th>TP_COR_RACA</th>\n",
       "      <th>TP_NACIONALIDADE</th>\n",
       "      <th>...</th>\n",
       "      <th>NU_NOTA_MT</th>\n",
       "      <th>TP_LINGUA</th>\n",
       "      <th>TP_STATUS_REDACAO</th>\n",
       "      <th>NU_NOTA_COMP1</th>\n",
       "      <th>NU_NOTA_COMP2</th>\n",
       "      <th>NU_NOTA_COMP3</th>\n",
       "      <th>NU_NOTA_COMP4</th>\n",
       "      <th>NU_NOTA_COMP5</th>\n",
       "      <th>NU_NOTA_REDACAO</th>\n",
       "      <th>Q025</th>\n",
       "    </tr>\n",
       "  </thead>\n",
       "  <tbody>\n",
       "    <tr>\n",
       "      <th>0</th>\n",
       "      <td>1,90E+11</td>\n",
       "      <td>3546801</td>\n",
       "      <td>Santa Isabel</td>\n",
       "      <td>35</td>\n",
       "      <td>SP</td>\n",
       "      <td>22</td>\n",
       "      <td>M</td>\n",
       "      <td>1</td>\n",
       "      <td>3</td>\n",
       "      <td>1</td>\n",
       "      <td>...</td>\n",
       "      <td>6002.0</td>\n",
       "      <td>0</td>\n",
       "      <td>1.0</td>\n",
       "      <td>160.0</td>\n",
       "      <td>200.0</td>\n",
       "      <td>180.0</td>\n",
       "      <td>200.0</td>\n",
       "      <td>200.0</td>\n",
       "      <td>940.0</td>\n",
       "      <td>B</td>\n",
       "    </tr>\n",
       "    <tr>\n",
       "      <th>1</th>\n",
       "      <td>1,90E+11</td>\n",
       "      <td>3538204</td>\n",
       "      <td>Pinhalzinho</td>\n",
       "      <td>35</td>\n",
       "      <td>SP</td>\n",
       "      <td>19</td>\n",
       "      <td>M</td>\n",
       "      <td>1</td>\n",
       "      <td>3</td>\n",
       "      <td>1</td>\n",
       "      <td>...</td>\n",
       "      <td>NaN</td>\n",
       "      <td>1</td>\n",
       "      <td>NaN</td>\n",
       "      <td>NaN</td>\n",
       "      <td>NaN</td>\n",
       "      <td>NaN</td>\n",
       "      <td>NaN</td>\n",
       "      <td>NaN</td>\n",
       "      <td>NaN</td>\n",
       "      <td>A</td>\n",
       "    </tr>\n",
       "    <tr>\n",
       "      <th>2</th>\n",
       "      <td>1,90E+11</td>\n",
       "      <td>3550308</td>\n",
       "      <td>São Paulo</td>\n",
       "      <td>35</td>\n",
       "      <td>SP</td>\n",
       "      <td>17</td>\n",
       "      <td>F</td>\n",
       "      <td>1</td>\n",
       "      <td>3</td>\n",
       "      <td>1</td>\n",
       "      <td>...</td>\n",
       "      <td>7318.0</td>\n",
       "      <td>0</td>\n",
       "      <td>1.0</td>\n",
       "      <td>160.0</td>\n",
       "      <td>120.0</td>\n",
       "      <td>200.0</td>\n",
       "      <td>200.0</td>\n",
       "      <td>200.0</td>\n",
       "      <td>880.0</td>\n",
       "      <td>A</td>\n",
       "    </tr>\n",
       "    <tr>\n",
       "      <th>3</th>\n",
       "      <td>1,90E+11</td>\n",
       "      <td>3548708</td>\n",
       "      <td>São Bernardo do Campo</td>\n",
       "      <td>35</td>\n",
       "      <td>SP</td>\n",
       "      <td>19</td>\n",
       "      <td>M</td>\n",
       "      <td>1</td>\n",
       "      <td>3</td>\n",
       "      <td>1</td>\n",
       "      <td>...</td>\n",
       "      <td>3932.0</td>\n",
       "      <td>1</td>\n",
       "      <td>1.0</td>\n",
       "      <td>80.0</td>\n",
       "      <td>160.0</td>\n",
       "      <td>120.0</td>\n",
       "      <td>100.0</td>\n",
       "      <td>100.0</td>\n",
       "      <td>560.0</td>\n",
       "      <td>B</td>\n",
       "    </tr>\n",
       "    <tr>\n",
       "      <th>4</th>\n",
       "      <td>1,90E+11</td>\n",
       "      <td>3549409</td>\n",
       "      <td>São Joaquim da Barra</td>\n",
       "      <td>35</td>\n",
       "      <td>SP</td>\n",
       "      <td>37</td>\n",
       "      <td>M</td>\n",
       "      <td>2</td>\n",
       "      <td>1</td>\n",
       "      <td>1</td>\n",
       "      <td>...</td>\n",
       "      <td>NaN</td>\n",
       "      <td>1</td>\n",
       "      <td>NaN</td>\n",
       "      <td>NaN</td>\n",
       "      <td>NaN</td>\n",
       "      <td>NaN</td>\n",
       "      <td>NaN</td>\n",
       "      <td>NaN</td>\n",
       "      <td>NaN</td>\n",
       "      <td>B</td>\n",
       "    </tr>\n",
       "  </tbody>\n",
       "</table>\n",
       "<p>5 rows × 44 columns</p>\n",
       "</div>"
      ],
      "text/plain": [
       "  NU_INSCRICAO  CO_MUNICIPIO_RESIDENCIA NO_MUNICIPIO_RESIDENCIA  \\\n",
       "0     1,90E+11                  3546801            Santa Isabel   \n",
       "1     1,90E+11                  3538204             Pinhalzinho   \n",
       "2     1,90E+11                  3550308               São Paulo   \n",
       "3     1,90E+11                  3548708   São Bernardo do Campo   \n",
       "4     1,90E+11                  3549409    São Joaquim da Barra   \n",
       "\n",
       "   CO_UF_RESIDENCIA SG_UF_RESIDENCIA  NU_IDADE TP_SEXO  TP_ESTADO_CIVIL  \\\n",
       "0                35               SP        22       M                1   \n",
       "1                35               SP        19       M                1   \n",
       "2                35               SP        17       F                1   \n",
       "3                35               SP        19       M                1   \n",
       "4                35               SP        37       M                2   \n",
       "\n",
       "   TP_COR_RACA  TP_NACIONALIDADE  ...  NU_NOTA_MT TP_LINGUA  \\\n",
       "0            3                 1  ...      6002.0         0   \n",
       "1            3                 1  ...         NaN         1   \n",
       "2            3                 1  ...      7318.0         0   \n",
       "3            3                 1  ...      3932.0         1   \n",
       "4            1                 1  ...         NaN         1   \n",
       "\n",
       "   TP_STATUS_REDACAO NU_NOTA_COMP1  NU_NOTA_COMP2  NU_NOTA_COMP3  \\\n",
       "0                1.0         160.0          200.0          180.0   \n",
       "1                NaN           NaN            NaN            NaN   \n",
       "2                1.0         160.0          120.0          200.0   \n",
       "3                1.0          80.0          160.0          120.0   \n",
       "4                NaN           NaN            NaN            NaN   \n",
       "\n",
       "   NU_NOTA_COMP4  NU_NOTA_COMP5  NU_NOTA_REDACAO  Q025  \n",
       "0          200.0          200.0            940.0     B  \n",
       "1            NaN            NaN              NaN     A  \n",
       "2          200.0          200.0            880.0     A  \n",
       "3          100.0          100.0            560.0     B  \n",
       "4            NaN            NaN              NaN     B  \n",
       "\n",
       "[5 rows x 44 columns]"
      ]
     },
     "execution_count": 7,
     "metadata": {},
     "output_type": "execute_result"
    }
   ],
   "source": [
    "dados.head()"
   ]
  },
  {
   "cell_type": "code",
   "execution_count": 8,
   "metadata": {
    "colab": {
     "base_uri": "https://localhost:8080/"
    },
    "id": "BFS6iDf4wYG3",
    "outputId": "69f4bb82-7137-4725-d789-2251ed54d6b7"
   },
   "outputs": [
    {
     "data": {
      "text/plain": [
       "(813772, 44)"
      ]
     },
     "execution_count": 8,
     "metadata": {},
     "output_type": "execute_result"
    }
   ],
   "source": [
    "# O número total de inscritos em São Paulo foi de 813772, sendo de 15,97% de todo o Brasil que foi de 5095308 inscritos. \n",
    "dados.shape"
   ]
  },
  {
   "cell_type": "code",
   "execution_count": 9,
   "metadata": {
    "colab": {
     "base_uri": "https://localhost:8080/"
    },
    "collapsed": true,
    "id": "wopAqivQXpqI",
    "outputId": "1366f7d0-7bca-48a4-a30d-4dc74c47e641"
   },
   "outputs": [
    {
     "data": {
      "text/plain": [
       "NU_INSCRICAO                object\n",
       "CO_MUNICIPIO_RESIDENCIA      int64\n",
       "NO_MUNICIPIO_RESIDENCIA     object\n",
       "CO_UF_RESIDENCIA             int64\n",
       "SG_UF_RESIDENCIA            object\n",
       "NU_IDADE                     int64\n",
       "TP_SEXO                     object\n",
       "TP_ESTADO_CIVIL              int64\n",
       "TP_COR_RACA                  int64\n",
       "TP_NACIONALIDADE             int64\n",
       "CO_MUNICIPIO_NASCIMENTO    float64\n",
       "NO_MUNICIPIO_NASCIMENTO     object\n",
       "CO_UF_NASCIMENTO           float64\n",
       "SG_UF_NASCIMENTO            object\n",
       "TP_ST_CONCLUSAO              int64\n",
       "TP_ANO_CONCLUIU              int64\n",
       "TP_ESCOLA                    int64\n",
       "TP_ENSINO                  float64\n",
       "IN_TREINEIRO                 int64\n",
       "CO_ESCOLA                  float64\n",
       "CO_MUNICIPIO_ESC           float64\n",
       "NO_MUNICIPIO_ESC            object\n",
       "CO_UF_ESC                  float64\n",
       "SG_UF_ESC                   object\n",
       "TP_DEPENDENCIA_ADM_ESC     float64\n",
       "TP_LOCALIZACAO_ESC         float64\n",
       "TP_SIT_FUNC_ESC            float64\n",
       "TP_PRESENCA_CN               int64\n",
       "TP_PRESENCA_CH               int64\n",
       "TP_PRESENCA_LC               int64\n",
       "TP_PRESENCA_MT               int64\n",
       "NU_NOTA_CN                 float64\n",
       "NU_NOTA_CH                 float64\n",
       "NU_NOTA_LC                 float64\n",
       "NU_NOTA_MT                 float64\n",
       "TP_LINGUA                    int64\n",
       "TP_STATUS_REDACAO          float64\n",
       "NU_NOTA_COMP1              float64\n",
       "NU_NOTA_COMP2              float64\n",
       "NU_NOTA_COMP3              float64\n",
       "NU_NOTA_COMP4              float64\n",
       "NU_NOTA_COMP5              float64\n",
       "NU_NOTA_REDACAO            float64\n",
       "Q025                        object\n",
       "dtype: object"
      ]
     },
     "execution_count": 9,
     "metadata": {},
     "output_type": "execute_result"
    }
   ],
   "source": [
    "# Análise dos tipos de atributos.\n",
    "# object: strings\n",
    "# int64: inteiros\n",
    "# float64: reais\n",
    "# complex: complexos\n",
    "dados.dtypes"
   ]
  },
  {
   "cell_type": "code",
   "execution_count": 10,
   "metadata": {
    "id": "BjCxJx81cwfM"
   },
   "outputs": [],
   "source": [
    "dados1 = dados.drop(columns=['CO_MUNICIPIO_RESIDENCIA'])"
   ]
  },
  {
   "cell_type": "code",
   "execution_count": 11,
   "metadata": {
    "colab": {
     "base_uri": "https://localhost:8080/",
     "height": 0
    },
    "id": "r0TA2zQPc8QK",
    "outputId": "dea241e9-083a-4e18-87a1-fd9188016a29"
   },
   "outputs": [
    {
     "data": {
      "text/html": [
       "<div>\n",
       "<style scoped>\n",
       "    .dataframe tbody tr th:only-of-type {\n",
       "        vertical-align: middle;\n",
       "    }\n",
       "\n",
       "    .dataframe tbody tr th {\n",
       "        vertical-align: top;\n",
       "    }\n",
       "\n",
       "    .dataframe thead th {\n",
       "        text-align: right;\n",
       "    }\n",
       "</style>\n",
       "<table border=\"1\" class=\"dataframe\">\n",
       "  <thead>\n",
       "    <tr style=\"text-align: right;\">\n",
       "      <th></th>\n",
       "      <th>NU_INSCRICAO</th>\n",
       "      <th>NO_MUNICIPIO_RESIDENCIA</th>\n",
       "      <th>CO_UF_RESIDENCIA</th>\n",
       "      <th>SG_UF_RESIDENCIA</th>\n",
       "      <th>NU_IDADE</th>\n",
       "      <th>TP_SEXO</th>\n",
       "      <th>TP_ESTADO_CIVIL</th>\n",
       "      <th>TP_COR_RACA</th>\n",
       "      <th>TP_NACIONALIDADE</th>\n",
       "      <th>CO_MUNICIPIO_NASCIMENTO</th>\n",
       "      <th>...</th>\n",
       "      <th>NU_NOTA_MT</th>\n",
       "      <th>TP_LINGUA</th>\n",
       "      <th>TP_STATUS_REDACAO</th>\n",
       "      <th>NU_NOTA_COMP1</th>\n",
       "      <th>NU_NOTA_COMP2</th>\n",
       "      <th>NU_NOTA_COMP3</th>\n",
       "      <th>NU_NOTA_COMP4</th>\n",
       "      <th>NU_NOTA_COMP5</th>\n",
       "      <th>NU_NOTA_REDACAO</th>\n",
       "      <th>Q025</th>\n",
       "    </tr>\n",
       "  </thead>\n",
       "  <tbody>\n",
       "    <tr>\n",
       "      <th>0</th>\n",
       "      <td>1,90E+11</td>\n",
       "      <td>Santa Isabel</td>\n",
       "      <td>35</td>\n",
       "      <td>SP</td>\n",
       "      <td>22</td>\n",
       "      <td>M</td>\n",
       "      <td>1</td>\n",
       "      <td>3</td>\n",
       "      <td>1</td>\n",
       "      <td>1506500.0</td>\n",
       "      <td>...</td>\n",
       "      <td>6002.0</td>\n",
       "      <td>0</td>\n",
       "      <td>1.0</td>\n",
       "      <td>160.0</td>\n",
       "      <td>200.0</td>\n",
       "      <td>180.0</td>\n",
       "      <td>200.0</td>\n",
       "      <td>200.0</td>\n",
       "      <td>940.0</td>\n",
       "      <td>B</td>\n",
       "    </tr>\n",
       "    <tr>\n",
       "      <th>1</th>\n",
       "      <td>1,90E+11</td>\n",
       "      <td>Pinhalzinho</td>\n",
       "      <td>35</td>\n",
       "      <td>SP</td>\n",
       "      <td>19</td>\n",
       "      <td>M</td>\n",
       "      <td>1</td>\n",
       "      <td>3</td>\n",
       "      <td>1</td>\n",
       "      <td>1503804.0</td>\n",
       "      <td>...</td>\n",
       "      <td>NaN</td>\n",
       "      <td>1</td>\n",
       "      <td>NaN</td>\n",
       "      <td>NaN</td>\n",
       "      <td>NaN</td>\n",
       "      <td>NaN</td>\n",
       "      <td>NaN</td>\n",
       "      <td>NaN</td>\n",
       "      <td>NaN</td>\n",
       "      <td>A</td>\n",
       "    </tr>\n",
       "    <tr>\n",
       "      <th>2</th>\n",
       "      <td>1,90E+11</td>\n",
       "      <td>São Paulo</td>\n",
       "      <td>35</td>\n",
       "      <td>SP</td>\n",
       "      <td>17</td>\n",
       "      <td>F</td>\n",
       "      <td>1</td>\n",
       "      <td>3</td>\n",
       "      <td>1</td>\n",
       "      <td>1501402.0</td>\n",
       "      <td>...</td>\n",
       "      <td>7318.0</td>\n",
       "      <td>0</td>\n",
       "      <td>1.0</td>\n",
       "      <td>160.0</td>\n",
       "      <td>120.0</td>\n",
       "      <td>200.0</td>\n",
       "      <td>200.0</td>\n",
       "      <td>200.0</td>\n",
       "      <td>880.0</td>\n",
       "      <td>A</td>\n",
       "    </tr>\n",
       "    <tr>\n",
       "      <th>3</th>\n",
       "      <td>1,90E+11</td>\n",
       "      <td>São Bernardo do Campo</td>\n",
       "      <td>35</td>\n",
       "      <td>SP</td>\n",
       "      <td>19</td>\n",
       "      <td>M</td>\n",
       "      <td>1</td>\n",
       "      <td>3</td>\n",
       "      <td>1</td>\n",
       "      <td>3548708.0</td>\n",
       "      <td>...</td>\n",
       "      <td>3932.0</td>\n",
       "      <td>1</td>\n",
       "      <td>1.0</td>\n",
       "      <td>80.0</td>\n",
       "      <td>160.0</td>\n",
       "      <td>120.0</td>\n",
       "      <td>100.0</td>\n",
       "      <td>100.0</td>\n",
       "      <td>560.0</td>\n",
       "      <td>B</td>\n",
       "    </tr>\n",
       "    <tr>\n",
       "      <th>4</th>\n",
       "      <td>1,90E+11</td>\n",
       "      <td>São Joaquim da Barra</td>\n",
       "      <td>35</td>\n",
       "      <td>SP</td>\n",
       "      <td>37</td>\n",
       "      <td>M</td>\n",
       "      <td>2</td>\n",
       "      <td>1</td>\n",
       "      <td>1</td>\n",
       "      <td>3549409.0</td>\n",
       "      <td>...</td>\n",
       "      <td>NaN</td>\n",
       "      <td>1</td>\n",
       "      <td>NaN</td>\n",
       "      <td>NaN</td>\n",
       "      <td>NaN</td>\n",
       "      <td>NaN</td>\n",
       "      <td>NaN</td>\n",
       "      <td>NaN</td>\n",
       "      <td>NaN</td>\n",
       "      <td>B</td>\n",
       "    </tr>\n",
       "  </tbody>\n",
       "</table>\n",
       "<p>5 rows × 43 columns</p>\n",
       "</div>"
      ],
      "text/plain": [
       "  NU_INSCRICAO NO_MUNICIPIO_RESIDENCIA  CO_UF_RESIDENCIA SG_UF_RESIDENCIA  \\\n",
       "0     1,90E+11            Santa Isabel                35               SP   \n",
       "1     1,90E+11             Pinhalzinho                35               SP   \n",
       "2     1,90E+11               São Paulo                35               SP   \n",
       "3     1,90E+11   São Bernardo do Campo                35               SP   \n",
       "4     1,90E+11    São Joaquim da Barra                35               SP   \n",
       "\n",
       "   NU_IDADE TP_SEXO  TP_ESTADO_CIVIL  TP_COR_RACA  TP_NACIONALIDADE  \\\n",
       "0        22       M                1            3                 1   \n",
       "1        19       M                1            3                 1   \n",
       "2        17       F                1            3                 1   \n",
       "3        19       M                1            3                 1   \n",
       "4        37       M                2            1                 1   \n",
       "\n",
       "   CO_MUNICIPIO_NASCIMENTO  ... NU_NOTA_MT  TP_LINGUA TP_STATUS_REDACAO  \\\n",
       "0                1506500.0  ...     6002.0          0               1.0   \n",
       "1                1503804.0  ...        NaN          1               NaN   \n",
       "2                1501402.0  ...     7318.0          0               1.0   \n",
       "3                3548708.0  ...     3932.0          1               1.0   \n",
       "4                3549409.0  ...        NaN          1               NaN   \n",
       "\n",
       "   NU_NOTA_COMP1  NU_NOTA_COMP2  NU_NOTA_COMP3  NU_NOTA_COMP4  NU_NOTA_COMP5  \\\n",
       "0          160.0          200.0          180.0          200.0          200.0   \n",
       "1            NaN            NaN            NaN            NaN            NaN   \n",
       "2          160.0          120.0          200.0          200.0          200.0   \n",
       "3           80.0          160.0          120.0          100.0          100.0   \n",
       "4            NaN            NaN            NaN            NaN            NaN   \n",
       "\n",
       "   NU_NOTA_REDACAO  Q025  \n",
       "0            940.0     B  \n",
       "1              NaN     A  \n",
       "2            880.0     A  \n",
       "3            560.0     B  \n",
       "4              NaN     B  \n",
       "\n",
       "[5 rows x 43 columns]"
      ]
     },
     "execution_count": 11,
     "metadata": {},
     "output_type": "execute_result"
    }
   ],
   "source": [
    "dados1.head()"
   ]
  },
  {
   "cell_type": "code",
   "execution_count": null,
   "metadata": {
    "id": "JvmZesUudKEQ"
   },
   "outputs": [],
   "source": [
    "dados1 = dados1.drop(columns=['CO_UF_RESIDENCIA','SG_UF_RESIDENCIA','CO_MUNICIPIO_NASCIMENTO'], )"
   ]
  },
  {
   "cell_type": "code",
   "execution_count": null,
   "metadata": {
    "colab": {
     "base_uri": "https://localhost:8080/",
     "height": 0
    },
    "id": "fi6lhrxZeFIm",
    "outputId": "65b5c5e1-80f7-45d8-a688-ba6b7475523e"
   },
   "outputs": [],
   "source": [
    "dados1.head(40)"
   ]
  },
  {
   "cell_type": "code",
   "execution_count": null,
   "metadata": {
    "id": "dW5foN0sezYl"
   },
   "outputs": [],
   "source": [
    "dados1 = dados1.drop(columns=['NO_MUNICIPIO_NASCIMENTO','CO_UF_NASCIMENTO','SG_UF_NASCIMENTO',\n",
    "                              'TP_ANO_CONCLUIU','TP_ENSINO','CO_MUNICIPIO_ESC','CO_UF_ESC','SG_UF_ESC'],)"
   ]
  },
  {
   "cell_type": "code",
   "execution_count": null,
   "metadata": {
    "colab": {
     "base_uri": "https://localhost:8080/",
     "height": 0
    },
    "id": "xoL3iWbdrLCR",
    "outputId": "f5052a0e-0f82-42d8-ed26-d238157f1643"
   },
   "outputs": [],
   "source": [
    "dados1.head()"
   ]
  },
  {
   "cell_type": "code",
   "execution_count": null,
   "metadata": {
    "id": "9YBg_gqqy15c"
   },
   "outputs": [],
   "source": [
    "dados1 = dados1.drop(columns=['TP_DEPENDENCIA_ADM_ESC','TP_LOCALIZACAO_ESC','TP_SIT_FUNC_ESC'],)"
   ]
  },
  {
   "cell_type": "code",
   "execution_count": null,
   "metadata": {
    "colab": {
     "base_uri": "https://localhost:8080/",
     "height": 0
    },
    "id": "Zq8F3coNzJlw",
    "outputId": "8039c23e-0223-402f-8026-4a117969ff64"
   },
   "outputs": [],
   "source": [
    "dados1.head()"
   ]
  },
  {
   "cell_type": "code",
   "execution_count": null,
   "metadata": {
    "colab": {
     "base_uri": "https://localhost:8080/"
    },
    "id": "PvftFwLmzZIA",
    "outputId": "7726ef65-6ac0-4f81-8acc-84b4f854068d"
   },
   "outputs": [],
   "source": [
    "dados1.shape"
   ]
  },
  {
   "cell_type": "markdown",
   "metadata": {
    "id": "caxlqhYZmG6N"
   },
   "source": [
    "Corrigindo erros nas notas"
   ]
  },
  {
   "cell_type": "code",
   "execution_count": null,
   "metadata": {
    "id": "vSE2L_8Via3L"
   },
   "outputs": [],
   "source": [
    "dados1.loc[:,'NU_NOTA_CN'] /= 10"
   ]
  },
  {
   "cell_type": "code",
   "execution_count": null,
   "metadata": {
    "colab": {
     "base_uri": "https://localhost:8080/",
     "height": 0
    },
    "id": "VViqwvsKilw4",
    "outputId": "23c5f824-003f-4808-c970-85d27e451784"
   },
   "outputs": [],
   "source": [
    "dados1.head(12)"
   ]
  },
  {
   "cell_type": "code",
   "execution_count": null,
   "metadata": {
    "id": "AdJDdAXsjk6F"
   },
   "outputs": [],
   "source": [
    "dados1.loc[:,'NU_NOTA_CH'] /= 10\n",
    "dados1.loc[:,'NU_NOTA_LC'] /= 10\n",
    "dados1.loc[:,'NU_NOTA_MT'] /= 10"
   ]
  },
  {
   "cell_type": "code",
   "execution_count": null,
   "metadata": {
    "colab": {
     "base_uri": "https://localhost:8080/",
     "height": 0
    },
    "id": "sDRjky9Uj0Br",
    "outputId": "92151ad1-88a2-4493-ec6b-71f0cb43ea21"
   },
   "outputs": [],
   "source": [
    "dados1.head()"
   ]
  },
  {
   "cell_type": "markdown",
   "metadata": {
    "id": "kOC6EYsrmLT1"
   },
   "source": [
    "Renomeando Variáveis (colunas)"
   ]
  },
  {
   "cell_type": "code",
   "execution_count": null,
   "metadata": {
    "id": "eK1hqPsJawER"
   },
   "outputs": [],
   "source": [
    "dados1 = dados1.rename(columns={'NU_NOTA_REDACAO': 'NOTA_REDACAO'})"
   ]
  },
  {
   "cell_type": "code",
   "execution_count": null,
   "metadata": {
    "colab": {
     "base_uri": "https://localhost:8080/",
     "height": 0
    },
    "id": "3eeWUEngawN-",
    "outputId": "115a1a1f-2376-44a0-aba9-8fd8b6448c2a"
   },
   "outputs": [],
   "source": [
    "dados1.head()"
   ]
  },
  {
   "cell_type": "code",
   "execution_count": null,
   "metadata": {
    "id": "b0LQhLGuawQw"
   },
   "outputs": [],
   "source": [
    "dados1 = dados1.rename(columns={'NU_NOTA_CN': 'NOTA_CN','NU_NOTA_CH': 'NOTA_CH',\n",
    "                                'NU_NOTA_LC': 'NOTA_LC','NU_NOTA_MT': 'NOTA_MT'})"
   ]
  },
  {
   "cell_type": "code",
   "execution_count": null,
   "metadata": {
    "id": "2ao47Wj8awUx"
   },
   "outputs": [],
   "source": [
    "dados1 = dados1.rename(columns={'NU_NOTA_COMP1': 'COMP1','NU_NOTA_COMP2': 'COMP2',\n",
    "                                'NU_NOTA_COMP3': 'COMP3','NU_NOTA_COMP4': 'COMP4',\n",
    "                                'NU_NOTA_COMP5':'COMP5'})"
   ]
  },
  {
   "cell_type": "code",
   "execution_count": null,
   "metadata": {
    "id": "Scs9fWBunBlK"
   },
   "outputs": [],
   "source": [
    "dados1 = dados1.rename(columns={'NU_IDADE': 'IDADE','TP_SEXO': 'SEXO',\n",
    "                                'TP_COR_RACA': 'RACA','Q025': 'INTERNET',\n",
    "                                'TP_ESCOLA':'ESCOLA'})"
   ]
  },
  {
   "cell_type": "markdown",
   "metadata": {
    "id": "PFmbTqY2GzAY"
   },
   "source": [
    "Renomeando Registros (Linhas)"
   ]
  },
  {
   "cell_type": "code",
   "execution_count": null,
   "metadata": {
    "id": "1aU3YcRIGsRo"
   },
   "outputs": [],
   "source": [
    "dados1[\"RACA\"] = dados1[\"RACA\"].replace({0:\"nao_declarado\", 1:\"branca\", 2:\"preta\", 3:\"parda\", 4:\"amarela\", 5:\"indigena\"})"
   ]
  },
  {
   "cell_type": "code",
   "execution_count": null,
   "metadata": {
    "colab": {
     "base_uri": "https://localhost:8080/",
     "height": 0
    },
    "id": "3jaww8zN4BKt",
    "outputId": "3719f129-7f6f-4d33-f297-0e9e76b446c2"
   },
   "outputs": [],
   "source": [
    "dados1.head()"
   ]
  },
  {
   "cell_type": "code",
   "execution_count": null,
   "metadata": {
    "id": "wVPIXjdxlAcz"
   },
   "outputs": [],
   "source": [
    "# OUTRA MANEIRA\n",
    "# dados1['RACA'] = dados1['RACA'].replace([0,1,2,3,4,5], ['Não Declarado','Branca','Preta','Parda','Amarela','Indígena'])"
   ]
  },
  {
   "cell_type": "code",
   "execution_count": null,
   "metadata": {
    "id": "5384wa-m-Hpb"
   },
   "outputs": [],
   "source": [
    "dados1[\"TP_LINGUA\"] = dados1[\"TP_LINGUA\"].replace({0:\"Inglês\", 1:\"Espanhol\"})"
   ]
  },
  {
   "cell_type": "code",
   "execution_count": null,
   "metadata": {
    "id": "bNvg_C8E8Y31"
   },
   "outputs": [],
   "source": [
    "dados1[\"ESCOLA\"] = dados1[\"ESCOLA\"].replace({1:\"não_respondeu\", 2:\"pública\", 3:\"privada\", 4:\"exterior\"})"
   ]
  },
  {
   "cell_type": "code",
   "execution_count": null,
   "metadata": {
    "id": "LeFfSQy19gkx"
   },
   "outputs": [],
   "source": [
    "dados1[\"INTERNET\"] = dados1[\"INTERNET\"].replace({\"A\":\"Não\", \"B\":\"Sim\"})"
   ]
  },
  {
   "cell_type": "markdown",
   "metadata": {
    "id": "6EoxP5zgQz-M"
   },
   "source": [
    "## Análise Exploratória e Transformação dos dados"
   ]
  },
  {
   "cell_type": "markdown",
   "metadata": {
    "id": "Yqes4ro4BUMS"
   },
   "source": [
    "**Análise das idades**"
   ]
  },
  {
   "cell_type": "code",
   "execution_count": null,
   "metadata": {
    "colab": {
     "base_uri": "https://localhost:8080/"
    },
    "id": "F_-iQxfFpTok",
    "outputId": "497ab979-54e1-4b59-b258-693cdd03ed5b"
   },
   "outputs": [],
   "source": [
    "dados1['IDADE'].value_counts()"
   ]
  },
  {
   "cell_type": "code",
   "execution_count": null,
   "metadata": {
    "colab": {
     "base_uri": "https://localhost:8080/"
    },
    "id": "8rDPKtGEFwR-",
    "outputId": "8cdbbe83-fc31-4885-b34d-da9fa519cf7d"
   },
   "outputs": [],
   "source": [
    "dados1['IDADE'].value_counts().sort_index()"
   ]
  },
  {
   "cell_type": "markdown",
   "metadata": {
    "id": "2dWK48PaVvXr"
   },
   "source": [
    "Alguns valores estranhos e curiosos: idades menores que 12 anos e maiores de 80 anos."
   ]
  },
  {
   "cell_type": "code",
   "execution_count": null,
   "metadata": {
    "id": "L6Kb8z7gqy9a"
   },
   "outputs": [],
   "source": [
    "menores_12 = dados1.query('IDADE < 12')['NO_MUNICIPIO_RESIDENCIA'].value_counts()"
   ]
  },
  {
   "cell_type": "code",
   "execution_count": null,
   "metadata": {
    "colab": {
     "base_uri": "https://localhost:8080/"
    },
    "id": "V-KFAIp6GO7E",
    "outputId": "bd1cd8a6-2fdd-4007-f8e3-e268098dbb9a"
   },
   "outputs": [],
   "source": [
    "# Inscrições com idade abaixo de 12 anos serão excluídos devido a alta probabilidade de erro.\n",
    "menores_12"
   ]
  },
  {
   "cell_type": "code",
   "execution_count": null,
   "metadata": {
    "id": "5LJCjuILHGE7"
   },
   "outputs": [],
   "source": [
    "dados_maiores_11 = dados1.loc[dados1.IDADE > 11]"
   ]
  },
  {
   "cell_type": "code",
   "execution_count": null,
   "metadata": {
    "colab": {
     "base_uri": "https://localhost:8080/",
     "height": 232
    },
    "id": "osXcpcJ3La1S",
    "outputId": "09ff2432-88a4-455a-efb3-9dc965fe4140"
   },
   "outputs": [],
   "source": [
    "dados_maiores_11.head()"
   ]
  },
  {
   "cell_type": "code",
   "execution_count": null,
   "metadata": {
    "colab": {
     "base_uri": "https://localhost:8080/"
    },
    "id": "FNnKvKY3MBKd",
    "outputId": "654baba0-cb78-4cde-cd52-183255632acc"
   },
   "outputs": [],
   "source": [
    "dados_maiores_11['IDADE'].value_counts().sort_index()"
   ]
  },
  {
   "cell_type": "markdown",
   "metadata": {
    "id": "p3l9HwM3BsSf"
   },
   "source": [
    "**Treineiros**"
   ]
  },
  {
   "cell_type": "code",
   "execution_count": null,
   "metadata": {
    "colab": {
     "base_uri": "https://localhost:8080/"
    },
    "id": "CRD9ukIOMdXG",
    "outputId": "2202a14b-b657-48f2-b2c5-d6743e6c98cd"
   },
   "outputs": [],
   "source": [
    "dados_maiores_11.query('IN_TREINEIRO == 1')['IN_TREINEIRO'].value_counts()"
   ]
  },
  {
   "cell_type": "code",
   "execution_count": null,
   "metadata": {
    "id": "qgfvskS5MdgS"
   },
   "outputs": [],
   "source": [
    "treineiros = dados_maiores_11.loc[dados_maiores_11.IN_TREINEIRO == 1]"
   ]
  },
  {
   "cell_type": "code",
   "execution_count": null,
   "metadata": {
    "colab": {
     "base_uri": "https://localhost:8080/",
     "height": 215
    },
    "id": "MNPxlhQ0MdpF",
    "outputId": "b06dcd42-600f-462c-f138-0f8c01c7b58f"
   },
   "outputs": [],
   "source": [
    "treineiros.head()"
   ]
  },
  {
   "cell_type": "code",
   "execution_count": null,
   "metadata": {
    "id": "SgARM58Gcpx6"
   },
   "outputs": [],
   "source": [
    "treineiros.to_csv('treineiros_enem_2019_sp.csv', encoding = 'iso-8859-1', index = False)"
   ]
  },
  {
   "cell_type": "code",
   "execution_count": null,
   "metadata": {
    "id": "Gaq-SOFUMdzb"
   },
   "outputs": [],
   "source": [
    "# Separação entre os treineiros e os vestibulandos\n",
    "vestibulandos = dados_maiores_11.loc[dados_maiores_11.IN_TREINEIRO == 0]"
   ]
  },
  {
   "cell_type": "code",
   "execution_count": null,
   "metadata": {
    "colab": {
     "base_uri": "https://localhost:8080/",
     "height": 232
    },
    "id": "B8ixIFm_PdnN",
    "outputId": "d8b6d18f-90e6-4800-ab89-2089428b97c0"
   },
   "outputs": [],
   "source": [
    "vestibulandos.head()"
   ]
  },
  {
   "cell_type": "code",
   "execution_count": null,
   "metadata": {
    "colab": {
     "base_uri": "https://localhost:8080/"
    },
    "id": "Nuoxx9D9Pdvd",
    "outputId": "65654aab-ecc6-4d44-b69b-0c23bd1afb28"
   },
   "outputs": [],
   "source": [
    "vestibulandos.shape"
   ]
  },
  {
   "cell_type": "markdown",
   "metadata": {
    "id": "mj4zA09oB5gS"
   },
   "source": [
    "**Análise das presenças**"
   ]
  },
  {
   "cell_type": "code",
   "execution_count": null,
   "metadata": {
    "colab": {
     "base_uri": "https://localhost:8080/"
    },
    "id": "j8h9xEweKjIR",
    "outputId": "d21df479-b9d7-45a4-fe55-9583110ca049"
   },
   "outputs": [],
   "source": [
    "vestibulandos['TP_PRESENCA_CN'].value_counts()"
   ]
  },
  {
   "cell_type": "code",
   "execution_count": null,
   "metadata": {
    "colab": {
     "base_uri": "https://localhost:8080/"
    },
    "id": "BBQvCu7yLLd9",
    "outputId": "d488009d-59e1-431c-9fa4-38098d192403"
   },
   "outputs": [],
   "source": [
    "vestibulandos['TP_PRESENCA_CH'].value_counts()"
   ]
  },
  {
   "cell_type": "code",
   "execution_count": null,
   "metadata": {
    "colab": {
     "base_uri": "https://localhost:8080/"
    },
    "id": "qKQs-FseLSvZ",
    "outputId": "6fc89c26-8051-4e24-ffc6-60246a3aa9a6"
   },
   "outputs": [],
   "source": [
    "vestibulandos['TP_PRESENCA_LC'].value_counts()"
   ]
  },
  {
   "cell_type": "code",
   "execution_count": null,
   "metadata": {
    "colab": {
     "base_uri": "https://localhost:8080/"
    },
    "id": "PysS3z9kLVzF",
    "outputId": "4524fa41-7e88-49c1-b244-b89bd7e49a08"
   },
   "outputs": [],
   "source": [
    "vestibulandos['TP_PRESENCA_MT'].value_counts()"
   ]
  },
  {
   "cell_type": "markdown",
   "metadata": {
    "id": "RvEbqZDXEX_x"
   },
   "source": [
    "RESUMO DA PRESENÇA NAS PROVAS:\n",
    "\n",
    "Ciências da Natureza: 500805 presentes, 218693 faltaram e 270 eliminados.\n",
    "\n",
    "Ciências Humanas: 533142 presentes, 185969 faltaram e 657 eliminados.\n",
    "\n",
    "Linguagens e Códigos: 533142 presentes, 185969 faltaram e 657 eliminados.\n",
    "\n",
    "Matemática: 500805 presentes, 218693 faltaram e 270 eliminados."
   ]
  },
  {
   "cell_type": "code",
   "execution_count": null,
   "metadata": {
    "colab": {
     "base_uri": "https://localhost:8080/"
    },
    "id": "NJWJp5PxLpBN",
    "outputId": "98e84519-672c-4f06-bffb-be42aa327652"
   },
   "outputs": [],
   "source": [
    "vestibulandos['TP_STATUS_REDACAO'].value_counts().sort_index()"
   ]
  },
  {
   "cell_type": "markdown",
   "metadata": {
    "id": "hHieanAgCU9x"
   },
   "source": [
    "**Valores Ausentes**"
   ]
  },
  {
   "cell_type": "code",
   "execution_count": null,
   "metadata": {
    "colab": {
     "base_uri": "https://localhost:8080/"
    },
    "id": "BVNSe7sBdTY1",
    "outputId": "a1ee01a9-cd52-4802-f89e-ea9cf1833ed5"
   },
   "outputs": [],
   "source": [
    "vestibulandos['IDADE'].isnull().sum()"
   ]
  },
  {
   "cell_type": "code",
   "execution_count": null,
   "metadata": {
    "id": "kZIbSeR8Pdyt"
   },
   "outputs": [],
   "source": [
    "provas = ['NOTA_REDACAO','NOTA_CN','NOTA_MT','NOTA_LC','NOTA_CH']"
   ]
  },
  {
   "cell_type": "code",
   "execution_count": null,
   "metadata": {
    "colab": {
     "base_uri": "https://localhost:8080/"
    },
    "id": "CupDbA6qPd03",
    "outputId": "c129c51d-c6fa-4be0-fc60-5e33c9af8ec1"
   },
   "outputs": [],
   "source": [
    "# Registros NAN nas notas\n",
    "vestibulandos[provas].isnull().sum()"
   ]
  },
  {
   "cell_type": "code",
   "execution_count": null,
   "metadata": {
    "id": "NuTHc_OeKoZv"
   },
   "outputs": [],
   "source": [
    "presenca_total = ['TP_PRESENCA_CN','TP_PRESENCA_CH','TP_PRESENCA_MT','TP_PRESENCA_LC']"
   ]
  },
  {
   "cell_type": "code",
   "execution_count": null,
   "metadata": {
    "colab": {
     "base_uri": "https://localhost:8080/"
    },
    "id": "bwZ6DOMxKBS_",
    "outputId": "1f344fe0-b365-4621-b7b5-424773f98356"
   },
   "outputs": [],
   "source": [
    "#Criado uma coluna que soma as presenças nas provas\n",
    "vestibulandos['presenca_total'] = vestibulandos[presenca_total].sum(axis=1)"
   ]
  },
  {
   "cell_type": "code",
   "execution_count": null,
   "metadata": {
    "colab": {
     "base_uri": "https://localhost:8080/",
     "height": 232
    },
    "id": "qf-uZthGKTeD",
    "outputId": "053ff183-df95-413d-80bd-bea11bee0b53"
   },
   "outputs": [],
   "source": [
    "vestibulandos.head()"
   ]
  },
  {
   "cell_type": "code",
   "execution_count": null,
   "metadata": {
    "colab": {
     "base_uri": "https://localhost:8080/"
    },
    "id": "I-01WGDeNhsb",
    "outputId": "cf7abfa6-aba9-4193-d1ce-7efa2fafaacb"
   },
   "outputs": [],
   "source": [
    "vestibulandos['presenca_total'].value_counts().sort_index()\n",
    "# Se a soma for 0 faltou nos dois dias\n",
    "# Se a soma for 2, foi em um dia\n",
    "# Se a soma for 4, foi nos dois dias\n",
    "# Se a soma for 6 ou 8 teve desclassificação."
   ]
  },
  {
   "cell_type": "markdown",
   "metadata": {
    "id": "d0QQEeH7NcuF"
   },
   "source": [
    "COMPARECIMENTO NOS DIAS DAS PROVAS:\n",
    "\n",
    "500526 inscritos compareceram nos dois dias.\n",
    "\n",
    "185175 inscritos faltaram nos dois dias.\n",
    "\n",
    "33726 inscritos faltaram em um dos dias.\n",
    "\n",
    "341 foram desclassificados.\n",
    "\n"
   ]
  },
  {
   "cell_type": "code",
   "execution_count": null,
   "metadata": {
    "id": "hZCddq2jTHVo"
   },
   "outputs": [],
   "source": [
    "#Eliminando os estudantes que foram desclassificados por terem comparecido em apenas um dos dias, isto é, ficando apenas com os que vão concorrer no vestibular.\n",
    "vestibulandos_presentes = vestibulandos.loc[vestibulandos.presenca_total == 4]"
   ]
  },
  {
   "cell_type": "code",
   "execution_count": null,
   "metadata": {
    "colab": {
     "base_uri": "https://localhost:8080/"
    },
    "id": "0lTR2b6OTnRV",
    "outputId": "da3c0981-bb16-44dd-a77d-c420e9acfb95"
   },
   "outputs": [],
   "source": [
    "vestibulandos_presentes['TP_PRESENCA_CN'].value_counts().sort_index()"
   ]
  },
  {
   "cell_type": "code",
   "execution_count": null,
   "metadata": {
    "colab": {
     "base_uri": "https://localhost:8080/"
    },
    "id": "_vUMCtUdTpp9",
    "outputId": "c13ce26d-cc31-414c-d8cc-718d3f5664c2"
   },
   "outputs": [],
   "source": [
    "vestibulandos_presentes['TP_PRESENCA_CH'].value_counts().sort_index()"
   ]
  },
  {
   "cell_type": "code",
   "execution_count": null,
   "metadata": {
    "colab": {
     "base_uri": "https://localhost:8080/"
    },
    "id": "CNQGeg7cTptd",
    "outputId": "5c5d223d-a756-4be2-f6ef-309a7c6e13f0"
   },
   "outputs": [],
   "source": [
    "vestibulandos_presentes['TP_PRESENCA_LC'].value_counts().sort_index()"
   ]
  },
  {
   "cell_type": "code",
   "execution_count": null,
   "metadata": {
    "colab": {
     "base_uri": "https://localhost:8080/"
    },
    "id": "xaXKrvgDTpxR",
    "outputId": "fa9cd74e-bf16-412f-938b-1f12a201a24e"
   },
   "outputs": [],
   "source": [
    "vestibulandos_presentes['TP_PRESENCA_MT'].value_counts().sort_index()"
   ]
  },
  {
   "cell_type": "code",
   "execution_count": null,
   "metadata": {
    "id": "E20H04iOTpz3"
   },
   "outputs": [],
   "source": [
    "vestibulandos_classificados = vestibulandos_presentes.loc[vestibulandos_presentes.TP_PRESENCA_CN == 1]"
   ]
  },
  {
   "cell_type": "code",
   "execution_count": null,
   "metadata": {
    "colab": {
     "base_uri": "https://localhost:8080/"
    },
    "id": "IFaGP6gMTp11",
    "outputId": "91f3f5f9-258b-483f-f136-c69711a631e9"
   },
   "outputs": [],
   "source": [
    "vestibulandos_classificados['TP_PRESENCA_CN'].value_counts()"
   ]
  },
  {
   "cell_type": "code",
   "execution_count": null,
   "metadata": {
    "colab": {
     "base_uri": "https://localhost:8080/"
    },
    "id": "2WuBYrgfVaKq",
    "outputId": "02a86e1e-3f1b-44ed-ce84-5f74d137b217"
   },
   "outputs": [],
   "source": [
    "vestibulandos_classificados['TP_PRESENCA_CH'].value_counts()"
   ]
  },
  {
   "cell_type": "code",
   "execution_count": null,
   "metadata": {
    "colab": {
     "base_uri": "https://localhost:8080/"
    },
    "id": "oP_PZi4pVaZl",
    "outputId": "4d98ab9e-3198-4e02-b4ad-34c92a96025b"
   },
   "outputs": [],
   "source": [
    "vestibulandos_classificados['TP_PRESENCA_LC'].value_counts()"
   ]
  },
  {
   "cell_type": "code",
   "execution_count": null,
   "metadata": {
    "colab": {
     "base_uri": "https://localhost:8080/"
    },
    "id": "WwS0EVpRVac3",
    "outputId": "cb619993-1046-48ef-ac02-a2a5316f4ad3"
   },
   "outputs": [],
   "source": [
    "vestibulandos_classificados['TP_PRESENCA_MT'].value_counts()"
   ]
  },
  {
   "cell_type": "code",
   "execution_count": null,
   "metadata": {
    "id": "bH7j-hddVajt"
   },
   "outputs": [],
   "source": [
    "provas = ['NOTA_REDACAO','NOTA_CN','NOTA_MT','NOTA_LC','NOTA_CH']"
   ]
  },
  {
   "cell_type": "code",
   "execution_count": null,
   "metadata": {
    "colab": {
     "base_uri": "https://localhost:8080/"
    },
    "id": "m46bmF_0Vafu",
    "outputId": "4c0905ad-5ace-42af-eaaf-d5bee7b6ca80"
   },
   "outputs": [],
   "source": [
    "vestibulandos_classificados[provas].isnull().sum()"
   ]
  },
  {
   "cell_type": "markdown",
   "metadata": {
    "id": "b-eG3RmjDgar"
   },
   "source": [
    "** Notas zeros na Redação**"
   ]
  },
  {
   "cell_type": "code",
   "execution_count": null,
   "metadata": {
    "colab": {
     "base_uri": "https://localhost:8080/"
    },
    "id": "MP41kN969Saz",
    "outputId": "f78df548-197a-497e-c236-0f71ae95eea3"
   },
   "outputs": [],
   "source": [
    "vestibulandos_classificados.query('NOTA_REDACAO == 0')['NOTA_REDACAO'].value_counts()"
   ]
  },
  {
   "cell_type": "code",
   "execution_count": null,
   "metadata": {
    "colab": {
     "base_uri": "https://localhost:8080/"
    },
    "id": "jmwHE5j5XjTS",
    "outputId": "5989bd2d-d7a7-443b-a935-96f6ff8480af"
   },
   "outputs": [],
   "source": [
    "vestibulandos_classificados.query('COMP1 == 0')['COMP1'].value_counts()"
   ]
  },
  {
   "cell_type": "code",
   "execution_count": null,
   "metadata": {
    "colab": {
     "base_uri": "https://localhost:8080/"
    },
    "id": "qrTvoIfKXW5n",
    "outputId": "601da978-5233-4685-c780-49c051328bea"
   },
   "outputs": [],
   "source": [
    "vestibulandos_classificados.query('COMP2 == 0')['COMP2'].value_counts()"
   ]
  },
  {
   "cell_type": "code",
   "execution_count": null,
   "metadata": {
    "colab": {
     "base_uri": "https://localhost:8080/"
    },
    "id": "VlH_HTVtXXNi",
    "outputId": "3457c61f-b3bc-4c21-a88b-06514c22a649"
   },
   "outputs": [],
   "source": [
    "vestibulandos_classificados.query('COMP3 == 0')['COMP3'].value_counts()"
   ]
  },
  {
   "cell_type": "code",
   "execution_count": null,
   "metadata": {
    "colab": {
     "base_uri": "https://localhost:8080/"
    },
    "id": "EPeuZVq-XXdB",
    "outputId": "14ec75b7-f1b9-40e8-d215-0e711911ba68"
   },
   "outputs": [],
   "source": [
    "vestibulandos_classificados.query('COMP4 == 0')['COMP4'].value_counts()"
   ]
  },
  {
   "cell_type": "code",
   "execution_count": null,
   "metadata": {
    "colab": {
     "base_uri": "https://localhost:8080/"
    },
    "id": "-iORCGQOXXuy",
    "outputId": "0c253ec1-0910-4802-a025-4c45d26a4243"
   },
   "outputs": [],
   "source": [
    "vestibulandos_classificados.query('COMP5 == 0')['COMP5'].value_counts()"
   ]
  },
  {
   "cell_type": "markdown",
   "metadata": {
    "id": "SXBmTtkH_XDS"
   },
   "source": [
    "NOTAS ZEROS EM REDAÇÃO:\n",
    "\n",
    "REDAÇÃO (final): 9181 notas zeros devido a não cumprimento das regras ou tirou zero em todos os cinco componentes.\n",
    "\n",
    "COMPONENTE 1(Demonstrar domínio da modalidade escrita formal da Língua Portuguesa.): 9188 notas zeros somente neste item.\n",
    "\n",
    "COMPONENTE 2 (Compreender a proposta de redação e aplicar conceitos das várias áreas de conhecimento para desenvolver o tema, dentro dos limites estruturais do texto dissertativo-argumentativo em prosa): 9181. \n",
    "\n",
    "COMPONENTE 3 (Selecionar, relacionar, organizar e interpretar informações, fatos, opiniões e argumentos em defesa de um ponto de vista): 9197 notas zeros somente neste item.\n",
    "\n",
    "COMPONENTE 4 (Demonstrar conhecimento dos mecanismos linguísticos necessários para a construção da argumentação.): 9194 notas zeros somente neste item.\n",
    "\n",
    "COMPONENTE 5 (Elaborar proposta de intervenção para o problema abordado, respeitando os direitos humanos): 73330 notas zeros somente neste item.\n"
   ]
  },
  {
   "cell_type": "code",
   "execution_count": null,
   "metadata": {
    "colab": {
     "base_uri": "https://localhost:8080/"
    },
    "id": "gzalNqvXX3Um",
    "outputId": "0b464445-13aa-4f9f-8dbc-a0a774b754ed"
   },
   "outputs": [],
   "source": [
    "vestibulandos_classificados.query('NOTA_CH == 0')['NOTA_CH'].value_counts()"
   ]
  },
  {
   "cell_type": "code",
   "execution_count": null,
   "metadata": {
    "colab": {
     "base_uri": "https://localhost:8080/"
    },
    "id": "b_zUC5gidKU_",
    "outputId": "b22ce1a8-4fdd-4d1b-c36a-df0fcf622d93"
   },
   "outputs": [],
   "source": [
    "vestibulandos_classificados.query('NOTA_CN == 0')['NOTA_CN'].value_counts()"
   ]
  },
  {
   "cell_type": "code",
   "execution_count": null,
   "metadata": {
    "colab": {
     "base_uri": "https://localhost:8080/"
    },
    "id": "Uu-SUbkIdKpU",
    "outputId": "a7b45a74-92ac-4986-8ded-d8bac5678331"
   },
   "outputs": [],
   "source": [
    "vestibulandos_classificados.query('NOTA_LC == 0')['NOTA_LC'].value_counts()"
   ]
  },
  {
   "cell_type": "code",
   "execution_count": null,
   "metadata": {
    "colab": {
     "base_uri": "https://localhost:8080/"
    },
    "id": "7WYG9Sy4dK7v",
    "outputId": "88db6901-4808-437e-8f0a-f393fbdf5a36"
   },
   "outputs": [],
   "source": [
    "vestibulandos_classificados.query('NOTA_MT == 0')['NOTA_MT'].value_counts()"
   ]
  },
  {
   "cell_type": "code",
   "execution_count": null,
   "metadata": {
    "colab": {
     "base_uri": "https://localhost:8080/"
    },
    "id": "1QsZ4Yp7dMii",
    "outputId": "214891df-9262-4ecd-f6d9-528dd5e1caab"
   },
   "outputs": [],
   "source": [
    "vestibulandos_classificados.query('NOTA_REDACAO == 0')['NOTA_REDACAO'].value_counts()"
   ]
  },
  {
   "cell_type": "markdown",
   "metadata": {
    "id": "rK5rF8niYee_"
   },
   "source": [
    "NOTAS ZEROS DOS INSCRITOS CONCORRENTES AO VESTIBULAR:\n",
    "\n",
    "Matemática = 56\n",
    "\n",
    "Ciências da Natureza = 36\n",
    "\n",
    "Linguagens e Códigos = 135\n",
    "\n",
    "Ciências Humanas = 343\n",
    "\n",
    "Redação = 9181\n"
   ]
  },
  {
   "cell_type": "code",
   "execution_count": null,
   "metadata": {
    "colab": {
     "base_uri": "https://localhost:8080/",
     "height": 232
    },
    "id": "1ZHasQ_f_Eri",
    "outputId": "d826f3cd-4969-4332-da7a-6b77bfea8dac"
   },
   "outputs": [],
   "source": [
    "vestibulandos_classificados.head()"
   ]
  },
  {
   "cell_type": "code",
   "execution_count": null,
   "metadata": {
    "id": "Ojifr3mxeowO"
   },
   "outputs": [],
   "source": [
    "vestibulandos_classificados = vestibulandos_classificados.drop(columns=['IN_TREINEIRO','presenca_total'], )"
   ]
  },
  {
   "cell_type": "code",
   "execution_count": null,
   "metadata": {
    "colab": {
     "base_uri": "https://localhost:8080/"
    },
    "id": "rWZ4rP2Te_FB",
    "outputId": "d3423a48-3a02-48b1-b7b4-f09036fc60ef"
   },
   "outputs": [],
   "source": [
    "vestibulandos_classificados.shape"
   ]
  },
  {
   "cell_type": "markdown",
   "metadata": {
    "id": "xJBO2DT_dykz"
   },
   "source": [
    "## **Salvando (Exportando) o Dataframe Tratado**"
   ]
  },
  {
   "cell_type": "code",
   "execution_count": null,
   "metadata": {
    "id": "lpVkk2e9XXuF"
   },
   "outputs": [],
   "source": [
    "vestibulandos_classificados.to_csv('enem_2019_tratado.csv', encoding = 'iso-8859-1', index = False)"
   ]
  }
 ],
 "metadata": {
  "colab": {
   "collapsed_sections": [
    "xJBO2DT_dykz"
   ],
   "name": "tratamento_enem_2019.ipynb",
   "provenance": []
  },
  "kernelspec": {
   "display_name": "Python 3",
   "language": "python",
   "name": "python3"
  },
  "language_info": {
   "codemirror_mode": {
    "name": "ipython",
    "version": 3
   },
   "file_extension": ".py",
   "mimetype": "text/x-python",
   "name": "python",
   "nbconvert_exporter": "python",
   "pygments_lexer": "ipython3",
   "version": "3.8.10"
  }
 },
 "nbformat": 4,
 "nbformat_minor": 1
}
