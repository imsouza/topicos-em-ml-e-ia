{
 "cells": [
  {
   "cell_type": "code",
   "execution_count": null,
   "metadata": {
    "id": "IQ6Ij54-tLbK"
   },
   "outputs": [],
   "source": [
    "import numpy as np\n",
    "import pandas as pd"
   ]
  },
  {
   "cell_type": "markdown",
   "metadata": {
    "id": "0bgLL5Xzf97l"
   },
   "source": [
    "### **Análise Inicial**"
   ]
  },
  {
   "cell_type": "code",
   "execution_count": null,
   "metadata": {
    "id": "Gx279BoU4IuD"
   },
   "outputs": [],
   "source": [
    "# IMPORTAÇÃO DO DATAFRAME\n",
    "massa = pd.read_csv('data2.csv', sep=';')"
   ]
  },
  {
   "cell_type": "code",
   "execution_count": null,
   "metadata": {
    "id": "5vy7kqF1uAMq"
   },
   "outputs": [],
   "source": [
    "massa.head()"
   ]
  },
  {
   "cell_type": "code",
   "execution_count": null,
   "metadata": {
    "id": "Cz1sxDbkVvwP"
   },
   "outputs": [],
   "source": [
    "massa.shape"
   ]
  },
  {
   "cell_type": "markdown",
   "metadata": {
    "id": "3lk5kf4eZ_sL"
   },
   "source": [
    "Valores Missing (NAN)"
   ]
  },
  {
   "cell_type": "code",
   "execution_count": null,
   "metadata": {
    "id": "A24U7d5QYPaV"
   },
   "outputs": [],
   "source": [
    "# Indicação da quantidade de valores faltantes\n",
    "massa.isnull().sum()"
   ]
  },
  {
   "cell_type": "code",
   "execution_count": null,
   "metadata": {
    "id": "OI3rftvZWLI_"
   },
   "outputs": [],
   "source": [
    "# Exclusão dos valores faltantes\n",
    "massa = massa.dropna()"
   ]
  },
  {
   "cell_type": "code",
   "execution_count": null,
   "metadata": {
    "id": "1uergFDvWVCQ"
   },
   "outputs": [],
   "source": [
    "massa.shape"
   ]
  },
  {
   "cell_type": "markdown",
   "metadata": {
    "id": "z0SOqiC3WtKN"
   },
   "source": [
    "### **Criação da matriz de Covariância**"
   ]
  },
  {
   "cell_type": "code",
   "execution_count": null,
   "metadata": {
    "id": "HKbsrbACvedP"
   },
   "outputs": [],
   "source": [
    "matriz = massa.drop(columns=['amostra'])\n",
    "matriz"
   ]
  },
  {
   "cell_type": "code",
   "execution_count": null,
   "metadata": {
    "id": "xYDvb61uvFS_"
   },
   "outputs": [],
   "source": [
    "matriz = matriz.values\n",
    "print (matriz)"
   ]
  },
  {
   "cell_type": "code",
   "execution_count": null,
   "metadata": {
    "id": "Te8ZbWRkumJ5"
   },
   "outputs": [],
   "source": [
    "matriz_cov = np.cov(np.transpose(matriz))\n",
    "matriz_cov"
   ]
  },
  {
   "cell_type": "markdown",
   "metadata": {
    "id": "9NSrQsOOY2-h"
   },
   "source": [
    "### **Autovalores e autovetores da matriz de covariância**"
   ]
  },
  {
   "cell_type": "code",
   "execution_count": null,
   "metadata": {
    "id": "6dhNXwwav0KO"
   },
   "outputs": [],
   "source": [
    "autovalor,autovetor = np.linalg.eig(matriz_cov)\n",
    "print('O autovalor {:.3f} está associado aos autovetores {:.3f} e {:.3f}'.format(autovalor[0],autovetor[0][0],autovetor[1][0]))\n",
    "print('O autovalor {:.3f} está associado aos autovetores {:.3f} e {:.3f}'.format(autovalor[1],autovetor[0][1],autovetor[1][1]))"
   ]
  },
  {
   "cell_type": "markdown",
   "metadata": {
    "id": "-1YpWUeZZA7_"
   },
   "source": [
    "### **Taxa de variância Explicada (EVR)**"
   ]
  },
  {
   "cell_type": "code",
   "execution_count": null,
   "metadata": {
    "id": "SkDv8zO8w5MV"
   },
   "outputs": [],
   "source": [
    "EVR=autovalor/np.sum(autovalor)\n",
    "EVR"
   ]
  },
  {
   "cell_type": "markdown",
   "metadata": {
    "id": "yavaB5Gda_UG"
   },
   "source": [
    "**Os componentes principais, neste caso, serão os autovetores 0,731 e 0,682**."
   ]
  }
 ],
 "metadata": {
  "colab": {
   "name": "PCA.ipynb",
   "provenance": []
  },
  "kernelspec": {
   "display_name": "Python 3",
   "language": "python",
   "name": "python3"
  },
  "language_info": {
   "codemirror_mode": {
    "name": "ipython",
    "version": 3
   },
   "file_extension": ".py",
   "mimetype": "text/x-python",
   "name": "python",
   "nbconvert_exporter": "python",
   "pygments_lexer": "ipython3",
   "version": "3.8.10"
  }
 },
 "nbformat": 4,
 "nbformat_minor": 1
}
