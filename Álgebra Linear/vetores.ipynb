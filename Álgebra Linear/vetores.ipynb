{
  "nbformat": 4,
  "nbformat_minor": 0,
  "metadata": {
    "colab": {
      "name": "Vetores.ipynb",
      "provenance": []
    },
    "kernelspec": {
      "name": "python3",
      "display_name": "Python 3"
    },
    "language_info": {
      "name": "python"
    }
  },
  "cells": [
    {
      "cell_type": "markdown",
      "metadata": {
        "id": "0JNJN2U1kDBj"
      },
      "source": [
        "# **CÁLCULO COM VETORES**"
      ]
    },
    {
      "cell_type": "markdown",
      "metadata": {
        "id": "9ukE8_xJb-Jk"
      },
      "source": [
        "## **Criação dos vetores**"
      ]
    },
    {
      "cell_type": "code",
      "metadata": {
        "id": "NdjhPphRI1JS"
      },
      "source": [
        "import numpy as np"
      ],
      "execution_count": null,
      "outputs": []
    },
    {
      "cell_type": "code",
      "metadata": {
        "id": "zr_CulDO6T31"
      },
      "source": [
        "u = [2,-4,1]"
      ],
      "execution_count": null,
      "outputs": []
    },
    {
      "cell_type": "code",
      "metadata": {
        "id": "XqQeV8Q9IbTT"
      },
      "source": [
        "type(u)"
      ],
      "execution_count": null,
      "outputs": []
    },
    {
      "cell_type": "code",
      "metadata": {
        "id": "hpF6erqpItvN"
      },
      "source": [
        "u = np.array(u)"
      ],
      "execution_count": null,
      "outputs": []
    },
    {
      "cell_type": "code",
      "metadata": {
        "id": "-MSlCnr2I8Ih"
      },
      "source": [
        "type(u)"
      ],
      "execution_count": null,
      "outputs": []
    },
    {
      "cell_type": "code",
      "metadata": {
        "id": "_O6uOwYnv628"
      },
      "source": [
        "u.shape"
      ],
      "execution_count": null,
      "outputs": []
    },
    {
      "cell_type": "code",
      "metadata": {
        "id": "yNLnJ2X5P-zE"
      },
      "source": [
        "v = np.array([3,2,-5])"
      ],
      "execution_count": null,
      "outputs": []
    },
    {
      "cell_type": "markdown",
      "metadata": {
        "id": "3YhZDS4E11Tq"
      },
      "source": [
        "**Indexação do Python inicia no zero**"
      ]
    },
    {
      "cell_type": "code",
      "metadata": {
        "id": "xg_iWGNhULwx"
      },
      "source": [
        "u[0]"
      ],
      "execution_count": null,
      "outputs": []
    },
    {
      "cell_type": "code",
      "metadata": {
        "id": "v3dIbVJI2Gt-"
      },
      "source": [
        "u[1]"
      ],
      "execution_count": null,
      "outputs": []
    },
    {
      "cell_type": "code",
      "metadata": {
        "id": "RC5lX0bo2M8d"
      },
      "source": [
        "u[2]"
      ],
      "execution_count": null,
      "outputs": []
    },
    {
      "cell_type": "code",
      "metadata": {
        "id": "Kr48t-A1o1gO"
      },
      "source": [
        "v[1]"
      ],
      "execution_count": null,
      "outputs": []
    },
    {
      "cell_type": "code",
      "metadata": {
        "id": "W59P5Z7_2YCE"
      },
      "source": [
        "v[0:3]"
      ],
      "execution_count": null,
      "outputs": []
    },
    {
      "cell_type": "markdown",
      "metadata": {
        "id": "K1mjQea4cK7X"
      },
      "source": [
        "## **Soma de vetores**"
      ]
    },
    {
      "cell_type": "code",
      "metadata": {
        "id": "AGpmLjdV5a4Q"
      },
      "source": [
        "print(u)"
      ],
      "execution_count": null,
      "outputs": []
    },
    {
      "cell_type": "code",
      "metadata": {
        "id": "9uZA0S_U5dT2"
      },
      "source": [
        "print(v)"
      ],
      "execution_count": null,
      "outputs": []
    },
    {
      "cell_type": "code",
      "metadata": {
        "id": "42j2BsTP20_r"
      },
      "source": [
        "soma = u + v\n",
        "print(soma)"
      ],
      "execution_count": null,
      "outputs": []
    },
    {
      "cell_type": "markdown",
      "metadata": {
        "id": "QBk9UxaxcYMg"
      },
      "source": [
        "## **Produto Interno**"
      ]
    },
    {
      "cell_type": "code",
      "metadata": {
        "id": "gOl-SjuF3gJL"
      },
      "source": [
        "u * v"
      ],
      "execution_count": null,
      "outputs": []
    },
    {
      "cell_type": "code",
      "metadata": {
        "id": "hDuObAfWT4DE"
      },
      "source": [
        "prod_int = 0\n",
        "for i in range (len(u)):\n",
        "    prod_int = prod_int + u[i] * v[i] \n",
        "    i = i + 1\n",
        "print(prod_int)"
      ],
      "execution_count": null,
      "outputs": []
    },
    {
      "cell_type": "markdown",
      "metadata": {
        "id": "e4EsKaA3ceYf"
      },
      "source": [
        "## **Multiplicação por escalar**"
      ]
    },
    {
      "cell_type": "code",
      "metadata": {
        "id": "M4eT1a2g64KK"
      },
      "source": [
        "u"
      ],
      "execution_count": null,
      "outputs": []
    },
    {
      "cell_type": "code",
      "metadata": {
        "id": "WlMQ42SA3w0B"
      },
      "source": [
        "mult1 = 5*u\n",
        "mult1"
      ],
      "execution_count": null,
      "outputs": []
    },
    {
      "cell_type": "code",
      "metadata": {
        "id": "Un103hny68_D"
      },
      "source": [
        "v"
      ],
      "execution_count": null,
      "outputs": []
    },
    {
      "cell_type": "code",
      "metadata": {
        "id": "Q4wHZLme3506"
      },
      "source": [
        "mult2 = 5*v\n",
        "mult2"
      ],
      "execution_count": null,
      "outputs": []
    },
    {
      "cell_type": "markdown",
      "metadata": {
        "id": "x276Jn_Oc80O"
      },
      "source": [
        "## **Distância entre vetores**"
      ]
    },
    {
      "cell_type": "markdown",
      "metadata": {
        "id": "QsoL75t5jfg4"
      },
      "source": [
        "![image.png](data:image/png;base64,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)"
      ]
    },
    {
      "cell_type": "markdown",
      "metadata": {
        "id": "hdGO7eIIsLBw"
      },
      "source": [
        "### **Criação de uma função**"
      ]
    },
    {
      "cell_type": "code",
      "metadata": {
        "id": "hx6XCHwMBq82"
      },
      "source": [
        "u"
      ],
      "execution_count": null,
      "outputs": []
    },
    {
      "cell_type": "code",
      "metadata": {
        "id": "Iy_sbQrXBtd2"
      },
      "source": [
        "v"
      ],
      "execution_count": null,
      "outputs": []
    },
    {
      "cell_type": "code",
      "metadata": {
        "id": "LGyTUikTht5M"
      },
      "source": [
        "def dist (vetor1,vetor2):\n",
        "  soma_quad = 0\n",
        "  for i in range (len(u)):\n",
        "    soma_quad = soma_quad+(u[i] - v[i])**2 \n",
        "    i = i + 1\n",
        "  dist = soma_quad**(1/2)\n",
        "  print ('A distância entre os vetores é igual a {:.2f}'.format (dist))"
      ],
      "execution_count": null,
      "outputs": []
    },
    {
      "cell_type": "code",
      "metadata": {
        "id": "87ftwRbB4yb2"
      },
      "source": [
        "dist(u,v)"
      ],
      "execution_count": null,
      "outputs": []
    },
    {
      "cell_type": "markdown",
      "metadata": {
        "id": "-MtSyrXrhEwg"
      },
      "source": [
        "## **Norma**"
      ]
    },
    {
      "cell_type": "markdown",
      "metadata": {
        "id": "IOzF8BECjmUo"
      },
      "source": [
        "![image.png](data:image/png;base64,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)"
      ]
    },
    {
      "cell_type": "code",
      "metadata": {
        "id": "IWDK17fQzCR9"
      },
      "source": [
        "np.linalg.norm(v)"
      ],
      "execution_count": null,
      "outputs": []
    },
    {
      "cell_type": "code",
      "metadata": {
        "id": "JEOv14FHy04k"
      },
      "source": [
        "np.linalg.norm(u)"
      ],
      "execution_count": null,
      "outputs": []
    },
    {
      "cell_type": "code",
      "metadata": {
        "id": "kbVh-SpVtNr-"
      },
      "source": [
        "w = np.array([2,4,6,8,10,12])\n",
        "w"
      ],
      "execution_count": null,
      "outputs": []
    },
    {
      "cell_type": "code",
      "metadata": {
        "id": "4Bwk2lXrzi5y"
      },
      "source": [
        "np.linalg.norm(w)"
      ],
      "execution_count": null,
      "outputs": []
    },
    {
      "cell_type": "markdown",
      "metadata": {
        "id": "bGyGyUYaoQOY"
      },
      "source": [
        "## **Representação Geométrica**"
      ]
    },
    {
      "cell_type": "code",
      "metadata": {
        "id": "v5z-11IOoWIV"
      },
      "source": [
        "import matplotlib.pyplot as plt"
      ],
      "execution_count": null,
      "outputs": []
    },
    {
      "cell_type": "code",
      "metadata": {
        "id": "HiQ-nylto9kF"
      },
      "source": [
        "m = np.array([4,5])"
      ],
      "execution_count": null,
      "outputs": []
    },
    {
      "cell_type": "code",
      "metadata": {
        "id": "wolleQUqpD1s"
      },
      "source": [
        "p = np.array([-2,5])"
      ],
      "execution_count": null,
      "outputs": []
    },
    {
      "cell_type": "code",
      "metadata": {
        "id": "4L9gw6CsFdu9"
      },
      "source": [
        "soma = m+p\n",
        "soma"
      ],
      "execution_count": null,
      "outputs": []
    },
    {
      "cell_type": "code",
      "metadata": {
        "id": "Rru-CtLnsLgh"
      },
      "source": [
        "soma = []\n",
        "for i in range (len(m)):\n",
        "    soma.append (m[i] + p[i]) \n",
        "    i = i + 1\n",
        "print(soma)"
      ],
      "execution_count": null,
      "outputs": []
    },
    {
      "cell_type": "code",
      "metadata": {
        "id": "uDJDuUPrpkYm"
      },
      "source": [
        "v = np.array([m, p, soma])\n",
        "origin = np.array([[0, 0, 0],[0, 0, 0]]) # origem dos vetores\n",
        "\n",
        "plt.quiver(*origin, v[:,0], v[:,1], color=['r','b', 'y'], scale=40)\n",
        "plt.show();"
      ],
      "execution_count": null,
      "outputs": []
    }
  ]
}