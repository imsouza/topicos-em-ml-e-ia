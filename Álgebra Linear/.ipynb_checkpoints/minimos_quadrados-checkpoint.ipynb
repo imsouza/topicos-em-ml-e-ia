{
 "cells": [
  {
   "cell_type": "markdown",
   "metadata": {
    "id": "VH-NomdS0rWH"
   },
   "source": [
    "# **ESTIMATIVA POR MÍNIMO QUADRADO**"
   ]
  },
  {
   "cell_type": "code",
   "execution_count": 2,
   "metadata": {
    "id": "A5LYSH9r3mbg"
   },
   "outputs": [],
   "source": [
    "import numpy as np\n",
    "import pandas as pd\n",
    "import scipy as sp"
   ]
  },
  {
   "cell_type": "markdown",
   "metadata": {
    "id": "0bgLL5Xzf97l"
   },
   "source": [
    "### **Análise Inicial**"
   ]
  },
  {
   "cell_type": "code",
   "execution_count": 3,
   "metadata": {
    "id": "Gx279BoU4IuD"
   },
   "outputs": [],
   "source": [
    "# IMPORTAÇÃO DO DATAFRAME\n",
    "nota = pd.read_excel('data.xlsx')"
   ]
  },
  {
   "cell_type": "code",
   "execution_count": null,
   "metadata": {
    "id": "bDNyXnVH4bWe"
   },
   "outputs": [],
   "source": [
    "nota.head(25)"
   ]
  },
  {
   "cell_type": "markdown",
   "metadata": {
    "id": "Bh7E8kqi9GUf"
   },
   "source": [
    "5.x + 120.y = 8.1\n",
    "\n",
    "13.x + 90.y = 6.8\n",
    "\n",
    "20.x + 120.y = 7\n",
    "\n",
    "28.x + 60.y = 7.4\n",
    "\n",
    "20.x + 150y = 9.3\n",
    "\n",
    "...."
   ]
  },
  {
   "cell_type": "code",
   "execution_count": null,
   "metadata": {
    "id": "OjThHbIHG3mh"
   },
   "outputs": [],
   "source": [
    "nota.shape"
   ]
  },
  {
   "cell_type": "code",
   "execution_count": null,
   "metadata": {
    "id": "rJtkCDi03apf"
   },
   "outputs": [],
   "source": [
    "# Análise dos tipos de atributos.\n",
    "# object: strings\n",
    "# int64: inteiros\n",
    "# float64: reais\n",
    "# complex: complexos\n",
    "nota.dtypes"
   ]
  },
  {
   "cell_type": "markdown",
   "metadata": {
    "id": "3lk5kf4eZ_sL"
   },
   "source": [
    "Valores Missing (NAN)"
   ]
  },
  {
   "cell_type": "code",
   "execution_count": null,
   "metadata": {
    "id": "A24U7d5QYPaV"
   },
   "outputs": [],
   "source": [
    "nota.isnull().sum()"
   ]
  },
  {
   "cell_type": "markdown",
   "metadata": {
    "id": "LM9whgus2Onb"
   },
   "source": [
    "### **Criação da Matriz dos Coeficientes**"
   ]
  },
  {
   "cell_type": "code",
   "execution_count": null,
   "metadata": {
    "id": "FaL6SMSWneyT"
   },
   "outputs": [],
   "source": [
    "nota.head()"
   ]
  },
  {
   "cell_type": "code",
   "execution_count": null,
   "metadata": {
    "id": "NIB468Gz6Ym0"
   },
   "outputs": [],
   "source": [
    "A = nota.drop(columns=['nota'])\n",
    "A.head()"
   ]
  },
  {
   "cell_type": "code",
   "execution_count": null,
   "metadata": {
    "id": "abFhTUiF_wx_"
   },
   "outputs": [],
   "source": [
    "type(A)"
   ]
  },
  {
   "cell_type": "code",
   "execution_count": null,
   "metadata": {
    "id": "9_IYFq707TX_"
   },
   "outputs": [],
   "source": [
    "A = A.values\n",
    "print (A)"
   ]
  },
  {
   "cell_type": "code",
   "execution_count": null,
   "metadata": {
    "id": "azSkRepD_NvZ"
   },
   "outputs": [],
   "source": [
    "type(A)"
   ]
  },
  {
   "cell_type": "markdown",
   "metadata": {
    "id": "_jumeSU42yxu"
   },
   "source": [
    "### **Criação da Matriz das Constantes**"
   ]
  },
  {
   "cell_type": "code",
   "execution_count": null,
   "metadata": {
    "id": "3dYEUQgnoUqT"
   },
   "outputs": [],
   "source": [
    "nota.head()"
   ]
  },
  {
   "cell_type": "code",
   "execution_count": null,
   "metadata": {
    "id": "QSorVbBtBWNb"
   },
   "outputs": [],
   "source": [
    "b = nota.drop(columns=['inicio_estudo','tempo_estudo_dia'])\n",
    "b"
   ]
  },
  {
   "cell_type": "code",
   "execution_count": null,
   "metadata": {
    "id": "26AsKU_nDQZB"
   },
   "outputs": [],
   "source": [
    "b = b.values\n",
    "b"
   ]
  },
  {
   "cell_type": "markdown",
   "metadata": {
    "id": "bfAx-_ECgSl-"
   },
   "source": [
    "### **Estimativa por mínimos quadrados**"
   ]
  },
  {
   "cell_type": "markdown",
   "metadata": {
    "id": "nX-5HpcY4QSB"
   },
   "source": [
    "![image.png](data:image/png;base64,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)"
   ]
  },
  {
   "cell_type": "code",
   "execution_count": null,
   "metadata": {
    "id": "npRmhrU1_ZhX"
   },
   "outputs": [],
   "source": [
    "# Transposta da Matriz A\n",
    "At = np.array(A).T\n",
    "At"
   ]
  },
  {
   "cell_type": "code",
   "execution_count": null,
   "metadata": {
    "id": "yAog_LR54Cv3"
   },
   "outputs": [],
   "source": [
    "print(A)"
   ]
  },
  {
   "cell_type": "code",
   "execution_count": null,
   "metadata": {
    "id": "lNA0Fzx9_lMg"
   },
   "outputs": [],
   "source": [
    "# Multiplicação da Transposta de A pela matriz A\n",
    "AtA =  np.dot(At,A)\n",
    "AtA"
   ]
  },
  {
   "cell_type": "code",
   "execution_count": null,
   "metadata": {
    "id": "83zK60NtAYtl"
   },
   "outputs": [],
   "source": [
    "# Inversa da matriz calculada anteriormente\n",
    "inv = np.linalg.inv(AtA)\n",
    "inv"
   ]
  },
  {
   "cell_type": "code",
   "execution_count": null,
   "metadata": {
    "id": "Nyq09xjIAwTU"
   },
   "outputs": [],
   "source": [
    "Atb = np.dot(At,b)\n",
    "Atb"
   ]
  },
  {
   "cell_type": "code",
   "execution_count": null,
   "metadata": {
    "id": "0LrhxTq3BNAc"
   },
   "outputs": [],
   "source": [
    "x = np.dot(inv,Atb)\n",
    "x"
   ]
  },
  {
   "cell_type": "code",
   "execution_count": null,
   "metadata": {
    "id": "2jC3JVr5Lwhm"
   },
   "outputs": [],
   "source": [
    "x =  np.dot(np.dot(np.linalg.inv(np.dot(At,A)),At),b)\n",
    "x"
   ]
  },
  {
   "cell_type": "markdown",
   "metadata": {
    "id": "oidEUywz5M3t"
   },
   "source": [
    "**nota = 0.1839.inicio_estudo + 0.0414.tempo_estudo_dia**"
   ]
  },
  {
   "cell_type": "code",
   "execution_count": null,
   "metadata": {
    "id": "6FTxuaCB_Ilv"
   },
   "outputs": [],
   "source": [
    "resultado = nota\n",
    "resultado"
   ]
  },
  {
   "cell_type": "code",
   "execution_count": null,
   "metadata": {
    "id": "yjj-y7RPEAor"
   },
   "outputs": [],
   "source": [
    "resultado['previsao'] = resultado['inicio_estudo']*x[0]+resultado['tempo_estudo_dia']*x[1]\n",
    "resultado"
   ]
  },
  {
   "cell_type": "code",
   "execution_count": null,
   "metadata": {
    "id": "PTaaQZfaMFdr"
   },
   "outputs": [],
   "source": [
    "# Erro médio absoluto (MAE)\n",
    "from sklearn.metrics import mean_absolute_error\n",
    "mean_absolute_error(resultado.nota, resultado.previsao)"
   ]
  },
  {
   "cell_type": "code",
   "execution_count": null,
   "metadata": {
    "id": "V_RvcQ6XM6x7"
   },
   "outputs": [],
   "source": [
    "resultado['erro_abs'] = abs (resultado.nota - resultado.previsao)\n",
    "resultado"
   ]
  },
  {
   "cell_type": "markdown",
   "metadata": {
    "id": "BJpyO-3Y-JL0"
   },
   "source": [
    "# **Criação de um modelo de regressão linear múltipla**"
   ]
  },
  {
   "cell_type": "markdown",
   "metadata": {
    "id": "MpZbYq2rEqaP"
   },
   "source": [
    "![image.png](data:image/png;base64,iVBORw0KGgoAAAANSUhEUgAAAs4AAABACAYAAAAKyfGtAAAR1ElEQVR4Ae2dPbbmNBOEZ4OzDxbBElgBGyAnJyaddEJCMnZwOQVfMTX6LFu21FbLLp0zx379I7Werpbasi98+nAxARMwARMwARMwARMwARM4JPDp8ApfYAImYAImYAImYAImYAIm8OHE2SIwARMwARMwARMwARMwgQYCTpwbIPkSEzABEzABEzABEzABE3DibA2YgAmYgAmYgAmYgAmYQAMBJ84NkHyJCZiACZiACZiACZiACThxtgZMwARMwARMwARMwARMoIGAE+cGSL7EBEzABEzABEzABEzABJw4WwMmYAImYAImYAImYAIm0EDAiXMDJF9iAiZgAiZgAiZgAiZgAk6ck2ngt99++/j06dPmv2Smvsoc++VV7j7srPVwiMgXmMAQAo61IRhdyUACTpwHwhxV1V9//fXxyy+/fJc8//jjj6Oqdz0XCdgvF8E99Dbr4aGOdbfSEXCspXPJqw1y4pzU/X/88cd3ifOvv/6a1NJ3mWW/vMvfR721Ho4I+bwJjCHgWBvD0bX0E3Di3M8wpIZykPj69WtIO670HAH75Ryvp19tPTzdw+5fFgKOtSyesB1OnJNq4MuXL9+tOONV1ROLfr+G/ezlLX7J7ocsurEecikliy5yUemzJgtTx1qfH++6O4teIvvrxDmSbkfd+DSDfyT4ww8/dNSU+9bVguwtfsmtmo+PLLqxHnIpJYsuclHpsyYLU8danx/vujuLXiL768Q5km5H3fhjQCbO+EPBp5bVguwtfsmutyy6sR5yKSWLLnJR6bMmC1PHWp8f77o7i14i++vEOZJuR91MmrHFK6qnltWC7C1+ya63LLqxHnIpJYsuclHpsyYLU8danx/vujuLXiL768Q5ku7Fuss/gvjzzz8v1pT/tpWC7E1+ya6cDLqxHvKpJIMu8lHpsygDU8danw/vvDuDXqL768Q5mvCF+lV4nz9/vlDDOrdoX7GfuaitT/dLZj/ANvXFLN2oDdZDDsWoT2bpIgeJcVZkYKo2ONbG+TaiJvXVU2NwaOIMSPod0s8//3zol59++um/b3n1VcxT/ysSh0A+Pj7AjSxKhnjy1vPgvfKnHCsFmXLP6JdSG/ijUhzbK/iDG0xE0Bu2q8RdBt1k1wP8/iZNoL8ZdLEXbyuey8B0hVhT374t7rTvGfRCe5AbQTuYC5lTca5D7on570r+NCRxxqcEmjCrgTh+VBQ07z2a8I/qXPk8Exmw+P333//riv5VMTlxi3MrFvU99jOXzH6paWMvGd6K2cz81bYMusmsB7B6mybQ5wy6UJ0+YT8D0+yxpn5+Y9xp/zPoBf/fC9UM86TatiVP1T52J85ImmEg/jHZLf930S3/8w7t0Kj//JrWGbmvQHv3wVNtrTHVa7i/4rfQGYKsxWeZ/cJ44399hTFJXYBxWbaSZjyBr1Jm6yazHuDDN2oC/Z6ti1Xi54yds5lmjzVl+da4Uwaz9YJ8k3MftpjryhwUq8yaWHPu1H7s7Q9JnDHhQtwseN2rhrcYpdfrKivrvLLVOiP3r9hWuwcOVVtxHYMRrxzIGYzL5KeFc63dWcdnB1lrvzP7BQxL31Mz0FL5NM1zfNjlxIR6VimzdZNZD/DhGzXBfnP8XEnPmePOsdbunbfGnRKarRdNiPcWgzTBPptzdifOCkz3NakrJ269DvtYVeVgh06PKqwzejvKXtTDpAY2w+mcoLccWz6gHHEeaeeoumYHWWs/VvOLDgrQEgv1hDjjQxjPrbSdrZvV9ADfPl0T6ONsXawUQ622zma6Yqwp2zfEnfZ3pl40l8S8xzf2ap/uM8k+uk7vwf63GbU80/m7/M5nrzokhUxuESRvLvrAgRVmOHYraSaj8qN3Hl9lOzPIzjBa0S+MKQ4gSJQ5UKycNMNvs3Wzoh7A7cmamKkLxBMWOsC3fANbG2fuuqfWfutxx1orqfp1T4877flMvSCmlLXaNXI/LHEun7L2MnqdhFb5q/6RTtC61OnYP3qQ4GDN+7SuWfu0JXp7Z//KvqzgF40rPHzxN1adM5aScdTvEX0vbVtBD+g3NQD7V9AEbC5ZR/3u0UU5DuP3Ubnrni07ohiW9W61ffZYWecqsab9XDHu1P7SB1G/tc2r+yXrq/Xs3ReWOJefEdRWTfW6o4DY68gTzpUPGy1/JFkOvhk4RAVVWe9dfV3VL+VbH/DLHGOlf6N+9+pmVT2g36tpAjZH6aCst0cXZV34fVTuumfLjq22I45ttX3m2Mqxpv1cMe7U/ghtbNWpbV7dx6qzJs9YAcexkeU4ujta42thAIJwtoou6799tVlZgFnLyqAKBPsZylZARBy7q6+r+oXfM5N9Fn3U/EY7o7e19luPr6oH9G81TcDmaD2w/lb/b11XLmB4xfnTP37bYnXm2Mqxpv1cMe7UfsZI9Fbb7N0H8/JTVrW/p/7QxFkHk9pAwuQaAfL2orzApaWoEPBN9F4BY020ISqsQM58YNGBMasGov2y57Oec/o2BzrZ+1yqp50Z987UTYQe4Bv0CTGs9cNvGAtwHBNBbxmhibtsvdLXWbq463vlK+1c4aj3zGIKGzQWIuZE7Wfk/oi4i7RvZN0z9YJ+gDUWaveSZuiqp4QmzgoQE0BZeL41IMr7n/Zbk+CWV+qYwPSe2ucw+upCr1H+IyblK/6gDegH9jMWZTzSL9pXBDvqRlvYH1Hgd7V9hI8j7LzS15m6UaYj9KB9Qd0aB+CNpJlttrS3x7NXE3fauteP2jm1TznWrvfxYwIzmVL32LZov3VOPO712Ct6426sNbG1zdRL+UkMxk587jNqTiW5/89meWbAtvw+qawSCTMCQpO58pqe3xp0kfs9NvLeMrDA7qioQNG/mji4yrw1kXBShi9q9x/Z0XNe+7BlX0/dI+6N9AvtQ78ZC/DjqEK/U/u1z6Va24uys7V9vW6WbiL0oH2pPdzo6knPeNmriTttVX+37qt92HfpJzCLaUSs9dO4VkNv3F1rdc5ds/SijDGf4iEqqoybpTcsRCLGSRtb7QjhYkKIKtp25P4I+zEZqo0tdepkWnv1QM6oe6vo4IQk+u6i9mE/W4nyC/qJJEkTZvp/BAM+EOmrTgwsV0qknVfswT2zdBOhB/alFsPor7a7d90ezxGauMvWvX7snaN9iCXsu/QTmMVUNV+bv8retcyJ5T3Rv0fEXbSNI+ufoRdtE1pBXhNZtrOpgS1qYoBAQEFCzeOaTA9s9p+qmIhEb0fYzeCCrS0PE+UrqdpKFTnvTba8Bm3fXVTw2M9WIvyCtwkc4JHM8hMN6rSXAZnCdn0wOuvfaDt7+sk+ok936iZCDy0cNN73YrlWF3n1aqJWvx7vtVXrOrvPft6ti7N2rnT9LKazYm2kb8jujrgbaXdPXezznTGoOcyV8fFsf8MzJXQCABUiA6Llm6WzHVr1eiZS4NTieH0tUVtJ1AkMYq4V9VEtAa/d23t8RpCdsTnCLwhy1Av/sKg/eezKFv6DhlA/C+MP25ZPgHhfpJ1s4+p2lm4i9NDCAH6jH1vGB61zpCa03tp+j621OluPz9JFq30rXjeLaVSsoT+sG7FUfqKo5zEGXv3EbXTcqV2RdvdqdIZeODZii/ajS3jirBDhbA6qEKTLvwTKT1qOJkZlCqHUXkvodXtiar0uwl8z2z7qT5RfNGGmDfA5g5/Hzm51dVk1oXWfmQSi7Dzbr63rZ+gmSg9b/SuP6VuJMz4crYnSrq3fV23dquvssRm6OGvjatfPYBoVa7pAwfEWC3ksW+evJGOj427Lrgi7yaFnO0Mv9CW2dyzIhifOTJTRITgfCTP2cdzlXwLKCGz2Hir4FIvr8A+/a4Ur+0fXqdA1GGv1jjyubWM/U4nyy1YfNbndOr91jAkKziHJZWzxkyjeo4x1JRrnoZ8zPr9iJ+0YudU+3aWbO/WgrJBE0Ld7YwPumaGJq7bqfaP2Z+hilO1Z65nBdHSsIYYw9iF+uCCgq85gj/wE/3hev7HGuLdXouIu2u69Pl09N0Mv+mBxNEaiX+AKn12dO8ITZ33yYrJ3ZqK+6ryV7sMKEtlwC0ZwLgsGEk1ajpJh3KfXczBgfbo9M0DofSP2ZwRZq91RftlqX321dX7rGAd+agZbDAZlKWOQD1v0Owad1nLFzta6z1w3Qzd36kFZKHOMA3tlhibUnjO26n2j9mfoYpTtWeuZwTQi1lAnxkIWahVbjIFbYyfHVlyzVyLjLtLuvT5dPTdDL+WDFvxZjpXwPReK6NeWJHuLQ3jijEZpJLZXDd0y/inH+LSE4OOTqzIr93HdXiJMLhwYcP/e9TjHNo4GCNY9ajsjyFptj/LLVvvqq63zW8foM263Bn7ex77wWm7P+vuKnbRh5HaGbshwdJzucdEEgg88e9fTr9zeoQnac9ZW3jdyO0MXI+3PWNcMpnfEGmMEW7RXFl1wOBontS7sR8adttVrd9nnEb9n6AV2Y3xUNnv7yEPhI12cPNP3WxJnnWz3Ergzhj/pWohfAwDOxCSEY3Q+HI1V6JbJk2xauTtxJrHvt1F++b6Vf3+pr7bOl8d0UEcih8HqqEA/1BP6dkZLrPusnbxv9HbG4HynHsBLJ4IWX83SxBVbR+uB9c3QBdt+6nYG0+hY01jBmLiVQOkq5t74qnVFj8XaVq/dUXqdoRf2ZSt3AifkT5i7kFeVK9G898w2PHGGo2E0jIfRLvcR0CRn74HFifN9Pqm1pL6qXZPheBY7Zw7Od/jhbNJ8h021NjLZ+nRd1HwQefyJTPmZGvKS2uqwvkEZkWyN8NEKdj9RL6XvwhNnPDlCnNi63EtAkxwEXK2o0GuDSO1eHx9DQH01psaYWlaxM6b399SqK10tK833WLXdykq2bvfAR99IQN++1RaVsHqM3AX/spRV7c7Cb5QdoYqgk7Hi7HI/AX1iRnJcK5o4711Xu9/H+wmskpCuYme/R+bUoG/osifNK9k6x5tuNSsBvgWvJcV45c+kOdOi36p2Z9XBVbvCEmesXFJ4GGBd7iegr1D3VpI1wa49fd9v/btaXCUhXcXOVdXDiTF70gy+K9m6qh5s93gCmhRjPNsqOndm+cR0Vbu3+K5+LCRx1qR5hQlgdSfW7NdA23tq5uc0mAhd5hBYJSFdxc45XuxrlXG495DLbxxnL0asZGufV3z30wi0JMV8W47FvyzfN69q99P0g/50J84QFpMyDOY6sTppni8Z9QcS6a3CNwP+TGOLzj3HmIjAF5nLKnZmZrhlGz+XQrzWCuKX313Wrrnj+Eq23sHDbaxFQBf2akmxzpvau72HWr0uYn9VuyNYzK6za5bWPwxh8sXt3h+jze70m9rX/2LGVmLMSRATsss8AowbbGsPOPOs+9byKnZ+szj/nr4ZUr57+7N6tZKtsxi53dwE+PCJ+KqVMnGG7rFogLeys972rGp3jfHKx+vKaeiVfhvLQR7Cqj3FNVTpSwII6CsefaDha18E5KzBIKC7S1WJBxt9LYg4wqCd7VvzVexcyvn/M1ZXkjiOHm1n9XMlW2cxcrt5CeiD395i0ZbOZybNq9qdVwl9lnUlziouPI1trWj2mee7RxFAYgx/6VOrfTaK7rl6uMp/lBzx/Ky4WsXOc/TzXU0/n9nO6sUZG3ntLFvdrgmUBPQtOebDvcJVZyTMR9fu1TPi3Kp2j+h7xjq6EueMHbJNJmACJmACJmACJmACJhBBwIlzBFXXaQImYAImYAImYAIm8DgCTpwf51J3yARMwARMwARMwARMIIKAE+cIqq7TBEzABEzABEzABEzgcQScOD/Ope6QCZiACZiACZiACZhABAEnzhFUXacJmIAJmIAJmIAJmMDjCDhxfpxL3SETMAETMAETMAETMIEIAk6cI6i6ThMwARMwARMwARMwgccRcOL8OJe6QyZgAiZgAiZgAiZgAhEEnDhHUHWdJmACJmACJmACJmACjyPgxPlxLnWHTMAETMAETMAETMAEIgg4cY6g6jpNwARMwARMwARMwAQeR8CJ8+Nc6g6ZgAmYgAmYgAmYgAlEEHDiHEHVdZqACZiACZiACZiACTyOgBPnx7nUHTIBEzABEzABEzABE4gg8Dd5REvwX6Ap2gAAAABJRU5ErkJggg==)"
   ]
  },
  {
   "cell_type": "code",
   "execution_count": null,
   "metadata": {
    "id": "X7rKcdDZt3t4"
   },
   "outputs": [],
   "source": [
    "resultado.head()"
   ]
  },
  {
   "cell_type": "code",
   "execution_count": null,
   "metadata": {
    "id": "Wzm7XJnYGf-q"
   },
   "outputs": [],
   "source": [
    "B = resultado.drop(columns=['nota','previsao','erro_abs'])\n",
    "B.head()"
   ]
  },
  {
   "cell_type": "code",
   "execution_count": null,
   "metadata": {
    "id": "aubVgeNvH6rf"
   },
   "outputs": [],
   "source": [
    "B = B.assign(unidade=1)\n",
    "B"
   ]
  },
  {
   "cell_type": "code",
   "execution_count": null,
   "metadata": {
    "id": "G04pxaqQI2Ec"
   },
   "outputs": [],
   "source": [
    "B = B[['unidade', 'inicio_estudo', 'tempo_estudo_dia']]\n",
    "B"
   ]
  },
  {
   "cell_type": "code",
   "execution_count": null,
   "metadata": {
    "id": "XLK1Fj9tJY-r"
   },
   "outputs": [],
   "source": [
    "Bt = np.array(B).T\n",
    "Bt"
   ]
  },
  {
   "cell_type": "code",
   "execution_count": null,
   "metadata": {
    "id": "VcEpJYeOJnWS"
   },
   "outputs": [],
   "source": [
    "x2 =  np.dot(np.dot(np.linalg.inv(np.dot(Bt,B)),Bt),b)\n",
    "x2"
   ]
  },
  {
   "cell_type": "markdown",
   "metadata": {
    "id": "SPo3fYjgB_Id"
   },
   "source": [
    "**nota = 6.4871 + 0.0413.inicio_estudo + 0.00644.tempo_estudo_dia**"
   ]
  },
  {
   "cell_type": "code",
   "execution_count": null,
   "metadata": {
    "id": "Io8vEa5MK79A"
   },
   "outputs": [],
   "source": [
    "resultado['previsao2'] = x2[0]+resultado['inicio_estudo']*x2[1]+resultado['tempo_estudo_dia']*x2[2]\n",
    "resultado"
   ]
  },
  {
   "cell_type": "code",
   "execution_count": null,
   "metadata": {
    "id": "_Vt8cwofNeBc"
   },
   "outputs": [],
   "source": [
    "# Erro médio absoluto (MAE)\n",
    "from sklearn.metrics import mean_absolute_error\n",
    "mean_absolute_error(resultado.nota, resultado.previsao2)"
   ]
  },
  {
   "cell_type": "code",
   "execution_count": null,
   "metadata": {
    "id": "dA4qMWtRNpgJ"
   },
   "outputs": [],
   "source": [
    "resultado['erro_abs2'] = abs (resultado.nota - resultado.previsao2)\n",
    "resultado"
   ]
  },
  {
   "cell_type": "code",
   "execution_count": null,
   "metadata": {
    "id": "33t6bYgdy7LC"
   },
   "outputs": [],
   "source": [
    "import statsmodels.formula.api as smf\n",
    "import statsmodels.stats.api as sms"
   ]
  },
  {
   "cell_type": "code",
   "execution_count": null,
   "metadata": {
    "id": "LRJ3RZsQy-2y"
   },
   "outputs": [],
   "source": [
    "# Criação do modelo Usando a biblioteca Statsmodels\n",
    "modelo = smf.ols('nota ~ inicio_estudo + tempo_estudo_dia', data = nota).fit()"
   ]
  },
  {
   "cell_type": "code",
   "execution_count": null,
   "metadata": {
    "id": "JKeHUjQMDJAI"
   },
   "outputs": [],
   "source": [
    "print(modelo.summary())"
   ]
  },
  {
   "cell_type": "markdown",
   "metadata": {
    "id": "HeJyM-QGDeu4"
   },
   "source": [
    "**nota = 6.4871 + 0.0413.inicio_estudo + 0.00644.tempo_estudo_dia**"
   ]
  }
 ],
 "metadata": {
  "colab": {
   "name": "minimos_quadrados.ipynb",
   "provenance": []
  },
  "kernelspec": {
   "display_name": "Python 3",
   "language": "python",
   "name": "python3"
  },
  "language_info": {
   "codemirror_mode": {
    "name": "ipython",
    "version": 3
   },
   "file_extension": ".py",
   "mimetype": "text/x-python",
   "name": "python",
   "nbconvert_exporter": "python",
   "pygments_lexer": "ipython3",
   "version": "3.8.10"
  }
 },
 "nbformat": 4,
 "nbformat_minor": 1
}
