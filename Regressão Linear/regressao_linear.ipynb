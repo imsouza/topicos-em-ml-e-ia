{
 "cells": [
  {
   "cell_type": "markdown",
   "metadata": {},
   "source": [
    "# Importação das bibliotecas"
   ]
  },
  {
   "cell_type": "code",
   "execution_count": null,
   "metadata": {
    "colab": {},
    "colab_type": "code",
    "id": "7Uv0As_YhQgq"
   },
   "outputs": [],
   "source": [
    "from matplotlib import pyplot as plt\n",
    "import pandas as pd\n",
    "import pylab as pl\n",
    "import numpy as np\n",
    "from sklearn import linear_model\n",
    "from sklearn.metrics import r2_score, mean_squared_error, mean_absolute_error\n",
    "from sklearn.model_selection import train_test_split\n",
    "from math import sqrt"
   ]
  },
  {
   "cell_type": "markdown",
   "metadata": {
    "colab_type": "text",
    "id": "t8hYi8enhPJZ"
   },
   "source": [
    "# Download do Dataset"
   ]
  },
  {
   "cell_type": "code",
   "execution_count": null,
   "metadata": {
    "colab": {
     "base_uri": "https://localhost:8080/",
     "height": 397
    },
    "colab_type": "code",
    "id": "WLJtCW09iur4",
    "outputId": "5eb714bd-2ed5-4bb5-ef85-5a8be66ee1a3"
   },
   "outputs": [],
   "source": [
    "!pip3 install wget\n",
    "!wget https://raw.githubusercontent.com/diogocortiz/Crash-Course-IA/master/RegressaoLinear/FuelConsumptionCo2.csv"
   ]
  },
  {
   "cell_type": "markdown",
   "metadata": {
    "colab_type": "text",
    "id": "XqkJ4XAAi1gW"
   },
   "source": [
    "# Carregar o dataset para um Dataframe (Pandas)"
   ]
  },
  {
   "cell_type": "code",
   "execution_count": null,
   "metadata": {
    "colab": {
     "base_uri": "https://localhost:8080/",
     "height": 161
    },
    "colab_type": "code",
    "id": "KmXx30U5i8tz",
    "outputId": "14c0c1aa-93d0-4e83-f363-10180d4d97d5"
   },
   "outputs": [],
   "source": [
    "# Cria um dataset chamado 'df' que receberá os dados do csv\n",
    "df = pd.read_csv(\"FuelConsumptionCo2.csv\")\n",
    "\n",
    "#EXIBE A ESTRUTURA DO DATAFRAME\n",
    "print(df.head())"
   ]
  },
  {
   "cell_type": "markdown",
   "metadata": {
    "colab_type": "text",
    "id": "ZF0DXy89jJHy"
   },
   "source": [
    "# Exibe o resumo do Dataset"
   ]
  },
  {
   "cell_type": "code",
   "execution_count": null,
   "metadata": {
    "colab": {
     "base_uri": "https://localhost:8080/",
     "height": 215
    },
    "colab_type": "code",
    "id": "h8g2qZdPjTXW",
    "outputId": "04ff402d-f856-4c0b-a902-33536acea148"
   },
   "outputs": [],
   "source": [
    "print(df.describe())"
   ]
  },
  {
   "cell_type": "markdown",
   "metadata": {
    "colab_type": "text",
    "id": "UqHW1fhOjVsT"
   },
   "source": [
    "# Selecionar apenas as features do Motor e CO2"
   ]
  },
  {
   "cell_type": "code",
   "execution_count": null,
   "metadata": {
    "colab": {
     "base_uri": "https://localhost:8080/",
     "height": 125
    },
    "colab_type": "code",
    "id": "bt_r3MUxjfDZ",
    "outputId": "37e5a981-c0df-47af-e267-978004556405"
   },
   "outputs": [],
   "source": [
    "motores = df[['ENGINESIZE']]\n",
    "co2 = df[['CO2EMISSIONS']]\n",
    "print(motores.head())"
   ]
  },
  {
   "cell_type": "markdown",
   "metadata": {
    "colab_type": "text",
    "id": "hr9S-RPQjkCc"
   },
   "source": [
    "# Dividir o dataset em dados de treinamento e dados de teste (20%) neste casos vamos usar o train_test_split do scikitlearn"
   ]
  },
  {
   "cell_type": "code",
   "execution_count": null,
   "metadata": {
    "colab": {
     "base_uri": "https://localhost:8080/",
     "height": 35
    },
    "colab_type": "code",
    "id": "aiY_y4rqkFYQ",
    "outputId": "980a2deb-03d4-48eb-c5ae-63f45f625f51"
   },
   "outputs": [],
   "source": [
    "motores_treino, motores_test, co2_treino, co2_teste = train_test_split(motores, co2, test_size=0.2, random_state=42)\n",
    "print(type(motores_treino))"
   ]
  },
  {
   "cell_type": "markdown",
   "metadata": {
    "colab_type": "text",
    "id": "qwQukeUilsPS"
   },
   "source": [
    "# Exibir a correlação entre as features do dataset de treinamento"
   ]
  },
  {
   "cell_type": "code",
   "execution_count": null,
   "metadata": {
    "colab": {
     "base_uri": "https://localhost:8080/",
     "height": 280
    },
    "colab_type": "code",
    "id": "vqji1KAElvcC",
    "outputId": "4ce4de7e-8db6-4eea-ad84-4357159c5dfb"
   },
   "outputs": [],
   "source": [
    "plt.scatter(motores_treino, co2_treino, color='blue')\n",
    "plt.xlabel(\"Motor\")\n",
    "plt.ylabel(\"Emissão de CO2\")\n",
    "plt.show()"
   ]
  },
  {
   "cell_type": "markdown",
   "metadata": {
    "colab_type": "text",
    "id": "xfpFTpMbmMDs"
   },
   "source": [
    "# Treinar o modelo de regressão linear"
   ]
  },
  {
   "cell_type": "code",
   "execution_count": null,
   "metadata": {
    "colab": {
     "base_uri": "https://localhost:8080/",
     "height": 35
    },
    "colab_type": "code",
    "id": "0RgpECLrmQZD",
    "outputId": "90352f31-e54b-441a-855f-57a699cb5a40"
   },
   "outputs": [],
   "source": [
    "# cria um modelo do tipo Regressão Linear\n",
    "modelo =  linear_model.LinearRegression()\n",
    "\n",
    "# Treina o modelo usando o dataset de teste\n",
    "# para encontrar o valor de A E B (Y = A + B.X)\n",
    "# aplicando o método dos mínimos quadrados\n",
    "modelo.fit(motores_treino, co2_treino)"
   ]
  },
  {
   "cell_type": "markdown",
   "metadata": {
    "colab_type": "text",
    "id": "MSZI8DZBncpG"
   },
   "source": [
    "# Exibir os coeficientes (A e B)"
   ]
  },
  {
   "cell_type": "code",
   "execution_count": null,
   "metadata": {
    "colab": {
     "base_uri": "https://localhost:8080/",
     "height": 53
    },
    "colab_type": "code",
    "id": "ECiq3FX9ngC7",
    "outputId": "5ff21650-c23c-41ab-b2a9-eab8a2577890"
   },
   "outputs": [],
   "source": [
    "print('(A) Intercepto: ', modelo.intercept_) # de onde a reta irá partir do eixo Y\n",
    "print('(B) Inclinação: ', modelo.coef_) # inclinação da reta"
   ]
  },
  {
   "cell_type": "markdown",
   "metadata": {
    "colab_type": "text",
    "id": "aEide4fUn5Rn"
   },
   "source": [
    "# Exibir a reta de regressão no dataset de treino"
   ]
  },
  {
   "cell_type": "code",
   "execution_count": null,
   "metadata": {
    "colab": {
     "base_uri": "https://localhost:8080/",
     "height": 280
    },
    "colab_type": "code",
    "id": "85BXAC8jns3n",
    "outputId": "8a532460-ae12-43c6-9c8b-d070770c57ed"
   },
   "outputs": [],
   "source": [
    "plt.scatter(motores_treino, co2_treino, color='blue')\n",
    "plt.plot(motores_treino, modelo.coef_[0][0] * motores_treino + modelo.intercept_[0], '-r')\n",
    "plt.ylabel(\"Emissão de C02\")\n",
    "plt.xlabel(\"Motores\")\n",
    "plt.show()"
   ]
  },
  {
   "cell_type": "markdown",
   "metadata": {
    "colab_type": "text",
    "id": "1PXAj3mIoXyP"
   },
   "source": [
    "# Executar o modelo no dataset de teste"
   ]
  },
  {
   "cell_type": "code",
   "execution_count": null,
   "metadata": {
    "colab": {},
    "colab_type": "code",
    "id": "s03hwwgRodGN"
   },
   "outputs": [],
   "source": [
    "# Primeiro será feito as predições usando o modelo e base de teste\n",
    "predicoesCo2 = modelo.predict(motores_test)"
   ]
  },
  {
   "cell_type": "markdown",
   "metadata": {
    "colab_type": "text",
    "id": "J6pizEb_S-OQ"
   },
   "source": [
    "# Exibir a reta de regressão no dataset de teste"
   ]
  },
  {
   "cell_type": "code",
   "execution_count": null,
   "metadata": {
    "colab": {
     "base_uri": "https://localhost:8080/",
     "height": 279
    },
    "colab_type": "code",
    "id": "AUJesd2PS_ni",
    "outputId": "42d06d8c-54bf-4397-de2d-aa93c700274a",
    "scrolled": true
   },
   "outputs": [],
   "source": [
    "plt.scatter(motores_test, co2_teste, color='blue')\n",
    "plt.plot(motores_test, modelo.coef_[0][0] * motores_test + modelo.intercept_[0], '-r')\n",
    "plt.ylabel(\"Emissão de C02\")\n",
    "plt.xlabel(\"Motores\")\n",
    "plt.show()"
   ]
  },
  {
   "cell_type": "markdown",
   "metadata": {
    "colab_type": "text",
    "id": "WHfWOs27Szxx"
   },
   "source": [
    "# Avaliar o modelo"
   ]
  },
  {
   "cell_type": "code",
   "execution_count": null,
   "metadata": {
    "colab": {
     "base_uri": "https://localhost:8080/",
     "height": 107
    },
    "colab_type": "code",
    "id": "mf5viRxsS3zv",
    "outputId": "ddab295b-1976-45f8-cd91-ce307cefe323"
   },
   "outputs": [],
   "source": [
    "# Exibindo métricas de erros\n",
    "print(\"Soma dos Erros ao Quadrado (SSE): %2.f \" % np.sum((predicoesCo2 - co2_teste) ** 2))\n",
    "print(\"Erro Quadrático Médio (MSE): %.2f\" % mean_squared_error(co2_teste, predicoesCo2))\n",
    "print(\"Erro Médio Absoluto (MAE): %.2f\" % mean_absolute_error(co2_teste, predicoesCo2))\n",
    "print(\"Raiz do Erro Quadrático Médio (RMSE): %.2f \" % sqrt(mean_squared_error(co2_teste, predicoesCo2)))\n",
    "print(\"R2-score: %.2f\" % r2_score(predicoesCo2 , co2_teste) )"
   ]
  }
 ],
 "metadata": {
  "colab": {
   "collapsed_sections": [],
   "name": "CrashCourse - Regressão Linear.ipynb",
   "provenance": []
  },
  "kernelspec": {
   "display_name": "Python 3",
   "language": "python",
   "name": "python3"
  },
  "language_info": {
   "codemirror_mode": {
    "name": "ipython",
    "version": 3
   },
   "file_extension": ".py",
   "mimetype": "text/x-python",
   "name": "python",
   "nbconvert_exporter": "python",
   "pygments_lexer": "ipython3",
   "version": "3.8.10"
  }
 },
 "nbformat": 4,
 "nbformat_minor": 1
}

