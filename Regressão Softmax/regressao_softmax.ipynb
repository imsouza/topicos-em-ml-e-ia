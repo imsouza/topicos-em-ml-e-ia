{
  "nbformat": 4,
  "nbformat_minor": 0,
  "metadata": {
    "colab": {
      "name": "Untitled3.ipynb",
      "provenance": []
    },
    "kernelspec": {
      "name": "python3",
      "display_name": "Python 3"
    },
    "language_info": {
      "name": "python"
    }
  },
  "cells": [
    {
      "cell_type": "markdown",
      "metadata": {
        "id": "8OkywBATqbX5"
      },
      "source": [
        "# Importando Bibliotecas"
      ]
    },
    {
      "cell_type": "code",
      "metadata": {
        "id": "D3XvsQQrqA_V"
      },
      "source": [
        "import torch\n",
        "import torch.nn as nn\n",
        "import numpy as np\n",
        "import matplotlib.pyplot as plt"
      ],
      "execution_count": 1,
      "outputs": []
    },
    {
      "cell_type": "markdown",
      "metadata": {
        "id": "ovLqT9_0qfij"
      },
      "source": [
        "# Preparação dos Dados"
      ]
    },
    {
      "cell_type": "code",
      "metadata": {
        "colab": {
          "base_uri": "https://localhost:8080/"
        },
        "id": "mdIkRVNYqhfR",
        "outputId": "802ed1f3-d9e0-44cc-828c-a75235fad06e"
      },
      "source": [
        "# Datapoints (NOTAS)\n",
        "x_numpy = np.array([2,4,3,5,7,2,9,4,10,9,4,6,1,5,6,9,8,3, 1, 5, 6, 5,2, 7, 8, 2,5,9, 10,2,1,3,8,5,6,5])\n",
        "# 3 classes (0=reprovados, 1=recuperação, 2=aprovados) \n",
        "y_numpy = np.array([0,0,0,1,2,0,2,0,2,2,0,1,0,1,1,2,1,0,0,1,1,1,0,2,2,0,1,2,2,0,0,0,2,1,1,1])\n",
        "\n",
        "x = torch.from_numpy(x_numpy.astype(np.float32))\n",
        "y = torch.from_numpy(y_numpy.astype(np.float32))\n",
        "y = y.long()\n",
        "x = x.view(x.shape[0], 1)\n",
        "\n",
        "print(x.shape)\n",
        "print(y.shape)\n",
        "print(y)"
      ],
      "execution_count": 2,
      "outputs": [
        {
          "output_type": "stream",
          "name": "stdout",
          "text": [
            "torch.Size([36, 1])\n",
            "torch.Size([36])\n",
            "tensor([0, 0, 0, 1, 2, 0, 2, 0, 2, 2, 0, 1, 0, 1, 1, 2, 1, 0, 0, 1, 1, 1, 0, 2,\n",
            "        2, 0, 1, 2, 2, 0, 0, 0, 2, 1, 1, 1])\n"
          ]
        }
      ]
    },
    {
      "cell_type": "markdown",
      "metadata": {
        "id": "yBkfU-Etqlq9"
      },
      "source": [
        "# Classe de Regressão Logística"
      ]
    },
    {
      "cell_type": "code",
      "metadata": {
        "id": "YSy1kvSvqpfr"
      },
      "source": [
        "class RegressaoSoftmax(nn.Module):\n",
        "  def __init__(self, n_input, n_output):\n",
        "    super(RegressaoSoftmax, self).__init__()\n",
        "    self.Linear = nn.Linear(n_input, n_output)\n",
        "\n",
        "  def forward(self, x):\n",
        "    return self.Linear(x)"
      ],
      "execution_count": 3,
      "outputs": []
    },
    {
      "cell_type": "markdown",
      "metadata": {
        "id": "L82lPER7qr1Y"
      },
      "source": [
        "# Definição do Modelo"
      ]
    },
    {
      "cell_type": "code",
      "metadata": {
        "id": "bNMqgWzeqt5F"
      },
      "source": [
        "input_size = 1\n",
        "output_size = 3\n",
        "model = RegressaoSoftmax(input_size, output_size)"
      ],
      "execution_count": 4,
      "outputs": []
    },
    {
      "cell_type": "markdown",
      "metadata": {
        "id": "iVtFt0W4qwAS"
      },
      "source": [
        "# Definição da Função de Custo e Otimizador"
      ]
    },
    {
      "cell_type": "code",
      "metadata": {
        "id": "hqwc44WMqymc"
      },
      "source": [
        "learning_rate = 0.05\n",
        "criterion = nn.CrossEntropyLoss()\n",
        "optimizer = torch.optim.SGD(model.parameters(), lr=learning_rate)"
      ],
      "execution_count": 5,
      "outputs": []
    },
    {
      "cell_type": "markdown",
      "metadata": {
        "id": "RC4ekwcqq2j2"
      },
      "source": [
        "# Loop de Treinamento"
      ]
    },
    {
      "cell_type": "code",
      "metadata": {
        "id": "8Y3xcnoaq4Kh"
      },
      "source": [
        "num_epochs = 1000\n",
        "contador_custo = []\n",
        "for epoch in range(num_epochs):\n",
        "  #forward pass and loos\n",
        "  y_hat = model(x)  \n",
        "  loss = criterion(y_hat, y)\n",
        "  contador_custo.append(loss)\n",
        "  #print(y_hat)\n",
        "\n",
        "  #backward pass (calcular gradientes)\n",
        "  loss.backward()\n",
        "\n",
        "  #update (atualizar os pesos)\n",
        "  optimizer.step()\n",
        "     \n",
        "  #limpar o otimizador\n",
        "  optimizer.zero_grad()"
      ],
      "execution_count": 6,
      "outputs": []
    },
    {
      "cell_type": "markdown",
      "metadata": {
        "id": "ybyRXPiXq8v2"
      },
      "source": [
        "# Plotando o Gráfico da Função de Custo"
      ]
    },
    {
      "cell_type": "code",
      "metadata": {
        "colab": {
          "base_uri": "https://localhost:8080/",
          "height": 282
        },
        "id": "x2luhhafq_od",
        "outputId": "1ae2c577-f347-46b0-a7fe-50ea023a4829"
      },
      "source": [
        "print(\"Gráfico da Função de Custo\")\n",
        "plt.plot(contador_custo, 'b')\n",
        "plt.show()"
      ],
      "execution_count": 7,
      "outputs": [
        {
          "output_type": "stream",
          "name": "stdout",
          "text": [
            "Gráfico da Função de Custo\n"
          ]
        },
        {
          "output_type": "display_data",
          "data": {
            "image/png": "[encoded data removed]",
            "text/plain": [
              "<Figure size 432x288 with 1 Axes>"
            ]
          },
          "metadata": {
            "needs_background": "light"
          }
        }
      ]
    },
    {
      "cell_type": "markdown",
      "metadata": {
        "id": "-ivl1X_JrD2X"
      },
      "source": [
        "# Predição"
      ]
    },
    {
      "cell_type": "code",
      "metadata": {
        "colab": {
          "base_uri": "https://localhost:8080/"
        },
        "id": "unrvc_kSrFUa",
        "outputId": "34d82387-221f-497c-d3e7-e946c4c06080"
      },
      "source": [
        "# fazer predição de teste\n",
        "teste = np.array([4, 9, 7, 2,6])\n",
        "t_teste = torch.from_numpy(teste.astype(np.float32))\n",
        "t_teste = t_teste.view(t_teste.shape[0], 1)\n",
        "\n",
        "with torch.no_grad():\n",
        "  predicoes = model(t_teste)\n",
        "  print (np.argmax(predicoes, axis=1).flatten())"
      ],
      "execution_count": 8,
      "outputs": [
        {
          "output_type": "stream",
          "name": "stdout",
          "text": [
            "tensor([0, 2, 2, 0, 1])\n"
          ]
        }
      ]
    }
  ]
}