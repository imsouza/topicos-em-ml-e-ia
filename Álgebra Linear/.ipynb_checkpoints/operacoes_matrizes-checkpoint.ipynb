{
 "cells": [
  {
   "cell_type": "markdown",
   "metadata": {
    "id": "OpjpWpneKdct"
   },
   "source": [
    "# **OPERAÇÕES COM MATRIZES**"
   ]
  },
  {
   "cell_type": "code",
   "execution_count": 1,
   "metadata": {
    "id": "fkFRGrVFK4Ov"
   },
   "outputs": [],
   "source": [
    "import numpy as np"
   ]
  },
  {
   "cell_type": "markdown",
   "metadata": {
    "id": "7QDUDXo6NbLd"
   },
   "source": [
    "## **Criação das matrizes**"
   ]
  },
  {
   "cell_type": "code",
   "execution_count": 2,
   "metadata": {
    "id": "jA8TGAA5KHKc"
   },
   "outputs": [],
   "source": [
    "matrizA = np.array([[2,-3],\n",
    "                    [4,-6],\n",
    "                    [6, 9]])"
   ]
  },
  {
   "cell_type": "code",
   "execution_count": 3,
   "metadata": {
    "colab": {
     "base_uri": "https://localhost:8080/"
    },
    "id": "VsN5MqG-K_2j",
    "outputId": "bafd2b43-0754-4b86-ceb6-50366035bfb8"
   },
   "outputs": [
    {
     "name": "stdout",
     "output_type": "stream",
     "text": [
      "[[ 2 -3]\n",
      " [ 4 -6]\n",
      " [ 6  9]]\n"
     ]
    }
   ],
   "source": [
    "print(matrizA)"
   ]
  },
  {
   "cell_type": "code",
   "execution_count": 4,
   "metadata": {
    "colab": {
     "base_uri": "https://localhost:8080/"
    },
    "id": "a9j_KzUULEdb",
    "outputId": "b56e0f77-078f-46d7-cab0-e6f2d83407a6"
   },
   "outputs": [
    {
     "data": {
      "text/plain": [
       "array([[ 1,  7],\n",
       "       [-3,  4],\n",
       "       [ 5, -8]])"
      ]
     },
     "execution_count": 4,
     "metadata": {
      "tags": []
     },
     "output_type": "execute_result"
    }
   ],
   "source": [
    "matrizB = np.array([[1,7],\n",
    "                    [-3,4],\n",
    "                    [5,-8]])\n",
    "matrizB"
   ]
  },
  {
   "cell_type": "markdown",
   "metadata": {
    "id": "rd2WYwV3Nf6W"
   },
   "source": [
    "## **Soma das matrizes**"
   ]
  },
  {
   "cell_type": "code",
   "execution_count": 5,
   "metadata": {
    "colab": {
     "base_uri": "https://localhost:8080/"
    },
    "id": "0NtWYPdBLODT",
    "outputId": "cfc48238-ad16-4e85-f028-34f889304753"
   },
   "outputs": [
    {
     "data": {
      "text/plain": [
       "array([[ 3,  4],\n",
       "       [ 1, -2],\n",
       "       [11,  1]])"
      ]
     },
     "execution_count": 5,
     "metadata": {
      "tags": []
     },
     "output_type": "execute_result"
    }
   ],
   "source": [
    "somaAB = matrizA + matrizB\n",
    "somaAB"
   ]
  },
  {
   "cell_type": "code",
   "execution_count": 6,
   "metadata": {
    "colab": {
     "base_uri": "https://localhost:8080/"
    },
    "id": "cP4ndnU0M1LR",
    "outputId": "44f10234-2221-4964-fce1-f2c6a795c949"
   },
   "outputs": [
    {
     "data": {
      "text/plain": [
       "array([[ 3,  4],\n",
       "       [ 1, -2],\n",
       "       [11,  1]])"
      ]
     },
     "execution_count": 6,
     "metadata": {
      "tags": []
     },
     "output_type": "execute_result"
    }
   ],
   "source": [
    "somaBA = matrizB + matrizA\n",
    "somaBA"
   ]
  },
  {
   "cell_type": "markdown",
   "metadata": {
    "id": "iEAB_QMZNmZF"
   },
   "source": [
    "## **Subtração das matrizes**"
   ]
  },
  {
   "cell_type": "code",
   "execution_count": 7,
   "metadata": {
    "colab": {
     "base_uri": "https://localhost:8080/"
    },
    "id": "JngoWKdb4v_l",
    "outputId": "8c07bf26-eb4d-4a8a-eb86-61b5443c9b18"
   },
   "outputs": [
    {
     "data": {
      "text/plain": [
       "array([[ 2, -3],\n",
       "       [ 4, -6],\n",
       "       [ 6,  9]])"
      ]
     },
     "execution_count": 7,
     "metadata": {
      "tags": []
     },
     "output_type": "execute_result"
    }
   ],
   "source": [
    "matrizA"
   ]
  },
  {
   "cell_type": "code",
   "execution_count": 8,
   "metadata": {
    "colab": {
     "base_uri": "https://localhost:8080/"
    },
    "id": "rDg_46k04yO1",
    "outputId": "dce2691d-59d5-452b-f241-23df2511b4f6"
   },
   "outputs": [
    {
     "data": {
      "text/plain": [
       "array([[ 1,  7],\n",
       "       [-3,  4],\n",
       "       [ 5, -8]])"
      ]
     },
     "execution_count": 8,
     "metadata": {
      "tags": []
     },
     "output_type": "execute_result"
    }
   ],
   "source": [
    "matrizB"
   ]
  },
  {
   "cell_type": "code",
   "execution_count": 9,
   "metadata": {
    "colab": {
     "base_uri": "https://localhost:8080/"
    },
    "id": "pndHnInBNDJm",
    "outputId": "f846d76d-8ebb-468c-c003-b9060c3f37b8"
   },
   "outputs": [
    {
     "data": {
      "text/plain": [
       "array([[  1, -10],\n",
       "       [  7, -10],\n",
       "       [  1,  17]])"
      ]
     },
     "execution_count": 9,
     "metadata": {
      "tags": []
     },
     "output_type": "execute_result"
    }
   ],
   "source": [
    "subAB = matrizA - matrizB\n",
    "subAB"
   ]
  },
  {
   "cell_type": "code",
   "execution_count": 10,
   "metadata": {
    "colab": {
     "base_uri": "https://localhost:8080/"
    },
    "id": "5CwZmZT9NLHN",
    "outputId": "a91d5bda-6868-4854-b60f-06f82e0ea451"
   },
   "outputs": [
    {
     "data": {
      "text/plain": [
       "array([[ -1,  10],\n",
       "       [ -7,  10],\n",
       "       [ -1, -17]])"
      ]
     },
     "execution_count": 10,
     "metadata": {
      "tags": []
     },
     "output_type": "execute_result"
    }
   ],
   "source": [
    "subBA = matrizB - matrizA\n",
    "subBA"
   ]
  },
  {
   "cell_type": "markdown",
   "metadata": {
    "id": "D07_RfZ-NsFF"
   },
   "source": [
    "## **Multiplicação por um escalar**"
   ]
  },
  {
   "cell_type": "code",
   "execution_count": 11,
   "metadata": {
    "colab": {
     "base_uri": "https://localhost:8080/"
    },
    "id": "K6iJ8zoYN5v1",
    "outputId": "7f64501a-e5b5-4ecc-bb1b-9a282e080d31"
   },
   "outputs": [
    {
     "data": {
      "text/plain": [
       "array([[ 2, -3],\n",
       "       [ 4, -6],\n",
       "       [ 6,  9]])"
      ]
     },
     "execution_count": 11,
     "metadata": {
      "tags": []
     },
     "output_type": "execute_result"
    }
   ],
   "source": [
    "matrizA"
   ]
  },
  {
   "cell_type": "code",
   "execution_count": 12,
   "metadata": {
    "colab": {
     "base_uri": "https://localhost:8080/"
    },
    "id": "TgfA7zxoNwOS",
    "outputId": "20640d19-794d-45d2-b6b3-153e0ab7a8b5"
   },
   "outputs": [
    {
     "data": {
      "text/plain": [
       "array([[  4,  -6],\n",
       "       [  8, -12],\n",
       "       [ 12,  18]])"
      ]
     },
     "execution_count": 12,
     "metadata": {
      "tags": []
     },
     "output_type": "execute_result"
    }
   ],
   "source": [
    "mult1 = 2*matrizA\n",
    "mult1"
   ]
  },
  {
   "cell_type": "code",
   "execution_count": 13,
   "metadata": {
    "colab": {
     "base_uri": "https://localhost:8080/"
    },
    "id": "MS5yZHmyOEHF",
    "outputId": "2ef1cf84-90b6-4916-be3a-0822601fa726"
   },
   "outputs": [
    {
     "data": {
      "text/plain": [
       "array([[ 1,  7],\n",
       "       [-3,  4],\n",
       "       [ 5, -8]])"
      ]
     },
     "execution_count": 13,
     "metadata": {
      "tags": []
     },
     "output_type": "execute_result"
    }
   ],
   "source": [
    "matrizB"
   ]
  },
  {
   "cell_type": "code",
   "execution_count": 14,
   "metadata": {
    "colab": {
     "base_uri": "https://localhost:8080/"
    },
    "id": "T04oYn1JN89N",
    "outputId": "2f7c8b08-f443-4182-bcc7-26cf9f27b4bc"
   },
   "outputs": [
    {
     "data": {
      "text/plain": [
       "array([[ -3, -21],\n",
       "       [  9, -12],\n",
       "       [-15,  24]])"
      ]
     },
     "execution_count": 14,
     "metadata": {
      "tags": []
     },
     "output_type": "execute_result"
    }
   ],
   "source": [
    "mult2 = -3*matrizB\n",
    "mult2"
   ]
  },
  {
   "cell_type": "markdown",
   "metadata": {
    "id": "7SXV8QjAOJde"
   },
   "source": [
    "## **Multiplicação entre matrizes**"
   ]
  },
  {
   "cell_type": "code",
   "execution_count": 15,
   "metadata": {
    "colab": {
     "base_uri": "https://localhost:8080/"
    },
    "id": "KRExUoeYOboU",
    "outputId": "2264aef3-5453-4747-e493-34e71beac165"
   },
   "outputs": [
    {
     "data": {
      "text/plain": [
       "array([[2, 1],\n",
       "       [3, 4],\n",
       "       [5, 6]])"
      ]
     },
     "execution_count": 15,
     "metadata": {
      "tags": []
     },
     "output_type": "execute_result"
    }
   ],
   "source": [
    "matrizC = np.array([[2,1],\n",
    "                    [3,4],\n",
    "                    [5,6]])\n",
    "matrizC"
   ]
  },
  {
   "cell_type": "code",
   "execution_count": 16,
   "metadata": {
    "colab": {
     "base_uri": "https://localhost:8080/"
    },
    "id": "paDpcsTJOrsD",
    "outputId": "ddc8a228-fa4e-4dcb-8517-1ce12a549423"
   },
   "outputs": [
    {
     "data": {
      "text/plain": [
       "array([[ 7,  8,  0],\n",
       "       [10,  5, -2]])"
      ]
     },
     "execution_count": 16,
     "metadata": {
      "tags": []
     },
     "output_type": "execute_result"
    }
   ],
   "source": [
    "matrizD = np.array([[7,8,0],\n",
    "                    [10,5,-2]])\n",
    "matrizD"
   ]
  },
  {
   "cell_type": "code",
   "execution_count": 17,
   "metadata": {
    "colab": {
     "base_uri": "https://localhost:8080/"
    },
    "id": "cBqaQd3kPMMy",
    "outputId": "4b7511de-29bc-4865-f862-565c2677f153"
   },
   "outputs": [
    {
     "data": {
      "text/plain": [
       "array([[ 24,  21,  -2],\n",
       "       [ 61,  44,  -8],\n",
       "       [ 95,  70, -12]])"
      ]
     },
     "execution_count": 17,
     "metadata": {
      "tags": []
     },
     "output_type": "execute_result"
    }
   ],
   "source": [
    "multCD = np.dot(matrizC,matrizD)\n",
    "multCD"
   ]
  },
  {
   "cell_type": "code",
   "execution_count": null,
   "metadata": {
    "id": "Vx0aThhcBKCw"
   },
   "outputs": [],
   "source": [
    "matrizC*matrizD"
   ]
  },
  {
   "cell_type": "code",
   "execution_count": 19,
   "metadata": {
    "colab": {
     "base_uri": "https://localhost:8080/"
    },
    "id": "P6D1FuiuQfqZ",
    "outputId": "f443e7fa-a006-4cb8-e47a-772b0500f206"
   },
   "outputs": [
    {
     "data": {
      "text/plain": [
       "array([[38, 39],\n",
       "       [25, 18]])"
      ]
     },
     "execution_count": 19,
     "metadata": {
      "tags": []
     },
     "output_type": "execute_result"
    }
   ],
   "source": [
    "multDC = np.dot(matrizD,matrizC)\n",
    "multDC"
   ]
  },
  {
   "cell_type": "code",
   "execution_count": 20,
   "metadata": {
    "colab": {
     "base_uri": "https://localhost:8080/"
    },
    "id": "DO-1QK2JQqGQ",
    "outputId": "5934eada-9d45-4641-83ce-68fa3aded17c"
   },
   "outputs": [
    {
     "data": {
      "text/plain": [
       "array([[3, 1],\n",
       "       [0, 4]])"
      ]
     },
     "execution_count": 20,
     "metadata": {
      "tags": []
     },
     "output_type": "execute_result"
    }
   ],
   "source": [
    "matrizE = np.array([[3,1],\n",
    "                    [0,4]])\n",
    "matrizE"
   ]
  },
  {
   "cell_type": "code",
   "execution_count": 21,
   "metadata": {
    "colab": {
     "base_uri": "https://localhost:8080/"
    },
    "id": "P6jLhj79Qw-X",
    "outputId": "0376727f-4b0a-466b-bcd1-2166648f0510"
   },
   "outputs": [
    {
     "data": {
      "text/plain": [
       "array([[ 2,  6, -2],\n",
       "       [ 3,  7,  5]])"
      ]
     },
     "execution_count": 21,
     "metadata": {
      "tags": []
     },
     "output_type": "execute_result"
    }
   ],
   "source": [
    "matrizF = np.array([[2,6,-2],\n",
    "                    [3,7,5]])\n",
    "matrizF"
   ]
  },
  {
   "cell_type": "code",
   "execution_count": 22,
   "metadata": {
    "colab": {
     "base_uri": "https://localhost:8080/"
    },
    "id": "9y2sEIE4Q_-f",
    "outputId": "9d332a51-6451-4d9a-a3a3-d8191e9dd99e"
   },
   "outputs": [
    {
     "data": {
      "text/plain": [
       "array([[ 9, 25, -1],\n",
       "       [12, 28, 20]])"
      ]
     },
     "execution_count": 22,
     "metadata": {
      "tags": []
     },
     "output_type": "execute_result"
    }
   ],
   "source": [
    "multEF = np.dot(matrizE,matrizF)\n",
    "multEF"
   ]
  },
  {
   "cell_type": "code",
   "execution_count": 23,
   "metadata": {
    "colab": {
     "base_uri": "https://localhost:8080/",
     "height": 218
    },
    "id": "bUVNAMB1RLg3",
    "outputId": "17fdb1e6-0dec-4ccd-f4cd-fcdc9c135431"
   },
   "outputs": [
    {
     "ename": "ValueError",
     "evalue": "ignored",
     "output_type": "error",
     "traceback": [
      "\u001b[0;31m---------------------------------------------------------------------------\u001b[0m",
      "\u001b[0;31mValueError\u001b[0m                                Traceback (most recent call last)",
      "\u001b[0;32m<ipython-input-23-c29457582941>\u001b[0m in \u001b[0;36m<module>\u001b[0;34m()\u001b[0m\n\u001b[0;32m----> 1\u001b[0;31m \u001b[0mmultFE\u001b[0m \u001b[0;34m=\u001b[0m \u001b[0mnp\u001b[0m\u001b[0;34m.\u001b[0m\u001b[0mdot\u001b[0m\u001b[0;34m(\u001b[0m\u001b[0mmatrizF\u001b[0m\u001b[0;34m,\u001b[0m\u001b[0mmatrizE\u001b[0m\u001b[0;34m)\u001b[0m\u001b[0;34m\u001b[0m\u001b[0;34m\u001b[0m\u001b[0m\n\u001b[0m\u001b[1;32m      2\u001b[0m \u001b[0mmultFE\u001b[0m\u001b[0;34m\u001b[0m\u001b[0;34m\u001b[0m\u001b[0m\n",
      "\u001b[0;32m<__array_function__ internals>\u001b[0m in \u001b[0;36mdot\u001b[0;34m(*args, **kwargs)\u001b[0m\n",
      "\u001b[0;31mValueError\u001b[0m: shapes (2,3) and (2,2) not aligned: 3 (dim 1) != 2 (dim 0)"
     ]
    }
   ],
   "source": [
    "multFE = np.dot(matrizF,matrizE)\n",
    "multFE"
   ]
  }
 ],
 "metadata": {
  "colab": {
   "name": "operacoes_matrizes.ipynb",
   "provenance": []
  },
  "kernelspec": {
   "display_name": "Python 3",
   "language": "python",
   "name": "python3"
  },
  "language_info": {
   "codemirror_mode": {
    "name": "ipython",
    "version": 3
   },
   "file_extension": ".py",
   "mimetype": "text/x-python",
   "name": "python",
   "nbconvert_exporter": "python",
   "pygments_lexer": "ipython3",
   "version": "3.8.10"
  }
 },
 "nbformat": 4,
 "nbformat_minor": 1
}
