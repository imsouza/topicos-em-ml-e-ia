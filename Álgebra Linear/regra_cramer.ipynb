{
  "nbformat": 4,
  "nbformat_minor": 0,
  "metadata": {
    "colab": {
      "name": "regra_cramer.ipynb",
      "provenance": []
    },
    "kernelspec": {
      "name": "python3",
      "display_name": "Python 3"
    },
    "language_info": {
      "name": "python"
    }
  },
  "cells": [
    {
      "cell_type": "markdown",
      "metadata": {
        "id": "FlFRE9od7g8_"
      },
      "source": [
        "# **REGRA DE CRAMER**"
      ]
    },
    {
      "cell_type": "code",
      "metadata": {
        "id": "Lxr5-HJtuZTa"
      },
      "source": [
        "import numpy as np\n",
        "import scipy as sp\n",
        "from scipy import linalg"
      ],
      "execution_count": null,
      "outputs": []
    },
    {
      "cell_type": "markdown",
      "metadata": {
        "id": "JhfW0F4m22fW"
      },
      "source": [
        "**SISTEMA**"
      ]
    },
    {
      "cell_type": "markdown",
      "metadata": {
        "id": "r2dUdlll2tQS"
      },
      "source": [
        "## ![image.png](data:image/png;base64,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)"
      ]
    },
    {
      "cell_type": "code",
      "metadata": {
        "id": "CqHMuLcAv4qt"
      },
      "source": [
        "# Matriz dos coeficientes\n",
        "matriz = np.array([[1,2,3],\n",
        "                   [2,-1,1],\n",
        "                   [-2,-3,3]])\n",
        "matriz "
      ],
      "execution_count": null,
      "outputs": []
    },
    {
      "cell_type": "code",
      "metadata": {
        "id": "PBkFZ25caV8r"
      },
      "source": [
        "# Vetor das constantes\n",
        "vetor = np.array([2,-1,-11])\n",
        "vetor"
      ],
      "execution_count": null,
      "outputs": []
    },
    {
      "cell_type": "code",
      "metadata": {
        "id": "4w_gXTBowUUU"
      },
      "source": [
        "matriz.shape"
      ],
      "execution_count": null,
      "outputs": []
    },
    {
      "cell_type": "code",
      "metadata": {
        "id": "zXgnlH6QbUk4"
      },
      "source": [
        "vetor.shape"
      ],
      "execution_count": null,
      "outputs": []
    },
    {
      "cell_type": "markdown",
      "metadata": {
        "id": "1zyO9CEo0gnl"
      },
      "source": [
        "### **Função regra de cramer para sistema com 3 incógnitas**"
      ]
    },
    {
      "cell_type": "code",
      "metadata": {
        "id": "hTiPJ-bOd-7R"
      },
      "source": [
        "matriz"
      ],
      "execution_count": null,
      "outputs": []
    },
    {
      "cell_type": "code",
      "metadata": {
        "id": "XR7_DlSsdlsz"
      },
      "source": [
        "np.array([matriz[:,0],matriz[:,1],matriz[:,2]])"
      ],
      "execution_count": null,
      "outputs": []
    },
    {
      "cell_type": "code",
      "metadata": {
        "id": "aJGvg9Yvd4OM"
      },
      "source": [
        "np.array([matriz[:,0],matriz[:,1],matriz[:,2]]).T"
      ],
      "execution_count": null,
      "outputs": []
    },
    {
      "cell_type": "code",
      "metadata": {
        "id": "Cwc84i4Su2Vb"
      },
      "source": [
        "def cramer3 (A,b):\n",
        "  det = sp.linalg.det(np.array([A[:,0],A[:,1],A[:,2]]).T)\n",
        "  if det != 0:\n",
        "    detx = sp.linalg.det(np.array([b[:],A[:,1],A[:,2]]).T)\n",
        "    dety = sp.linalg.det(np.array([A[:,0],b[:],A[:,2]]).T)\n",
        "    detz = sp.linalg.det(np.array([A[:,0],A[:,1],b[:]]).T)\n",
        "    x = detx/det\n",
        "    y = dety/det\n",
        "    z = detz/det\n",
        "    print('O valor de x é {:.2f}'.format (x))\n",
        "    print('O valor de y é {:.2f}'.format (y))\n",
        "    print('O valor de z é {:.2f}'.format (z))\n",
        "  else:\n",
        "    print(\"Determinante da matriz dos coeficientes é nula\") "
      ],
      "execution_count": null,
      "outputs": []
    },
    {
      "cell_type": "code",
      "metadata": {
        "id": "uf4Q0-eszKTa"
      },
      "source": [
        "cramer3(matriz,vetor)"
      ],
      "execution_count": null,
      "outputs": []
    },
    {
      "cell_type": "markdown",
      "metadata": {
        "id": "OaQa9JgF6IND"
      },
      "source": [
        "![image.png](data:image/png;base64,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)"
      ]
    },
    {
      "cell_type": "code",
      "metadata": {
        "id": "Afa4osnK6uiH"
      },
      "source": [
        "matriz2 = np.array([[3,2,7],\n",
        "                   [4,-29,3],\n",
        "                   [2,3,5]])\n",
        "matriz2"
      ],
      "execution_count": null,
      "outputs": []
    },
    {
      "cell_type": "code",
      "metadata": {
        "id": "D7lRL-ijcK3H"
      },
      "source": [
        "vetor2 = np.array([1,2,2])\n",
        "vetor2"
      ],
      "execution_count": null,
      "outputs": []
    },
    {
      "cell_type": "code",
      "metadata": {
        "id": "ya9VDBOa7HiX"
      },
      "source": [
        "cramer3(matriz2,vetor2)"
      ],
      "execution_count": null,
      "outputs": []
    },
    {
      "cell_type": "code",
      "metadata": {
        "id": "BT_IiYaxcg3Y"
      },
      "source": [
        "sp.linalg.det(matriz2)"
      ],
      "execution_count": null,
      "outputs": []
    },
    {
      "cell_type": "code",
      "metadata": {
        "id": "B31oDzJZ3Ngv"
      },
      "source": [
        "def cramer2 (A,b):\n",
        "  det = sp.linalg.det(np.array([A[:,0],A[:,1]]).T)\n",
        "  if det != 0:\n",
        "    detx = sp.linalg.det(np.array([b[:],A[:,1]]).T)\n",
        "    dety = sp.linalg.det(np.array([A[:,0],b[:]]).T)\n",
        "    x = detx/det\n",
        "    y = dety/det\n",
        "    print('O valor de x é {:.2f}'.format (x))\n",
        "    print('O valor de y é {:.2f}'.format (y))\n",
        "  else:\n",
        "    print(\"Determinante da matriz dos coeficientes é nula\")"
      ],
      "execution_count": null,
      "outputs": []
    },
    {
      "cell_type": "markdown",
      "metadata": {
        "id": "NK5LL3hE4f91"
      },
      "source": [
        "### **Sistema**"
      ]
    },
    {
      "cell_type": "markdown",
      "metadata": {
        "id": "mUIDuj_Z4dVG"
      },
      "source": [
        "![image.png](data:image/png;base64,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)"
      ]
    },
    {
      "cell_type": "code",
      "metadata": {
        "id": "y1h4VUTZ4uDz"
      },
      "source": [
        "matriz3 = np.array([[1,4],\n",
        "                   [2,3]])\n",
        "matriz3"
      ],
      "execution_count": null,
      "outputs": []
    },
    {
      "cell_type": "code",
      "metadata": {
        "id": "NARkFn8bdRec"
      },
      "source": [
        "vetor3 = np.array([200,180])\n",
        "vetor3"
      ],
      "execution_count": null,
      "outputs": []
    },
    {
      "cell_type": "code",
      "metadata": {
        "id": "aJyvLJP25A20"
      },
      "source": [
        "cramer2 (matriz3, vetor3)"
      ],
      "execution_count": null,
      "outputs": []
    }
  ]
}