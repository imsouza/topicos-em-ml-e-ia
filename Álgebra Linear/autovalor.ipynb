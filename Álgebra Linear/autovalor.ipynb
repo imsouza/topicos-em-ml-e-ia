{
  "nbformat": 4,
  "nbformat_minor": 0,
  "metadata": {
    "colab": {
      "name": "autovalor.ipynb",
      "provenance": []
    },
    "kernelspec": {
      "name": "python3",
      "display_name": "Python 3"
    },
    "language_info": {
      "name": "python"
    }
  },
  "cells": [
    {
      "cell_type": "markdown",
      "metadata": {
        "id": "9pVSeD8ZYIib"
      },
      "source": [
        "# AUTOVALOR E AUTOVETOR"
      ]
    },
    {
      "cell_type": "code",
      "metadata": {
        "id": "pVbLxAv_KuOp"
      },
      "source": [
        "import numpy as np"
      ],
      "execution_count": null,
      "outputs": []
    },
    {
      "cell_type": "code",
      "metadata": {
        "id": "bpGX9rwEMAws"
      },
      "source": [
        "A = np.array([[3,0],\n",
        "              [0,1]])\n",
        "A"
      ],
      "execution_count": null,
      "outputs": []
    },
    {
      "cell_type": "code",
      "metadata": {
        "id": "6gdFdHzLMUYJ"
      },
      "source": [
        "autovalor, autovetor = np.linalg.eig(A)"
      ],
      "execution_count": null,
      "outputs": []
    },
    {
      "cell_type": "code",
      "metadata": {
        "id": "sGwWsnP0W3zQ"
      },
      "source": [
        "autovalor"
      ],
      "execution_count": null,
      "outputs": []
    },
    {
      "cell_type": "code",
      "metadata": {
        "id": "Ko9gxSYCW5ru"
      },
      "source": [
        "autovetor"
      ],
      "execution_count": null,
      "outputs": []
    },
    {
      "cell_type": "code",
      "metadata": {
        "id": "dFHl-aiWeHjo"
      },
      "source": [
        "print('O autovalor {:.3f} está associado aos autovetores {:.3f} e {:.3f}'.format(autovalor[0],autovetor[0][0],autovetor[1][0]))\n",
        "print('O autovalor {:.3f} está associado aos autovetores {:.3f} e {:.3f}'.format(autovalor[1],autovetor[0][1],autovetor[1][1]))"
      ],
      "execution_count": null,
      "outputs": []
    },
    {
      "cell_type": "code",
      "metadata": {
        "id": "-Vwo1HnqOGIy"
      },
      "source": [
        "B = np.array([[4,-3],\n",
        "              [2,-1]])"
      ],
      "execution_count": null,
      "outputs": []
    },
    {
      "cell_type": "code",
      "metadata": {
        "id": "HGhwyiQ6blIf"
      },
      "source": [
        "autovalor, autovetor = np.linalg.eig(B)\n",
        "print('O autovalor {:.3f} está associado aos autovetores {:.3f} e {:.3f}'.format(autovalor[0],autovetor[0][0],autovetor[1][0]))\n",
        "print('O autovalor {:.3f} está associado aos autovetores {:.3f} e {:.3f}'.format(autovalor[1],autovetor[0][1],autovetor[1][1]))"
      ],
      "execution_count": null,
      "outputs": []
    }
  ]
}