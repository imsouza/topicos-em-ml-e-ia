{
 "cells": [
  {
   "cell_type": "markdown",
   "metadata": {
    "id": "y0gO3YAT_ClI"
   },
   "source": [
    "# **TRANSFORMAÇÃO LINEAR**"
   ]
  },
  {
   "cell_type": "markdown",
   "metadata": {
    "id": "F68kiXTP_KsF"
   },
   "source": [
    "## **Homotetia**"
   ]
  },
  {
   "cell_type": "code",
   "execution_count": null,
   "metadata": {
    "id": "g4PzgSnU3LSd"
   },
   "outputs": [],
   "source": [
    "import numpy as np\n",
    "import matplotlib.pyplot as plt"
   ]
  },
  {
   "cell_type": "code",
   "execution_count": null,
   "metadata": {
    "id": "L_7d2JOg4Obj"
   },
   "outputs": [],
   "source": [
    "# Vetor que receberá a transformação\n",
    "vetorH = np.array([[2],[1]])\n",
    "vetorH"
   ]
  },
  {
   "cell_type": "code",
   "execution_count": null,
   "metadata": {
    "id": "K_oChGoV31N7"
   },
   "outputs": [],
   "source": [
    "# Parâmetro de proporção\n",
    "k = 3"
   ]
  },
  {
   "cell_type": "code",
   "execution_count": null,
   "metadata": {
    "id": "M73uDg1d3fVV"
   },
   "outputs": [],
   "source": [
    "# Matriz de transformação\n",
    "T = np.array([[k,0],\n",
    "              [0,k]])"
   ]
  },
  {
   "cell_type": "code",
   "execution_count": null,
   "metadata": {
    "id": "UsL--iJI5Rho"
   },
   "outputs": [],
   "source": [
    "# Coordenadas do vetor\n",
    "x = [vetorH[0],0]\n",
    "y = [0,vetorH[1]]"
   ]
  },
  {
   "cell_type": "code",
   "execution_count": null,
   "metadata": {
    "id": "300Ao5ES5Efg"
   },
   "outputs": [],
   "source": [
    "plt.plot(x, y, color = \"blue\");"
   ]
  },
  {
   "cell_type": "code",
   "execution_count": null,
   "metadata": {
    "id": "J3RP9AtH9kEp"
   },
   "outputs": [],
   "source": [
    "# Cálculo para transformação\n",
    "matrizT = np.dot(T, vetorH)\n",
    "matrizT"
   ]
  },
  {
   "cell_type": "code",
   "execution_count": null,
   "metadata": {
    "id": "rFBZucQD9zoh"
   },
   "outputs": [],
   "source": [
    "xT = [matrizT[0],0]\n",
    "yT = [0,matrizT[1]]"
   ]
  },
  {
   "cell_type": "code",
   "execution_count": null,
   "metadata": {
    "id": "qGAMCPqn-Dfu"
   },
   "outputs": [],
   "source": [
    "plt.plot(x, y, color = \"blue\")\n",
    "plt.plot(xT, yT, color = \"red\")\n",
    "plt.show();"
   ]
  },
  {
   "cell_type": "markdown",
   "metadata": {
    "id": "cRj4HSksBGsn"
   },
   "source": [
    "## **Translação**"
   ]
  },
  {
   "cell_type": "code",
   "execution_count": null,
   "metadata": {
    "id": "Kl3JLxiBDpVo"
   },
   "outputs": [],
   "source": [
    "import numpy as np\n",
    "import matplotlib.pyplot as plt"
   ]
  },
  {
   "cell_type": "code",
   "execution_count": null,
   "metadata": {
    "id": "oW69iM2aDpWD"
   },
   "outputs": [],
   "source": [
    "# Vetor que receberá a transformação\n",
    "vetorT = np.array([[3,2],[2,5]])\n",
    "vetorT"
   ]
  },
  {
   "cell_type": "code",
   "execution_count": null,
   "metadata": {
    "id": "2BqYy2NiDpWG"
   },
   "outputs": [],
   "source": [
    "# Matriz de transformação\n",
    "T = np.array([[4,1],\n",
    "              [4,1]])\n",
    "T"
   ]
  },
  {
   "cell_type": "code",
   "execution_count": null,
   "metadata": {
    "id": "SnkXdAf8DpWG"
   },
   "outputs": [],
   "source": [
    "# Coordenadas do vetor\n",
    "x = [vetorT[0][0],vetorT[1][0]]\n",
    "y = [vetorT[0][1],vetorT[1][1]]"
   ]
  },
  {
   "cell_type": "code",
   "execution_count": null,
   "metadata": {
    "id": "LdmWMRZADpWH"
   },
   "outputs": [],
   "source": [
    "plt.plot(x, y, color = \"blue\");"
   ]
  },
  {
   "cell_type": "code",
   "execution_count": null,
   "metadata": {
    "id": "Mww85Nl8DpWI"
   },
   "outputs": [],
   "source": [
    "# Cálculo para transformação\n",
    "matrizT = vetorT + T\n",
    "matrizT"
   ]
  },
  {
   "cell_type": "code",
   "execution_count": null,
   "metadata": {
    "id": "Y5oEdrR3DpWJ"
   },
   "outputs": [],
   "source": [
    "xT = [matrizT[0][0],matrizT[1][0]]\n",
    "yT = [matrizT[0][1],matrizT[1][1]]"
   ]
  },
  {
   "cell_type": "code",
   "execution_count": null,
   "metadata": {
    "id": "mM1XmQvfDpWJ"
   },
   "outputs": [],
   "source": [
    "plt.plot(x, y, color = \"blue\")\n",
    "plt.plot(xT, yT, color = \"red\")\n",
    "plt.show();"
   ]
  },
  {
   "cell_type": "markdown",
   "metadata": {
    "id": "a6dkoE3CDpWM"
   },
   "source": [
    "## **Rotação**"
   ]
  },
  {
   "cell_type": "code",
   "execution_count": null,
   "metadata": {
    "id": "Cab_nRlTMR7x"
   },
   "outputs": [],
   "source": [
    "import numpy as np\n",
    "import matplotlib.pyplot as plt"
   ]
  },
  {
   "cell_type": "code",
   "execution_count": null,
   "metadata": {
    "id": "AftX-u4HMR7y"
   },
   "outputs": [],
   "source": [
    "# Vetor que receberá a transformação\n",
    "vetorR = np.array([[4],[1]])\n",
    "vetorR"
   ]
  },
  {
   "cell_type": "code",
   "execution_count": null,
   "metadata": {
    "id": "1AUTZ3CxM0s_"
   },
   "outputs": [],
   "source": [
    "# pi radiano = 180 graus\n",
    "# Ângulo de rotação (60 graus = pi/3 radianos)\n",
    "alfa = (np.pi/3)"
   ]
  },
  {
   "cell_type": "code",
   "execution_count": null,
   "metadata": {
    "id": "mOwq64yKMR70"
   },
   "outputs": [],
   "source": [
    "# Matriz de transformação\n",
    "T = np.array([[np.cos(alfa), (-np.sin(alfa))],\n",
    "              [np.sin(alfa), np.cos(alfa)]])\n",
    "T"
   ]
  },
  {
   "cell_type": "code",
   "execution_count": null,
   "metadata": {
    "id": "WzPGSFYrMR71"
   },
   "outputs": [],
   "source": [
    "# Coordenadas do vetor\n",
    "x = [0,vetorR[0]]\n",
    "y = [0,vetorR[1]]"
   ]
  },
  {
   "cell_type": "code",
   "execution_count": null,
   "metadata": {
    "id": "6MKrNzUtMR71"
   },
   "outputs": [],
   "source": [
    "plt.plot(x, y, color = \"blue\");"
   ]
  },
  {
   "cell_type": "code",
   "execution_count": null,
   "metadata": {
    "id": "_G5rr0F2MR72"
   },
   "outputs": [],
   "source": [
    "# Cálculo para transformação\n",
    "matrizT = np.dot(T, vetorR)\n",
    "matrizT"
   ]
  },
  {
   "cell_type": "code",
   "execution_count": null,
   "metadata": {
    "id": "5pK6UhKFMR73"
   },
   "outputs": [],
   "source": [
    "xT = [0,matrizT[0]]\n",
    "yT = [0,matrizT[1]]"
   ]
  },
  {
   "cell_type": "code",
   "execution_count": null,
   "metadata": {
    "id": "wRKSWlwfMR73"
   },
   "outputs": [],
   "source": [
    "plt.plot(x, y, color = \"blue\")\n",
    "plt.plot(xT, yT, color = \"red\");"
   ]
  },
  {
   "cell_type": "markdown",
   "metadata": {
    "id": "T50hFJGMPadz"
   },
   "source": [
    "## **Reflexão**"
   ]
  },
  {
   "cell_type": "code",
   "execution_count": null,
   "metadata": {
    "id": "WsD5x8E-xCMW"
   },
   "outputs": [],
   "source": [
    "import numpy as np\n",
    "import matplotlib.pyplot as plt"
   ]
  },
  {
   "cell_type": "code",
   "execution_count": null,
   "metadata": {
    "id": "HgMg7JgsxCMw"
   },
   "outputs": [],
   "source": [
    "# Vetor que receberá a transformação\n",
    "vetorRe = np.array([[1],[3]])\n",
    "vetorRe"
   ]
  },
  {
   "cell_type": "code",
   "execution_count": null,
   "metadata": {
    "id": "nnufUHBgxCMz"
   },
   "outputs": [],
   "source": [
    "# Matriz de transformação\n",
    "T = np.array([[1, 0],\n",
    "              [0, -1]])\n",
    "T"
   ]
  },
  {
   "cell_type": "code",
   "execution_count": null,
   "metadata": {
    "id": "Hh4d4fBJxCM0"
   },
   "outputs": [],
   "source": [
    "# Coordenadas do vetor\n",
    "x = [0,vetorRe[0]]\n",
    "y = [0,vetorRe[1]]"
   ]
  },
  {
   "cell_type": "code",
   "execution_count": null,
   "metadata": {
    "id": "tTkpW11WxCM0"
   },
   "outputs": [],
   "source": [
    "plt.plot(x, y, color = \"blue\");"
   ]
  },
  {
   "cell_type": "code",
   "execution_count": null,
   "metadata": {
    "id": "N7eFnvP2xCM3"
   },
   "outputs": [],
   "source": [
    "# Cálculo para transformação\n",
    "matrizT = np.dot(T, vetorRe)\n",
    "matrizT"
   ]
  },
  {
   "cell_type": "code",
   "execution_count": null,
   "metadata": {
    "id": "J66AQdulxCM3"
   },
   "outputs": [],
   "source": [
    "xT = [0,matrizT[0]]\n",
    "yT = [0,matrizT[1]]"
   ]
  },
  {
   "cell_type": "code",
   "execution_count": null,
   "metadata": {
    "id": "Hpkj3e2QxCM3"
   },
   "outputs": [],
   "source": [
    "plt.plot(x, y, color = \"blue\")\n",
    "plt.plot(xT, yT, color = \"red\");"
   ]
  },
  {
   "cell_type": "markdown",
   "metadata": {
    "id": "wdsQ7f6Dy0yt"
   },
   "source": [
    "## **Cisalhamento**"
   ]
  },
  {
   "cell_type": "code",
   "execution_count": null,
   "metadata": {
    "id": "gsIMRL3Ty0yu"
   },
   "outputs": [],
   "source": [
    "import numpy as np\n",
    "import matplotlib.pyplot as plt"
   ]
  },
  {
   "cell_type": "code",
   "execution_count": null,
   "metadata": {
    "id": "A79RgLlFy0yu"
   },
   "outputs": [],
   "source": [
    "# Vetor que receberá a transformação\n",
    "vetorC = np.array([[2],[2]])\n",
    "vetorC"
   ]
  },
  {
   "cell_type": "code",
   "execution_count": null,
   "metadata": {
    "id": "RSil5H_40SEH"
   },
   "outputs": [],
   "source": [
    "# constante cisalhante\n",
    "k = 3"
   ]
  },
  {
   "cell_type": "markdown",
   "metadata": {
    "id": "cV2On1yS8QFH"
   },
   "source": [
    "### **Eixo x**"
   ]
  },
  {
   "cell_type": "code",
   "execution_count": null,
   "metadata": {
    "id": "ytyNt49Jy0yw"
   },
   "outputs": [],
   "source": [
    "# Matriz de transformação\n",
    "T = np.array([[1, k],\n",
    "              [0, 1]])\n",
    "T"
   ]
  },
  {
   "cell_type": "code",
   "execution_count": null,
   "metadata": {
    "id": "twWaUhSIy0yw"
   },
   "outputs": [],
   "source": [
    "# Coordenadas do vetor\n",
    "x = [vetorC[0],vetorC[0]]\n",
    "y = [0,vetorC[1]]"
   ]
  },
  {
   "cell_type": "code",
   "execution_count": null,
   "metadata": {
    "id": "ULKF5eXdy0yx"
   },
   "outputs": [],
   "source": [
    "plt.plot(x, y, color = \"blue\");"
   ]
  },
  {
   "cell_type": "code",
   "execution_count": null,
   "metadata": {
    "id": "B63K6fSdy0yx"
   },
   "outputs": [],
   "source": [
    "# Cálculo para transformação\n",
    "matrizT = np.dot(T, vetorC)\n",
    "matrizT"
   ]
  },
  {
   "cell_type": "code",
   "execution_count": null,
   "metadata": {
    "id": "SF2vgjMqy0yz"
   },
   "outputs": [],
   "source": [
    "xT = [matrizT[1]+2, matrizT[0]]\n",
    "yT = [0,matrizT[1]]"
   ]
  },
  {
   "cell_type": "code",
   "execution_count": null,
   "metadata": {
    "id": "1uZrIwK9y0yz"
   },
   "outputs": [],
   "source": [
    "plt.plot(x, y, color = \"blue\")\n",
    "plt.plot(xT, yT, color = \"red\");"
   ]
  },
  {
   "cell_type": "markdown",
   "metadata": {
    "id": "ZWr202ml8XpO"
   },
   "source": [
    "### **Eixo y**"
   ]
  },
  {
   "cell_type": "code",
   "execution_count": null,
   "metadata": {
    "id": "q80nS2Ri8YOP"
   },
   "outputs": [],
   "source": [
    "# Matriz de transformação\n",
    "T = np.array([[1, 0],\n",
    "              [k, 1]])\n",
    "T"
   ]
  },
  {
   "cell_type": "code",
   "execution_count": null,
   "metadata": {
    "id": "FbNoDiO88YOR"
   },
   "outputs": [],
   "source": [
    "# Coordenadas do vetor\n",
    "x = [0,vetorC[0]]\n",
    "y = [vetorC[1],vetorC[1]]"
   ]
  },
  {
   "cell_type": "code",
   "execution_count": null,
   "metadata": {
    "id": "ZKU2pQun8YOR"
   },
   "outputs": [],
   "source": [
    "plt.plot(x, y, color = \"blue\");"
   ]
  },
  {
   "cell_type": "code",
   "execution_count": null,
   "metadata": {
    "id": "tM6huZXO8YOS"
   },
   "outputs": [],
   "source": [
    "# Cálculo para transformação\n",
    "matrizT = np.dot(T, vetorC)\n",
    "matrizT"
   ]
  },
  {
   "cell_type": "code",
   "execution_count": null,
   "metadata": {
    "id": "brAJ1yZd8YOS"
   },
   "outputs": [],
   "source": [
    "xT = [0,matrizT[0]]\n",
    "yT = [matrizT[0],matrizT[1]]"
   ]
  },
  {
   "cell_type": "code",
   "execution_count": null,
   "metadata": {
    "id": "Cxs6RdN58YOT"
   },
   "outputs": [],
   "source": [
    "plt.plot(x, y, color = \"blue\")\n",
    "plt.plot(xT, yT, color = \"red\");"
   ]
  },
  {
   "cell_type": "markdown",
   "metadata": {
    "id": "9YNEbgWu-L2s"
   },
   "source": [
    "## **Alongamento e Contração**"
   ]
  },
  {
   "cell_type": "code",
   "execution_count": null,
   "metadata": {
    "id": "pFdPYAAS-L2t"
   },
   "outputs": [],
   "source": [
    "import numpy as np\n",
    "import matplotlib.pyplot as plt"
   ]
  },
  {
   "cell_type": "code",
   "execution_count": null,
   "metadata": {
    "id": "RMgFzCRH-L2u"
   },
   "outputs": [],
   "source": [
    "# Vetor que receberá a transformação\n",
    "vetorA = np.array([[4],[2]])\n",
    "vetorA"
   ]
  },
  {
   "cell_type": "code",
   "execution_count": null,
   "metadata": {
    "id": "7cJiL3Hs-L2v"
   },
   "outputs": [],
   "source": [
    "# constante:\n",
    "# alongamento: k > 1\n",
    "# contração: 0 < k < 1\n",
    "k = 2 "
   ]
  },
  {
   "cell_type": "markdown",
   "metadata": {
    "id": "ot3dTOgQ-L2v"
   },
   "source": [
    "### **Eixo x**"
   ]
  },
  {
   "cell_type": "code",
   "execution_count": null,
   "metadata": {
    "id": "OJRa9oae-L2w"
   },
   "outputs": [],
   "source": [
    "# Matriz de transformação\n",
    "T = np.array([[k, 0],\n",
    "              [0, 1]])\n",
    "T"
   ]
  },
  {
   "cell_type": "code",
   "execution_count": null,
   "metadata": {
    "id": "jcDXpkZQ-L2w"
   },
   "outputs": [],
   "source": [
    "# Coordenadas do vetor\n",
    "x = [0,vetorA[0]]\n",
    "y = [vetorA[1],vetorA[1]]"
   ]
  },
  {
   "cell_type": "code",
   "execution_count": null,
   "metadata": {
    "id": "dm5HYaBc-L2x"
   },
   "outputs": [],
   "source": [
    "plt.plot(x, y, color = \"blue\");"
   ]
  },
  {
   "cell_type": "code",
   "execution_count": null,
   "metadata": {
    "id": "xZB0YTcL-L2y"
   },
   "outputs": [],
   "source": [
    "# Cálculo para transformação\n",
    "matrizT = np.dot(T, vetorA)\n",
    "matrizT"
   ]
  },
  {
   "cell_type": "code",
   "execution_count": null,
   "metadata": {
    "id": "W1oVXJoe-L2z"
   },
   "outputs": [],
   "source": [
    "xT = [0+6,matrizT[0]+6]\n",
    "yT = [matrizT[1],matrizT[1]]"
   ]
  },
  {
   "cell_type": "code",
   "execution_count": null,
   "metadata": {
    "id": "q_q0ZlNe-L2z"
   },
   "outputs": [],
   "source": [
    "plt.plot(x, y, color = \"blue\")\n",
    "plt.plot(xT, yT, color = \"red\");"
   ]
  },
  {
   "cell_type": "markdown",
   "metadata": {
    "id": "mErHTR2m-L22"
   },
   "source": [
    "### **Eixo y**"
   ]
  },
  {
   "cell_type": "code",
   "execution_count": null,
   "metadata": {
    "id": "KfHw4rxIIk39"
   },
   "outputs": [],
   "source": [
    "# Matriz de transformação\n",
    "T = np.array([[1, 0],\n",
    "              [0, k]])\n",
    "T"
   ]
  },
  {
   "cell_type": "code",
   "execution_count": null,
   "metadata": {
    "id": "iDRS2AcZIk4W"
   },
   "outputs": [],
   "source": [
    "# Coordenadas do vetor\n",
    "x = [vetorA[0],vetorA[0]]\n",
    "y = [0,vetorA[1]]"
   ]
  },
  {
   "cell_type": "code",
   "execution_count": null,
   "metadata": {
    "id": "OM5uP0s9Ik4X"
   },
   "outputs": [],
   "source": [
    "plt.plot(x, y, color = \"blue\");"
   ]
  },
  {
   "cell_type": "code",
   "execution_count": null,
   "metadata": {
    "id": "qql-0B_uIk4Y"
   },
   "outputs": [],
   "source": [
    "# Cálculo para transformação\n",
    "matrizT = np.dot(T, vetorA)\n",
    "matrizT"
   ]
  },
  {
   "cell_type": "code",
   "execution_count": null,
   "metadata": {
    "id": "DiQUufzCIk4Y"
   },
   "outputs": [],
   "source": [
    "xT = [matrizT[0],matrizT[0]]\n",
    "yT = [0+4,matrizT[1]+4]"
   ]
  },
  {
   "cell_type": "code",
   "execution_count": null,
   "metadata": {
    "id": "Wr_VP7V7Ik4Z"
   },
   "outputs": [],
   "source": [
    "plt.plot(x, y, color = \"blue\")\n",
    "plt.plot(xT, yT, color = \"red\");"
   ]
  }
 ],
 "metadata": {
  "colab": {
   "name": "transformacao.ipynb",
   "provenance": []
  },
  "kernelspec": {
   "display_name": "Python 3",
   "language": "python",
   "name": "python3"
  },
  "language_info": {
   "codemirror_mode": {
    "name": "ipython",
    "version": 3
   },
   "file_extension": ".py",
   "mimetype": "text/x-python",
   "name": "python",
   "nbconvert_exporter": "python",
   "pygments_lexer": "ipython3",
   "version": "3.8.10"
  }
 },
 "nbformat": 4,
 "nbformat_minor": 1
}
