{
 "cells": [
  {
   "cell_type": "markdown",
   "metadata": {
    "id": "WIHZJFhACMpo"
   },
   "source": [
    "# **TIPOS DE MATRIZES**"
   ]
  },
  {
   "cell_type": "code",
   "execution_count": 1,
   "metadata": {
    "id": "L3C192qbB4sR"
   },
   "outputs": [],
   "source": [
    "import numpy as np"
   ]
  },
  {
   "cell_type": "markdown",
   "metadata": {
    "id": "ZDklz0ouCXr9"
   },
   "source": [
    "## **Criação de uma matriz**"
   ]
  },
  {
   "cell_type": "code",
   "execution_count": 2,
   "metadata": {
    "id": "nPPcWhIjG4YP"
   },
   "outputs": [],
   "source": [
    "matriz = [[1,-2,3],\n",
    "          [-4,5,6],\n",
    "          [7,8,-9]]"
   ]
  },
  {
   "cell_type": "code",
   "execution_count": 3,
   "metadata": {
    "colab": {
     "base_uri": "https://localhost:8080/"
    },
    "id": "ff6UObFAHAcs",
    "outputId": "d83c8e40-c903-4c46-c9c6-aafe1142ee3f"
   },
   "outputs": [
    {
     "data": {
      "text/plain": [
       "list"
      ]
     },
     "execution_count": 3,
     "metadata": {
      "tags": []
     },
     "output_type": "execute_result"
    }
   ],
   "source": [
    "type(matriz)"
   ]
  },
  {
   "cell_type": "code",
   "execution_count": 4,
   "metadata": {
    "colab": {
     "base_uri": "https://localhost:8080/"
    },
    "id": "PlJvmdwnKbkN",
    "outputId": "f61b4d90-05ff-4f42-f7f7-fa4884916c3c"
   },
   "outputs": [
    {
     "data": {
      "text/plain": [
       "array([[ 1, -2,  3],\n",
       "       [-4,  5,  6],\n",
       "       [ 7,  8, -9]])"
      ]
     },
     "execution_count": 4,
     "metadata": {
      "tags": []
     },
     "output_type": "execute_result"
    }
   ],
   "source": [
    "matriz1 = np.array(matriz)\n",
    "matriz1"
   ]
  },
  {
   "cell_type": "code",
   "execution_count": 5,
   "metadata": {
    "colab": {
     "base_uri": "https://localhost:8080/"
    },
    "id": "fBVpS9lfA_ip",
    "outputId": "27c6e0be-28d4-4ba9-9dd6-98eb300444f3"
   },
   "outputs": [
    {
     "data": {
      "text/plain": [
       "numpy.ndarray"
      ]
     },
     "execution_count": 5,
     "metadata": {
      "tags": []
     },
     "output_type": "execute_result"
    }
   ],
   "source": [
    "type(matriz1)"
   ]
  },
  {
   "cell_type": "code",
   "execution_count": 6,
   "metadata": {
    "colab": {
     "base_uri": "https://localhost:8080/"
    },
    "id": "oBCCMycusrYx",
    "outputId": "6875dba7-124a-4891-e85a-a7368dc89c4d"
   },
   "outputs": [
    {
     "data": {
      "text/plain": [
       "(3, 3)"
      ]
     },
     "execution_count": 6,
     "metadata": {
      "tags": []
     },
     "output_type": "execute_result"
    }
   ],
   "source": [
    "matriz1.shape"
   ]
  },
  {
   "cell_type": "code",
   "execution_count": 7,
   "metadata": {
    "colab": {
     "base_uri": "https://localhost:8080/"
    },
    "id": "7lrpXzOlxHED",
    "outputId": "e8261b28-0cf3-4fd4-c838-5538f9ca4b93"
   },
   "outputs": [
    {
     "data": {
      "text/plain": [
       "matrix([[ 1, -2,  3],\n",
       "        [-4,  5,  6],\n",
       "        [ 7,  8, -9]])"
      ]
     },
     "execution_count": 7,
     "metadata": {
      "tags": []
     },
     "output_type": "execute_result"
    }
   ],
   "source": [
    "mat = np.matrix([[1,-2,3],\n",
    "                 [-4,5,6],\n",
    "                 [7,8,-9]])\n",
    "mat"
   ]
  },
  {
   "cell_type": "code",
   "execution_count": 8,
   "metadata": {
    "colab": {
     "base_uri": "https://localhost:8080/"
    },
    "id": "XwCjk1vjxaST",
    "outputId": "a0f1ce7e-4f25-4af1-b939-64c9264992c8"
   },
   "outputs": [
    {
     "data": {
      "text/plain": [
       "numpy.matrix"
      ]
     },
     "execution_count": 8,
     "metadata": {
      "tags": []
     },
     "output_type": "execute_result"
    }
   ],
   "source": [
    "type(mat)"
   ]
  },
  {
   "cell_type": "markdown",
   "metadata": {
    "id": "sPS3xwB9CKKO"
   },
   "source": [
    "https://numpy.org/doc/stable/reference/generated/numpy.matrix.html "
   ]
  },
  {
   "cell_type": "markdown",
   "metadata": {
    "id": "3hx8jP8gAP6X"
   },
   "source": [
    "## **Matriz somente com número 1**"
   ]
  },
  {
   "cell_type": "code",
   "execution_count": 9,
   "metadata": {
    "colab": {
     "base_uri": "https://localhost:8080/"
    },
    "id": "r9Lsxs2YCHP0",
    "outputId": "5a62d372-c1ca-4f21-d352-501e3fe6a519"
   },
   "outputs": [
    {
     "data": {
      "text/plain": [
       "array([[1., 1., 1.],\n",
       "       [1., 1., 1.]])"
      ]
     },
     "execution_count": 9,
     "metadata": {
      "tags": []
     },
     "output_type": "execute_result"
    }
   ],
   "source": [
    "matriz2 = np.ones((2,3))\n",
    "matriz2"
   ]
  },
  {
   "cell_type": "code",
   "execution_count": 10,
   "metadata": {
    "colab": {
     "base_uri": "https://localhost:8080/"
    },
    "id": "CBTQ5_IHKK9G",
    "outputId": "ae02b8d8-578a-4903-b74f-55350d9706ca"
   },
   "outputs": [
    {
     "data": {
      "text/plain": [
       "numpy.ndarray"
      ]
     },
     "execution_count": 10,
     "metadata": {
      "tags": []
     },
     "output_type": "execute_result"
    }
   ],
   "source": [
    "type(matriz2)"
   ]
  },
  {
   "cell_type": "code",
   "execution_count": 11,
   "metadata": {
    "colab": {
     "base_uri": "https://localhost:8080/"
    },
    "id": "vZ6D0fnus9YG",
    "outputId": "506c89b9-82da-4204-d08e-f0a0f6cac525"
   },
   "outputs": [
    {
     "data": {
      "text/plain": [
       "(2, 3)"
      ]
     },
     "execution_count": 11,
     "metadata": {
      "tags": []
     },
     "output_type": "execute_result"
    }
   ],
   "source": [
    "matriz2.shape"
   ]
  },
  {
   "cell_type": "markdown",
   "metadata": {
    "id": "OUQSMwoitD_8"
   },
   "source": [
    "## **Matriz Nula**"
   ]
  },
  {
   "cell_type": "code",
   "execution_count": 12,
   "metadata": {
    "colab": {
     "base_uri": "https://localhost:8080/"
    },
    "id": "GvHDbkR3tDAF",
    "outputId": "4a0120de-101c-4375-ca5f-ed7a6fce197e"
   },
   "outputs": [
    {
     "data": {
      "text/plain": [
       "array([[0., 0., 0., 0.],\n",
       "       [0., 0., 0., 0.],\n",
       "       [0., 0., 0., 0.],\n",
       "       [0., 0., 0., 0.],\n",
       "       [0., 0., 0., 0.]])"
      ]
     },
     "execution_count": 12,
     "metadata": {
      "tags": []
     },
     "output_type": "execute_result"
    }
   ],
   "source": [
    "matriz0 = np.zeros([5,4])\n",
    "matriz0"
   ]
  },
  {
   "cell_type": "code",
   "execution_count": 13,
   "metadata": {
    "colab": {
     "base_uri": "https://localhost:8080/"
    },
    "id": "yXBvMGvLtnFm",
    "outputId": "1bf71132-a2e9-4ceb-8dab-5df3427e0076"
   },
   "outputs": [
    {
     "data": {
      "text/plain": [
       "(5, 4)"
      ]
     },
     "execution_count": 13,
     "metadata": {
      "tags": []
     },
     "output_type": "execute_result"
    }
   ],
   "source": [
    "matriz0.shape"
   ]
  },
  {
   "cell_type": "markdown",
   "metadata": {
    "id": "sg66vvFWAL3v"
   },
   "source": [
    "## **Matriz Diagonal**"
   ]
  },
  {
   "cell_type": "code",
   "execution_count": 14,
   "metadata": {
    "colab": {
     "base_uri": "https://localhost:8080/"
    },
    "id": "Bx_SfghTCYZC",
    "outputId": "a2281dcc-c1a5-4e22-f7b8-d37e7ac5a055"
   },
   "outputs": [
    {
     "data": {
      "text/plain": [
       "array([[ 2,  0,  0,  0,  0],\n",
       "       [ 0,  4,  0,  0,  0],\n",
       "       [ 0,  0,  6,  0,  0],\n",
       "       [ 0,  0,  0,  8,  0],\n",
       "       [ 0,  0,  0,  0, 10]])"
      ]
     },
     "execution_count": 14,
     "metadata": {
      "tags": []
     },
     "output_type": "execute_result"
    }
   ],
   "source": [
    "matriz3 = np.diag((2,4,6,8,10))\n",
    "matriz3"
   ]
  },
  {
   "cell_type": "markdown",
   "metadata": {
    "id": "oNSYfAQb__k6"
   },
   "source": [
    "## **Matriz Identidade**"
   ]
  },
  {
   "cell_type": "code",
   "execution_count": 15,
   "metadata": {
    "colab": {
     "base_uri": "https://localhost:8080/"
    },
    "id": "JYbpc3P998_y",
    "outputId": "be9effc7-a4cc-45b8-8776-fbe7d12b984b"
   },
   "outputs": [
    {
     "data": {
      "text/plain": [
       "array([[1., 0., 0.],\n",
       "       [0., 1., 0.],\n",
       "       [0., 0., 1.]])"
      ]
     },
     "execution_count": 15,
     "metadata": {
      "tags": []
     },
     "output_type": "execute_result"
    }
   ],
   "source": [
    "matriz4 = np.identity(3)\n",
    "matriz4"
   ]
  },
  {
   "cell_type": "code",
   "execution_count": 16,
   "metadata": {
    "colab": {
     "base_uri": "https://localhost:8080/"
    },
    "id": "cdtWEwOWuSh8",
    "outputId": "778d3f9c-792a-4eff-90e1-40eb2ccd148a"
   },
   "outputs": [
    {
     "data": {
      "text/plain": [
       "array([[1., 0., 0., 0., 0., 0.],\n",
       "       [0., 1., 0., 0., 0., 0.],\n",
       "       [0., 0., 1., 0., 0., 0.],\n",
       "       [0., 0., 0., 1., 0., 0.],\n",
       "       [0., 0., 0., 0., 1., 0.],\n",
       "       [0., 0., 0., 0., 0., 1.]])"
      ]
     },
     "execution_count": 16,
     "metadata": {
      "tags": []
     },
     "output_type": "execute_result"
    }
   ],
   "source": [
    "matriz4 = np.eye(6)\n",
    "matriz4"
   ]
  },
  {
   "cell_type": "markdown",
   "metadata": {
    "id": "Q_KA1drS_2JD"
   },
   "source": [
    "## **Matriz Transposta**"
   ]
  },
  {
   "cell_type": "code",
   "execution_count": 17,
   "metadata": {
    "colab": {
     "base_uri": "https://localhost:8080/"
    },
    "id": "r61A2aLeBboJ",
    "outputId": "70a22a03-1848-4367-973a-c9debaa83d57"
   },
   "outputs": [
    {
     "name": "stdout",
     "output_type": "stream",
     "text": [
      "[[ 1 -2  3]\n",
      " [-4  5  6]\n",
      " [ 7  8 -9]]\n"
     ]
    }
   ],
   "source": [
    "print(matriz1)"
   ]
  },
  {
   "cell_type": "code",
   "execution_count": 18,
   "metadata": {
    "colab": {
     "base_uri": "https://localhost:8080/"
    },
    "id": "UPiKqt7u_wuW",
    "outputId": "ae2a9543-8407-4a32-e02f-e677dfd175c2"
   },
   "outputs": [
    {
     "data": {
      "text/plain": [
       "array([[ 1, -4,  7],\n",
       "       [-2,  5,  8],\n",
       "       [ 3,  6, -9]])"
      ]
     },
     "execution_count": 18,
     "metadata": {
      "tags": []
     },
     "output_type": "execute_result"
    }
   ],
   "source": [
    "matriz5 = np.array(matriz1).T\n",
    "matriz5"
   ]
  },
  {
   "cell_type": "markdown",
   "metadata": {
    "id": "nYg0isaZC4Yl"
   },
   "source": [
    "## **Matriz Oposta**"
   ]
  },
  {
   "cell_type": "code",
   "execution_count": 19,
   "metadata": {
    "colab": {
     "base_uri": "https://localhost:8080/"
    },
    "id": "Uv-Q3c9mC8Jc",
    "outputId": "3a8ea37d-ddd7-4903-faea-6bc1763a9433"
   },
   "outputs": [
    {
     "data": {
      "text/plain": [
       "array([[-1,  2, -3],\n",
       "       [ 4, -5, -6],\n",
       "       [-7, -8,  9]])"
      ]
     },
     "execution_count": 19,
     "metadata": {
      "tags": []
     },
     "output_type": "execute_result"
    }
   ],
   "source": [
    "matriz6 = -1*matriz1\n",
    "matriz6"
   ]
  },
  {
   "cell_type": "markdown",
   "metadata": {
    "id": "TfONgs-01XDF"
   },
   "source": [
    "## **Matriz linha e matriz coluna**"
   ]
  },
  {
   "cell_type": "code",
   "execution_count": 20,
   "metadata": {
    "colab": {
     "base_uri": "https://localhost:8080/"
    },
    "id": "JiQEFjQ51WKG",
    "outputId": "e702012b-0150-420b-b753-b3aab9438045"
   },
   "outputs": [
    {
     "data": {
      "text/plain": [
       "array([[2, 3, 4, 5]])"
      ]
     },
     "execution_count": 20,
     "metadata": {
      "tags": []
     },
     "output_type": "execute_result"
    }
   ],
   "source": [
    "# Matriz linha\n",
    "linha = np.array([[2,3,4,5]])\n",
    "linha"
   ]
  },
  {
   "cell_type": "code",
   "execution_count": 21,
   "metadata": {
    "colab": {
     "base_uri": "https://localhost:8080/"
    },
    "id": "lwPQ7rHS1wiR",
    "outputId": "52ddb2c9-4a4f-4edf-a7d7-e5c48c846413"
   },
   "outputs": [
    {
     "data": {
      "text/plain": [
       "(1, 4)"
      ]
     },
     "execution_count": 21,
     "metadata": {
      "tags": []
     },
     "output_type": "execute_result"
    }
   ],
   "source": [
    "linha.shape"
   ]
  },
  {
   "cell_type": "code",
   "execution_count": 22,
   "metadata": {
    "colab": {
     "base_uri": "https://localhost:8080/"
    },
    "id": "9X-WMtf215Yc",
    "outputId": "a9619b24-dee6-4fbf-f0a6-dc41d2134e43"
   },
   "outputs": [
    {
     "data": {
      "text/plain": [
       "array([[2],\n",
       "       [3],\n",
       "       [4],\n",
       "       [5]])"
      ]
     },
     "execution_count": 22,
     "metadata": {
      "tags": []
     },
     "output_type": "execute_result"
    }
   ],
   "source": [
    "# Matriz coluna\n",
    "coluna = np.array([[2],[3],[4],[5]])\n",
    "coluna"
   ]
  },
  {
   "cell_type": "code",
   "execution_count": 23,
   "metadata": {
    "colab": {
     "base_uri": "https://localhost:8080/"
    },
    "id": "2PfBHHhk2UM0",
    "outputId": "27772920-acab-4821-b98d-d47e3ce37fc5"
   },
   "outputs": [
    {
     "data": {
      "text/plain": [
       "(4, 1)"
      ]
     },
     "execution_count": 23,
     "metadata": {
      "tags": []
     },
     "output_type": "execute_result"
    }
   ],
   "source": [
    "coluna.shape"
   ]
  },
  {
   "cell_type": "markdown",
   "metadata": {
    "id": "vj3kM8SyusEU"
   },
   "source": [
    "## **Manipulação de Matrizes**"
   ]
  },
  {
   "cell_type": "code",
   "execution_count": 24,
   "metadata": {
    "colab": {
     "base_uri": "https://localhost:8080/"
    },
    "id": "f2q1AiuQvnr5",
    "outputId": "ec67ed8d-5418-434e-d030-1e1908c695f3"
   },
   "outputs": [
    {
     "data": {
      "text/plain": [
       "array([[ 1, -2,  3],\n",
       "       [-4,  5,  6],\n",
       "       [ 7,  8, -9]])"
      ]
     },
     "execution_count": 24,
     "metadata": {
      "tags": []
     },
     "output_type": "execute_result"
    }
   ],
   "source": [
    "matriz1"
   ]
  },
  {
   "cell_type": "code",
   "execution_count": 25,
   "metadata": {
    "colab": {
     "base_uri": "https://localhost:8080/"
    },
    "id": "GO8q5uSNv6n5",
    "outputId": "62ebc14e-5e67-4411-a497-7abcbf461311"
   },
   "outputs": [
    {
     "data": {
      "text/plain": [
       "1"
      ]
     },
     "execution_count": 25,
     "metadata": {
      "tags": []
     },
     "output_type": "execute_result"
    }
   ],
   "source": [
    "matriz1[0,0]"
   ]
  },
  {
   "cell_type": "code",
   "execution_count": 26,
   "metadata": {
    "colab": {
     "base_uri": "https://localhost:8080/"
    },
    "id": "WYn6YCnHvuRy",
    "outputId": "572ec676-1261-4f0b-d485-5f094610a638"
   },
   "outputs": [
    {
     "data": {
      "text/plain": [
       "-2"
      ]
     },
     "execution_count": 26,
     "metadata": {
      "tags": []
     },
     "output_type": "execute_result"
    }
   ],
   "source": [
    "matriz1[0,1]"
   ]
  },
  {
   "cell_type": "code",
   "execution_count": 27,
   "metadata": {
    "colab": {
     "base_uri": "https://localhost:8080/",
     "height": 166
    },
    "id": "R76XYeTrwBZx",
    "outputId": "560a606d-c77c-4598-a96e-3cf1c5cb1a7e"
   },
   "outputs": [
    {
     "ename": "IndexError",
     "evalue": "ignored",
     "output_type": "error",
     "traceback": [
      "\u001b[0;31m---------------------------------------------------------------------------\u001b[0m",
      "\u001b[0;31mIndexError\u001b[0m                                Traceback (most recent call last)",
      "\u001b[0;32m<ipython-input-27-a88de835eab6>\u001b[0m in \u001b[0;36m<module>\u001b[0;34m()\u001b[0m\n\u001b[0;32m----> 1\u001b[0;31m \u001b[0mmatriz1\u001b[0m\u001b[0;34m[\u001b[0m\u001b[0;36m2\u001b[0m\u001b[0;34m,\u001b[0m\u001b[0;36m3\u001b[0m\u001b[0;34m]\u001b[0m\u001b[0;34m\u001b[0m\u001b[0;34m\u001b[0m\u001b[0m\n\u001b[0m",
      "\u001b[0;31mIndexError\u001b[0m: index 3 is out of bounds for axis 1 with size 3"
     ]
    }
   ],
   "source": [
    "matriz1[2,3]"
   ]
  },
  {
   "cell_type": "code",
   "execution_count": 28,
   "metadata": {
    "colab": {
     "base_uri": "https://localhost:8080/"
    },
    "id": "7l_LFKqiwOfp",
    "outputId": "6c5e004f-a6b9-44d9-fbc9-9e958172a863"
   },
   "outputs": [
    {
     "data": {
      "text/plain": [
       "array([[ 1, -2,  3],\n",
       "       [-4,  5,  6],\n",
       "       [ 7,  8, -9]])"
      ]
     },
     "execution_count": 28,
     "metadata": {
      "tags": []
     },
     "output_type": "execute_result"
    }
   ],
   "source": [
    "matriz1[:]"
   ]
  },
  {
   "cell_type": "code",
   "execution_count": 29,
   "metadata": {
    "colab": {
     "base_uri": "https://localhost:8080/"
    },
    "id": "xMmF90npwYLo",
    "outputId": "55f0e95c-f44e-4d46-9c41-70b45bac642b"
   },
   "outputs": [
    {
     "data": {
      "text/plain": [
       "array([ 7,  8, -9])"
      ]
     },
     "execution_count": 29,
     "metadata": {
      "tags": []
     },
     "output_type": "execute_result"
    }
   ],
   "source": [
    "matriz1[2,:]"
   ]
  },
  {
   "cell_type": "code",
   "execution_count": 30,
   "metadata": {
    "colab": {
     "base_uri": "https://localhost:8080/"
    },
    "id": "1kNTIwxPwrcu",
    "outputId": "bea9c6ea-508e-4309-ed12-81535b6191e9"
   },
   "outputs": [
    {
     "data": {
      "text/plain": [
       "array([-2,  5,  8])"
      ]
     },
     "execution_count": 30,
     "metadata": {
      "tags": []
     },
     "output_type": "execute_result"
    }
   ],
   "source": [
    "matriz1[:,1]"
   ]
  },
  {
   "cell_type": "code",
   "execution_count": 31,
   "metadata": {
    "colab": {
     "base_uri": "https://localhost:8080/"
    },
    "id": "ZDux0P7mxLzY",
    "outputId": "1cfdebb5-5766-4ec5-e98b-eb88e1211081"
   },
   "outputs": [
    {
     "data": {
      "text/plain": [
       "array([[ 1, -2,  3],\n",
       "       [-4,  5,  6],\n",
       "       [ 7,  8, -9]])"
      ]
     },
     "execution_count": 31,
     "metadata": {
      "tags": []
     },
     "output_type": "execute_result"
    }
   ],
   "source": [
    "matriz7 = matriz1.copy()\n",
    "matriz7"
   ]
  },
  {
   "cell_type": "code",
   "execution_count": 32,
   "metadata": {
    "colab": {
     "base_uri": "https://localhost:8080/"
    },
    "id": "VWDlRCKkxcjO",
    "outputId": "6cc7467e-2a0f-429c-98f8-cd7d894625d4"
   },
   "outputs": [
    {
     "data": {
      "text/plain": [
       "array([[ 1, -2, 10],\n",
       "       [-4,  5,  6],\n",
       "       [ 7,  8, -9]])"
      ]
     },
     "execution_count": 32,
     "metadata": {
      "tags": []
     },
     "output_type": "execute_result"
    }
   ],
   "source": [
    "matriz7[0,2] = 10\n",
    "matriz7"
   ]
  },
  {
   "cell_type": "code",
   "execution_count": 33,
   "metadata": {
    "colab": {
     "base_uri": "https://localhost:8080/"
    },
    "id": "GwgoZ4MSxshG",
    "outputId": "7b2737cb-0bda-42f6-cfa0-f1c1961d21d1"
   },
   "outputs": [
    {
     "data": {
      "text/plain": [
       "array([[  1,  -2,  10],\n",
       "       [ -4, -12,   6],\n",
       "       [  7,   8,  -9]])"
      ]
     },
     "execution_count": 33,
     "metadata": {
      "tags": []
     },
     "output_type": "execute_result"
    }
   ],
   "source": [
    "matriz7[1,1] = -12\n",
    "matriz7"
   ]
  },
  {
   "cell_type": "code",
   "execution_count": 34,
   "metadata": {
    "colab": {
     "base_uri": "https://localhost:8080/"
    },
    "id": "mdclzBO_x2BU",
    "outputId": "b7f875a7-eb92-435c-ce0d-7af29bd8905e"
   },
   "outputs": [
    {
     "data": {
      "text/plain": [
       "array([ -4, -12,   6])"
      ]
     },
     "execution_count": 34,
     "metadata": {
      "tags": []
     },
     "output_type": "execute_result"
    }
   ],
   "source": [
    "matriz8 = matriz7[1,:]\n",
    "matriz8"
   ]
  },
  {
   "cell_type": "code",
   "execution_count": 35,
   "metadata": {
    "colab": {
     "base_uri": "https://localhost:8080/"
    },
    "id": "o75IkSpcyFZF",
    "outputId": "46407a36-da45-490e-e114-3735c92734a8"
   },
   "outputs": [
    {
     "data": {
      "text/plain": [
       "array([ 1, -4,  7])"
      ]
     },
     "execution_count": 35,
     "metadata": {
      "tags": []
     },
     "output_type": "execute_result"
    }
   ],
   "source": [
    "matriz9 = matriz7[:,0]\n",
    "matriz9"
   ]
  },
  {
   "cell_type": "code",
   "execution_count": 38,
   "metadata": {
    "colab": {
     "base_uri": "https://localhost:8080/"
    },
    "id": "Tl6VtKsDyVb1",
    "outputId": "c0e46803-8c1c-4c70-9ff4-f55dd4307187"
   },
   "outputs": [
    {
     "data": {
      "text/plain": [
       "array([7, 8])"
      ]
     },
     "execution_count": 38,
     "metadata": {
      "tags": []
     },
     "output_type": "execute_result"
    }
   ],
   "source": [
    "matriz10 = matriz7[2,0:2]\n",
    "matriz10"
   ]
  }
 ],
 "metadata": {
  "colab": {
   "name": "matrizes.ipynb",
   "provenance": []
  },
  "kernelspec": {
   "display_name": "Python 3",
   "language": "python",
   "name": "python3"
  },
  "language_info": {
   "codemirror_mode": {
    "name": "ipython",
    "version": 3
   },
   "file_extension": ".py",
   "mimetype": "text/x-python",
   "name": "python",
   "nbconvert_exporter": "python",
   "pygments_lexer": "ipython3",
   "version": "3.8.10"
  }
 },
 "nbformat": 4,
 "nbformat_minor": 1
}
